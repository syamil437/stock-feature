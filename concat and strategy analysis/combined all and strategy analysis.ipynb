{
 "cells": [
  {
   "cell_type": "code",
   "execution_count": 1,
   "metadata": {},
   "outputs": [],
   "source": [
    "import pandas as pd\n",
    "import numpy as np\n",
    "import matplotlib.pyplot as plt\n"
   ]
  },
  {
   "cell_type": "code",
   "execution_count": 2,
   "metadata": {},
   "outputs": [],
   "source": [
    "# combine all df\n",
    "df1 = pd.read_csv(\"result GREATEC.csv\", parse_dates = True)\n",
    "df2 = pd.read_csv(\"result UWC.csv\", parse_dates = True)\n",
    "df3 = pd.read_csv(\"result D&O.csv\", parse_dates = True)\n",
    "df4 = pd.read_csv(\"result GENETEC.csv\", parse_dates = True)\n",
    "df5 = pd.read_csv(\"result UNISEM.csv\", parse_dates = True)\n",
    "df6 = pd.read_csv(\"result FRONTKN.csv\", parse_dates = True)\n",
    "df7 = pd.read_csv(\"result ATAIMS.csv\", parse_dates = True)\n",
    "\n",
    "df9 = pd.read_csv(\"result FPI.csv\", parse_dates = True)\n",
    "df10 = pd.read_csv(\"result PENTA.csv\", parse_dates = True)\n",
    "df11 = pd.read_csv(\"result DUFU.csv\", parse_dates = True)\n",
    "df12 = pd.read_csv(\"result VS.csv\", parse_dates = True)\n",
    "df13 = pd.read_csv(\"result SKPRES.csv\", parse_dates = True)\n",
    "df14 = pd.read_csv(\"result MPI.csv\", parse_dates = True)\n",
    "df15 = pd.read_csv(\"result VITROX.csv\", parse_dates = True)\n",
    "\n",
    "# Merging all df\n",
    "df_all = pd.concat([df1, df2, df3, df4, df5, df6, df7, df9, df10, df11, df12, df13, df14, df15], axis=0)\n"
   ]
  },
  {
   "cell_type": "code",
   "execution_count": 3,
   "metadata": {},
   "outputs": [],
   "source": [
    "# sorting all values by dates\n",
    "df_all = df_all.sort_values(by=\"Buy_Date\")"
   ]
  },
  {
   "cell_type": "code",
   "execution_count": 4,
   "metadata": {},
   "outputs": [
    {
     "data": {
      "text/html": [
       "<div>\n",
       "<style scoped>\n",
       "    .dataframe tbody tr th:only-of-type {\n",
       "        vertical-align: middle;\n",
       "    }\n",
       "\n",
       "    .dataframe tbody tr th {\n",
       "        vertical-align: top;\n",
       "    }\n",
       "\n",
       "    .dataframe thead th {\n",
       "        text-align: right;\n",
       "    }\n",
       "</style>\n",
       "<table border=\"1\" class=\"dataframe\">\n",
       "  <thead>\n",
       "    <tr style=\"text-align: right;\">\n",
       "      <th></th>\n",
       "      <th>Buy</th>\n",
       "      <th>Sell</th>\n",
       "      <th>Sell_Date</th>\n",
       "      <th>Pct_change</th>\n",
       "      <th>wr</th>\n",
       "      <th>Stock</th>\n",
       "    </tr>\n",
       "    <tr>\n",
       "      <th>Buy_Date</th>\n",
       "      <th></th>\n",
       "      <th></th>\n",
       "      <th></th>\n",
       "      <th></th>\n",
       "      <th></th>\n",
       "      <th></th>\n",
       "    </tr>\n",
       "  </thead>\n",
       "  <tbody>\n",
       "    <tr>\n",
       "      <th>1994-09-07</th>\n",
       "      <td>4.58</td>\n",
       "      <td>4.46</td>\n",
       "      <td>1995-01-03</td>\n",
       "      <td>-2.620087</td>\n",
       "      <td>0</td>\n",
       "      <td>MPI</td>\n",
       "    </tr>\n",
       "    <tr>\n",
       "      <th>1994-09-27</th>\n",
       "      <td>4.72</td>\n",
       "      <td>4.46</td>\n",
       "      <td>1995-01-03</td>\n",
       "      <td>-5.508475</td>\n",
       "      <td>0</td>\n",
       "      <td>MPI</td>\n",
       "    </tr>\n",
       "    <tr>\n",
       "      <th>1994-09-30</th>\n",
       "      <td>4.80</td>\n",
       "      <td>4.46</td>\n",
       "      <td>1995-01-03</td>\n",
       "      <td>-7.083333</td>\n",
       "      <td>0</td>\n",
       "      <td>MPI</td>\n",
       "    </tr>\n",
       "    <tr>\n",
       "      <th>1994-09-30</th>\n",
       "      <td>2.64</td>\n",
       "      <td>2.25</td>\n",
       "      <td>1994-12-22</td>\n",
       "      <td>-14.772727</td>\n",
       "      <td>0</td>\n",
       "      <td>ATAIMS</td>\n",
       "    </tr>\n",
       "    <tr>\n",
       "      <th>1994-10-04</th>\n",
       "      <td>2.66</td>\n",
       "      <td>2.25</td>\n",
       "      <td>1994-12-22</td>\n",
       "      <td>-15.413534</td>\n",
       "      <td>0</td>\n",
       "      <td>ATAIMS</td>\n",
       "    </tr>\n",
       "    <tr>\n",
       "      <th>...</th>\n",
       "      <td>...</td>\n",
       "      <td>...</td>\n",
       "      <td>...</td>\n",
       "      <td>...</td>\n",
       "      <td>...</td>\n",
       "      <td>...</td>\n",
       "    </tr>\n",
       "    <tr>\n",
       "      <th>2021-01-11</th>\n",
       "      <td>6.22</td>\n",
       "      <td>7.40</td>\n",
       "      <td>2021-01-19</td>\n",
       "      <td>18.971061</td>\n",
       "      <td>1</td>\n",
       "      <td>UNISEM</td>\n",
       "    </tr>\n",
       "    <tr>\n",
       "      <th>2021-01-11</th>\n",
       "      <td>4.70</td>\n",
       "      <td>5.94</td>\n",
       "      <td>2021-01-20</td>\n",
       "      <td>26.382979</td>\n",
       "      <td>1</td>\n",
       "      <td>UWC</td>\n",
       "    </tr>\n",
       "    <tr>\n",
       "      <th>2021-01-11</th>\n",
       "      <td>5.01</td>\n",
       "      <td>5.70</td>\n",
       "      <td>2021-01-14</td>\n",
       "      <td>13.772455</td>\n",
       "      <td>1</td>\n",
       "      <td>PENTA</td>\n",
       "    </tr>\n",
       "    <tr>\n",
       "      <th>2021-01-12</th>\n",
       "      <td>2.27</td>\n",
       "      <td>2.80</td>\n",
       "      <td>2021-01-18</td>\n",
       "      <td>23.348018</td>\n",
       "      <td>1</td>\n",
       "      <td>FPI</td>\n",
       "    </tr>\n",
       "    <tr>\n",
       "      <th>2021-01-26</th>\n",
       "      <td>2.22</td>\n",
       "      <td>4.35</td>\n",
       "      <td>2021-02-08</td>\n",
       "      <td>95.945946</td>\n",
       "      <td>1</td>\n",
       "      <td>GENETEC</td>\n",
       "    </tr>\n",
       "  </tbody>\n",
       "</table>\n",
       "<p>1329 rows × 6 columns</p>\n",
       "</div>"
      ],
      "text/plain": [
       "             Buy  Sell   Sell_Date  Pct_change  wr    Stock\n",
       "Buy_Date                                                   \n",
       "1994-09-07  4.58  4.46  1995-01-03   -2.620087   0      MPI\n",
       "1994-09-27  4.72  4.46  1995-01-03   -5.508475   0      MPI\n",
       "1994-09-30  4.80  4.46  1995-01-03   -7.083333   0      MPI\n",
       "1994-09-30  2.64  2.25  1994-12-22  -14.772727   0   ATAIMS\n",
       "1994-10-04  2.66  2.25  1994-12-22  -15.413534   0   ATAIMS\n",
       "...          ...   ...         ...         ...  ..      ...\n",
       "2021-01-11  6.22  7.40  2021-01-19   18.971061   1   UNISEM\n",
       "2021-01-11  4.70  5.94  2021-01-20   26.382979   1      UWC\n",
       "2021-01-11  5.01  5.70  2021-01-14   13.772455   1    PENTA\n",
       "2021-01-12  2.27  2.80  2021-01-18   23.348018   1      FPI\n",
       "2021-01-26  2.22  4.35  2021-02-08   95.945946   1  GENETEC\n",
       "\n",
       "[1329 rows x 6 columns]"
      ]
     },
     "execution_count": 4,
     "metadata": {},
     "output_type": "execute_result"
    }
   ],
   "source": [
    "# setting Dates as index\n",
    "df_all.set_index('Buy_Date', inplace=True)\n",
    "df_all"
   ]
  },
  {
   "cell_type": "code",
   "execution_count": 5,
   "metadata": {},
   "outputs": [],
   "source": [
    "#Strategy Analysis"
   ]
  },
  {
   "cell_type": "code",
   "execution_count": 6,
   "metadata": {},
   "outputs": [
    {
     "ename": "AttributeError",
     "evalue": "'Series' object has no attribute 'mea'",
     "output_type": "error",
     "traceback": [
      "\u001b[1;31m---------------------------------------------------------------------------\u001b[0m",
      "\u001b[1;31mAttributeError\u001b[0m                            Traceback (most recent call last)",
      "\u001b[1;32m<ipython-input-6-63b18710477a>\u001b[0m in \u001b[0;36m<module>\u001b[1;34m\u001b[0m\n\u001b[1;32m----> 1\u001b[1;33m \u001b[0mdf_all\u001b[0m\u001b[1;33m[\u001b[0m\u001b[1;34m\"wr\"\u001b[0m\u001b[1;33m]\u001b[0m\u001b[1;33m.\u001b[0m\u001b[0mvalue_counts\u001b[0m\u001b[1;33m(\u001b[0m\u001b[1;33m)\u001b[0m\u001b[1;33m.\u001b[0m\u001b[0mmea\u001b[0m\u001b[1;33m\u001b[0m\u001b[1;33m\u001b[0m\u001b[0m\n\u001b[0m",
      "\u001b[1;32mC:\\Users\\Public\\Documents\\anaconda\\lib\\site-packages\\pandas\\core\\generic.py\u001b[0m in \u001b[0;36m__getattr__\u001b[1;34m(self, name)\u001b[0m\n\u001b[0;32m   5137\u001b[0m             \u001b[1;32mif\u001b[0m \u001b[0mself\u001b[0m\u001b[1;33m.\u001b[0m\u001b[0m_info_axis\u001b[0m\u001b[1;33m.\u001b[0m\u001b[0m_can_hold_identifiers_and_holds_name\u001b[0m\u001b[1;33m(\u001b[0m\u001b[0mname\u001b[0m\u001b[1;33m)\u001b[0m\u001b[1;33m:\u001b[0m\u001b[1;33m\u001b[0m\u001b[1;33m\u001b[0m\u001b[0m\n\u001b[0;32m   5138\u001b[0m                 \u001b[1;32mreturn\u001b[0m \u001b[0mself\u001b[0m\u001b[1;33m[\u001b[0m\u001b[0mname\u001b[0m\u001b[1;33m]\u001b[0m\u001b[1;33m\u001b[0m\u001b[1;33m\u001b[0m\u001b[0m\n\u001b[1;32m-> 5139\u001b[1;33m             \u001b[1;32mreturn\u001b[0m \u001b[0mobject\u001b[0m\u001b[1;33m.\u001b[0m\u001b[0m__getattribute__\u001b[0m\u001b[1;33m(\u001b[0m\u001b[0mself\u001b[0m\u001b[1;33m,\u001b[0m \u001b[0mname\u001b[0m\u001b[1;33m)\u001b[0m\u001b[1;33m\u001b[0m\u001b[1;33m\u001b[0m\u001b[0m\n\u001b[0m\u001b[0;32m   5140\u001b[0m \u001b[1;33m\u001b[0m\u001b[0m\n\u001b[0;32m   5141\u001b[0m     \u001b[1;32mdef\u001b[0m \u001b[0m__setattr__\u001b[0m\u001b[1;33m(\u001b[0m\u001b[0mself\u001b[0m\u001b[1;33m,\u001b[0m \u001b[0mname\u001b[0m\u001b[1;33m:\u001b[0m \u001b[0mstr\u001b[0m\u001b[1;33m,\u001b[0m \u001b[0mvalue\u001b[0m\u001b[1;33m)\u001b[0m \u001b[1;33m->\u001b[0m \u001b[1;32mNone\u001b[0m\u001b[1;33m:\u001b[0m\u001b[1;33m\u001b[0m\u001b[1;33m\u001b[0m\u001b[0m\n",
      "\u001b[1;31mAttributeError\u001b[0m: 'Series' object has no attribute 'mea'"
     ]
    }
   ],
   "source": [
    "df_all[\"wr\"].value_counts().mea"
   ]
  },
  {
   "cell_type": "code",
   "execution_count": null,
   "metadata": {},
   "outputs": [],
   "source": [
    "total_winpct=round(840/(840+489)*100,3)"
   ]
  },
  {
   "cell_type": "code",
   "execution_count": null,
   "metadata": {},
   "outputs": [],
   "source": [
    "print(\" Total win percentage is: {} %\".format(total_winpct))"
   ]
  },
  {
   "cell_type": "code",
   "execution_count": null,
   "metadata": {},
   "outputs": [],
   "source": [
    "\n",
    "# SHARPE RATIO\n",
    "str_return = df_all[\"Pct_change\"].mean()\n",
    "rf_rate = 0\n",
    "volatility = df_all[\"Pct_change\"].std()\n",
    "print(\"Sharpe ratio of this strategy is: {}\".format((str_return-rf_rate)/volatility))"
   ]
  }
 ],
 "metadata": {
  "kernelspec": {
   "display_name": "Python 3",
   "language": "python",
   "name": "python3"
  },
  "language_info": {
   "codemirror_mode": {
    "name": "ipython",
    "version": 3
   },
   "file_extension": ".py",
   "mimetype": "text/x-python",
   "name": "python",
   "nbconvert_exporter": "python",
   "pygments_lexer": "ipython3",
   "version": "3.8.5"
  }
 },
 "nbformat": 4,
 "nbformat_minor": 4
}
