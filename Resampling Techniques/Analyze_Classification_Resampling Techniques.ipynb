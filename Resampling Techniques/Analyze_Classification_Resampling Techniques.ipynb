{
 "cells": [
  {
   "cell_type": "code",
   "execution_count": 1,
   "metadata": {},
   "outputs": [],
   "source": [
    "import pandas as pd\n",
    "import numpy as np\n",
    "import matplotlib.pyplot as plt\n",
    "from sklearn.metrics import accuracy_score\n"
   ]
  },
  {
   "cell_type": "code",
   "execution_count": 2,
   "metadata": {},
   "outputs": [],
   "source": [
    "# combine all df\n",
    "df1 = pd.read_csv(\"result GREATEC.csv\", parse_dates = True)\n",
    "df2 = pd.read_csv(\"result UWC.csv\", parse_dates = True)\n",
    "df3 = pd.read_csv(\"result D&O.csv\", parse_dates = True)\n",
    "df4 = pd.read_csv(\"result GENETEC.csv\", parse_dates = True)\n",
    "df5 = pd.read_csv(\"result UNISEM.csv\", parse_dates = True)\n",
    "df6 = pd.read_csv(\"result FRONTKN.csv\", parse_dates = True)\n",
    "df7 = pd.read_csv(\"result ATAIMS.csv\", parse_dates = True)\n",
    "\n",
    "df9 = pd.read_csv(\"result FPI.csv\", parse_dates = True)\n",
    "df10 = pd.read_csv(\"result PENTA.csv\", parse_dates = True)\n",
    "df11 = pd.read_csv(\"result DUFU.csv\", parse_dates = True)\n",
    "df12 = pd.read_csv(\"result VS.csv\", parse_dates = True)\n",
    "df13 = pd.read_csv(\"result SKPRES.csv\", parse_dates = True)\n",
    "df14 = pd.read_csv(\"result MPI.csv\", parse_dates = True)\n",
    "df15 = pd.read_csv(\"result VITROX.csv\", parse_dates = True)\n",
    "\n",
    "# Merging all df\n",
    "df_all = pd.concat([df1, df2, df3, df4, df5, df6, df7, df9, df10, df11, df12, df13, df14, df15], axis=0)\n"
   ]
  },
  {
   "cell_type": "code",
   "execution_count": 3,
   "metadata": {},
   "outputs": [],
   "source": [
    "# sorting all values by dates\n",
    "df_all = df_all.sort_values(by=\"Buy_Date\")"
   ]
  },
  {
   "cell_type": "code",
   "execution_count": 4,
   "metadata": {},
   "outputs": [
    {
     "data": {
      "text/html": [
       "<div>\n",
       "<style scoped>\n",
       "    .dataframe tbody tr th:only-of-type {\n",
       "        vertical-align: middle;\n",
       "    }\n",
       "\n",
       "    .dataframe tbody tr th {\n",
       "        vertical-align: top;\n",
       "    }\n",
       "\n",
       "    .dataframe thead th {\n",
       "        text-align: right;\n",
       "    }\n",
       "</style>\n",
       "<table border=\"1\" class=\"dataframe\">\n",
       "  <thead>\n",
       "    <tr style=\"text-align: right;\">\n",
       "      <th></th>\n",
       "      <th>Buy</th>\n",
       "      <th>Sell</th>\n",
       "      <th>Sell_Date</th>\n",
       "      <th>Pct_change</th>\n",
       "      <th>wr</th>\n",
       "      <th>Stock</th>\n",
       "    </tr>\n",
       "    <tr>\n",
       "      <th>Buy_Date</th>\n",
       "      <th></th>\n",
       "      <th></th>\n",
       "      <th></th>\n",
       "      <th></th>\n",
       "      <th></th>\n",
       "      <th></th>\n",
       "    </tr>\n",
       "  </thead>\n",
       "  <tbody>\n",
       "    <tr>\n",
       "      <th>1994-09-07</th>\n",
       "      <td>4.58</td>\n",
       "      <td>4.46</td>\n",
       "      <td>1995-01-03</td>\n",
       "      <td>-2.620087</td>\n",
       "      <td>0</td>\n",
       "      <td>MPI</td>\n",
       "    </tr>\n",
       "    <tr>\n",
       "      <th>1994-09-27</th>\n",
       "      <td>4.72</td>\n",
       "      <td>4.46</td>\n",
       "      <td>1995-01-03</td>\n",
       "      <td>-5.508475</td>\n",
       "      <td>0</td>\n",
       "      <td>MPI</td>\n",
       "    </tr>\n",
       "    <tr>\n",
       "      <th>1994-09-30</th>\n",
       "      <td>4.80</td>\n",
       "      <td>4.46</td>\n",
       "      <td>1995-01-03</td>\n",
       "      <td>-7.083333</td>\n",
       "      <td>0</td>\n",
       "      <td>MPI</td>\n",
       "    </tr>\n",
       "    <tr>\n",
       "      <th>1994-09-30</th>\n",
       "      <td>2.64</td>\n",
       "      <td>2.25</td>\n",
       "      <td>1994-12-22</td>\n",
       "      <td>-14.772727</td>\n",
       "      <td>0</td>\n",
       "      <td>ATAIMS</td>\n",
       "    </tr>\n",
       "    <tr>\n",
       "      <th>1994-10-04</th>\n",
       "      <td>2.66</td>\n",
       "      <td>2.25</td>\n",
       "      <td>1994-12-22</td>\n",
       "      <td>-15.413534</td>\n",
       "      <td>0</td>\n",
       "      <td>ATAIMS</td>\n",
       "    </tr>\n",
       "    <tr>\n",
       "      <th>...</th>\n",
       "      <td>...</td>\n",
       "      <td>...</td>\n",
       "      <td>...</td>\n",
       "      <td>...</td>\n",
       "      <td>...</td>\n",
       "      <td>...</td>\n",
       "    </tr>\n",
       "    <tr>\n",
       "      <th>2021-01-11</th>\n",
       "      <td>6.22</td>\n",
       "      <td>7.40</td>\n",
       "      <td>2021-01-19</td>\n",
       "      <td>18.971061</td>\n",
       "      <td>1</td>\n",
       "      <td>UNISEM</td>\n",
       "    </tr>\n",
       "    <tr>\n",
       "      <th>2021-01-11</th>\n",
       "      <td>4.70</td>\n",
       "      <td>5.94</td>\n",
       "      <td>2021-01-20</td>\n",
       "      <td>26.382979</td>\n",
       "      <td>1</td>\n",
       "      <td>UWC</td>\n",
       "    </tr>\n",
       "    <tr>\n",
       "      <th>2021-01-11</th>\n",
       "      <td>5.01</td>\n",
       "      <td>5.70</td>\n",
       "      <td>2021-01-14</td>\n",
       "      <td>13.772455</td>\n",
       "      <td>1</td>\n",
       "      <td>PENTA</td>\n",
       "    </tr>\n",
       "    <tr>\n",
       "      <th>2021-01-12</th>\n",
       "      <td>2.27</td>\n",
       "      <td>2.80</td>\n",
       "      <td>2021-01-18</td>\n",
       "      <td>23.348018</td>\n",
       "      <td>1</td>\n",
       "      <td>FPI</td>\n",
       "    </tr>\n",
       "    <tr>\n",
       "      <th>2021-01-26</th>\n",
       "      <td>2.22</td>\n",
       "      <td>4.35</td>\n",
       "      <td>2021-02-08</td>\n",
       "      <td>95.945946</td>\n",
       "      <td>1</td>\n",
       "      <td>GENETEC</td>\n",
       "    </tr>\n",
       "  </tbody>\n",
       "</table>\n",
       "<p>1329 rows × 6 columns</p>\n",
       "</div>"
      ],
      "text/plain": [
       "             Buy  Sell   Sell_Date  Pct_change  wr    Stock\n",
       "Buy_Date                                                   \n",
       "1994-09-07  4.58  4.46  1995-01-03   -2.620087   0      MPI\n",
       "1994-09-27  4.72  4.46  1995-01-03   -5.508475   0      MPI\n",
       "1994-09-30  4.80  4.46  1995-01-03   -7.083333   0      MPI\n",
       "1994-09-30  2.64  2.25  1994-12-22  -14.772727   0   ATAIMS\n",
       "1994-10-04  2.66  2.25  1994-12-22  -15.413534   0   ATAIMS\n",
       "...          ...   ...         ...         ...  ..      ...\n",
       "2021-01-11  6.22  7.40  2021-01-19   18.971061   1   UNISEM\n",
       "2021-01-11  4.70  5.94  2021-01-20   26.382979   1      UWC\n",
       "2021-01-11  5.01  5.70  2021-01-14   13.772455   1    PENTA\n",
       "2021-01-12  2.27  2.80  2021-01-18   23.348018   1      FPI\n",
       "2021-01-26  2.22  4.35  2021-02-08   95.945946   1  GENETEC\n",
       "\n",
       "[1329 rows x 6 columns]"
      ]
     },
     "execution_count": 4,
     "metadata": {},
     "output_type": "execute_result"
    }
   ],
   "source": [
    "# setting Dates as index\n",
    "df_all.set_index('Buy_Date', inplace=True)\n",
    "df_all"
   ]
  },
  {
   "cell_type": "code",
   "execution_count": 5,
   "metadata": {},
   "outputs": [],
   "source": [
    "#Strategy Analysis"
   ]
  },
  {
   "cell_type": "code",
   "execution_count": 6,
   "metadata": {},
   "outputs": [
    {
     "data": {
      "text/plain": [
       "1    840\n",
       "0    489\n",
       "Name: wr, dtype: int64"
      ]
     },
     "execution_count": 6,
     "metadata": {},
     "output_type": "execute_result"
    }
   ],
   "source": [
    "df_all[\"wr\"].value_counts()"
   ]
  },
  {
   "cell_type": "code",
   "execution_count": 7,
   "metadata": {},
   "outputs": [],
   "source": [
    "total_winpct=round(840/(840+489)*100,3)"
   ]
  },
  {
   "cell_type": "code",
   "execution_count": 8,
   "metadata": {},
   "outputs": [
    {
     "name": "stdout",
     "output_type": "stream",
     "text": [
      " Total win percentage is: 63.205 %\n"
     ]
    }
   ],
   "source": [
    "print(\" Total win percentage is: {} %\".format(total_winpct))"
   ]
  },
  {
   "cell_type": "code",
   "execution_count": 9,
   "metadata": {},
   "outputs": [
    {
     "name": "stdout",
     "output_type": "stream",
     "text": [
      "Sharpe ratio of this strategy is: 0.23206536113048154\n"
     ]
    }
   ],
   "source": [
    "\n",
    "# SHARPE RATIO\n",
    "str_return = df_all[\"Pct_change\"].mean()\n",
    "rf_rate = 0\n",
    "volatility = df_all[\"Pct_change\"].std()\n",
    "print(\"Sharpe ratio of this strategy is: {}\".format((str_return-rf_rate)/volatility))"
   ]
  },
  {
   "cell_type": "code",
   "execution_count": 10,
   "metadata": {},
   "outputs": [
    {
     "data": {
      "text/html": [
       "<div>\n",
       "<style scoped>\n",
       "    .dataframe tbody tr th:only-of-type {\n",
       "        vertical-align: middle;\n",
       "    }\n",
       "\n",
       "    .dataframe tbody tr th {\n",
       "        vertical-align: top;\n",
       "    }\n",
       "\n",
       "    .dataframe thead th {\n",
       "        text-align: right;\n",
       "    }\n",
       "</style>\n",
       "<table border=\"1\" class=\"dataframe\">\n",
       "  <thead>\n",
       "    <tr style=\"text-align: right;\">\n",
       "      <th></th>\n",
       "      <th>Buy</th>\n",
       "      <th>Sell</th>\n",
       "      <th>Sell_Date</th>\n",
       "      <th>Pct_change</th>\n",
       "      <th>wr</th>\n",
       "      <th>Stock</th>\n",
       "    </tr>\n",
       "    <tr>\n",
       "      <th>Buy_Date</th>\n",
       "      <th></th>\n",
       "      <th></th>\n",
       "      <th></th>\n",
       "      <th></th>\n",
       "      <th></th>\n",
       "      <th></th>\n",
       "    </tr>\n",
       "  </thead>\n",
       "  <tbody>\n",
       "    <tr>\n",
       "      <th>1994-09-07</th>\n",
       "      <td>4.58</td>\n",
       "      <td>4.46</td>\n",
       "      <td>1995-01-03</td>\n",
       "      <td>-2.620087</td>\n",
       "      <td>0</td>\n",
       "      <td>7</td>\n",
       "    </tr>\n",
       "    <tr>\n",
       "      <th>1994-09-27</th>\n",
       "      <td>4.72</td>\n",
       "      <td>4.46</td>\n",
       "      <td>1995-01-03</td>\n",
       "      <td>-5.508475</td>\n",
       "      <td>0</td>\n",
       "      <td>7</td>\n",
       "    </tr>\n",
       "    <tr>\n",
       "      <th>1994-09-30</th>\n",
       "      <td>4.80</td>\n",
       "      <td>4.46</td>\n",
       "      <td>1995-01-03</td>\n",
       "      <td>-7.083333</td>\n",
       "      <td>0</td>\n",
       "      <td>7</td>\n",
       "    </tr>\n",
       "    <tr>\n",
       "      <th>1994-09-30</th>\n",
       "      <td>2.64</td>\n",
       "      <td>2.25</td>\n",
       "      <td>1994-12-22</td>\n",
       "      <td>-14.772727</td>\n",
       "      <td>0</td>\n",
       "      <td>0</td>\n",
       "    </tr>\n",
       "    <tr>\n",
       "      <th>1994-10-04</th>\n",
       "      <td>2.66</td>\n",
       "      <td>2.25</td>\n",
       "      <td>1994-12-22</td>\n",
       "      <td>-15.413534</td>\n",
       "      <td>0</td>\n",
       "      <td>0</td>\n",
       "    </tr>\n",
       "    <tr>\n",
       "      <th>...</th>\n",
       "      <td>...</td>\n",
       "      <td>...</td>\n",
       "      <td>...</td>\n",
       "      <td>...</td>\n",
       "      <td>...</td>\n",
       "      <td>...</td>\n",
       "    </tr>\n",
       "    <tr>\n",
       "      <th>2021-01-11</th>\n",
       "      <td>6.22</td>\n",
       "      <td>7.40</td>\n",
       "      <td>2021-01-19</td>\n",
       "      <td>18.971061</td>\n",
       "      <td>1</td>\n",
       "      <td>10</td>\n",
       "    </tr>\n",
       "    <tr>\n",
       "      <th>2021-01-11</th>\n",
       "      <td>4.70</td>\n",
       "      <td>5.94</td>\n",
       "      <td>2021-01-20</td>\n",
       "      <td>26.382979</td>\n",
       "      <td>1</td>\n",
       "      <td>11</td>\n",
       "    </tr>\n",
       "    <tr>\n",
       "      <th>2021-01-11</th>\n",
       "      <td>5.01</td>\n",
       "      <td>5.70</td>\n",
       "      <td>2021-01-14</td>\n",
       "      <td>13.772455</td>\n",
       "      <td>1</td>\n",
       "      <td>8</td>\n",
       "    </tr>\n",
       "    <tr>\n",
       "      <th>2021-01-12</th>\n",
       "      <td>2.27</td>\n",
       "      <td>2.80</td>\n",
       "      <td>2021-01-18</td>\n",
       "      <td>23.348018</td>\n",
       "      <td>1</td>\n",
       "      <td>3</td>\n",
       "    </tr>\n",
       "    <tr>\n",
       "      <th>2021-01-26</th>\n",
       "      <td>2.22</td>\n",
       "      <td>4.35</td>\n",
       "      <td>2021-02-08</td>\n",
       "      <td>95.945946</td>\n",
       "      <td>1</td>\n",
       "      <td>5</td>\n",
       "    </tr>\n",
       "  </tbody>\n",
       "</table>\n",
       "<p>1329 rows × 6 columns</p>\n",
       "</div>"
      ],
      "text/plain": [
       "             Buy  Sell   Sell_Date  Pct_change  wr  Stock\n",
       "Buy_Date                                                 \n",
       "1994-09-07  4.58  4.46  1995-01-03   -2.620087   0      7\n",
       "1994-09-27  4.72  4.46  1995-01-03   -5.508475   0      7\n",
       "1994-09-30  4.80  4.46  1995-01-03   -7.083333   0      7\n",
       "1994-09-30  2.64  2.25  1994-12-22  -14.772727   0      0\n",
       "1994-10-04  2.66  2.25  1994-12-22  -15.413534   0      0\n",
       "...          ...   ...         ...         ...  ..    ...\n",
       "2021-01-11  6.22  7.40  2021-01-19   18.971061   1     10\n",
       "2021-01-11  4.70  5.94  2021-01-20   26.382979   1     11\n",
       "2021-01-11  5.01  5.70  2021-01-14   13.772455   1      8\n",
       "2021-01-12  2.27  2.80  2021-01-18   23.348018   1      3\n",
       "2021-01-26  2.22  4.35  2021-02-08   95.945946   1      5\n",
       "\n",
       "[1329 rows x 6 columns]"
      ]
     },
     "execution_count": 10,
     "metadata": {},
     "output_type": "execute_result"
    }
   ],
   "source": [
    "# Encoding the stock names\n",
    "from sklearn.preprocessing import LabelEncoder\n",
    "le = LabelEncoder()\n",
    "df_all[\"Stock\"] = le.fit_transform(df_all[\"Stock\"])\n",
    "df_all"
   ]
  },
  {
   "cell_type": "markdown",
   "metadata": {},
   "source": [
    "### Resampling Techniques — Oversample minority class"
   ]
  },
  {
   "cell_type": "code",
   "execution_count": 11,
   "metadata": {},
   "outputs": [],
   "source": [
    "from sklearn.utils import resample"
   ]
  },
  {
   "cell_type": "code",
   "execution_count": 12,
   "metadata": {},
   "outputs": [],
   "source": [
    "from sklearn.model_selection import train_test_split"
   ]
  },
  {
   "cell_type": "code",
   "execution_count": 13,
   "metadata": {},
   "outputs": [],
   "source": [
    "# Separate input features and target\n",
    "X = df_all.drop(['wr','Pct_change','Sell_Date'], axis=1)\n",
    "y = df_all.wr\n"
   ]
  },
  {
   "cell_type": "code",
   "execution_count": 14,
   "metadata": {},
   "outputs": [
    {
     "data": {
      "text/plain": [
       "1    840\n",
       "0    489\n",
       "Name: wr, dtype: int64"
      ]
     },
     "execution_count": 14,
     "metadata": {},
     "output_type": "execute_result"
    }
   ],
   "source": [
    "df_all[\"wr\"].value_counts()"
   ]
  },
  {
   "cell_type": "code",
   "execution_count": 15,
   "metadata": {},
   "outputs": [],
   "source": [
    "# setting up testing and training sets\n",
    "X_train, X_test, y_train, y_test = train_test_split(X, y, test_size=0.56, random_state=0, shuffle=False)"
   ]
  },
  {
   "cell_type": "code",
   "execution_count": 16,
   "metadata": {},
   "outputs": [],
   "source": [
    "# concatenate our training data back together\n",
    "X = pd.concat([X_train, y_train], axis=1)"
   ]
  },
  {
   "cell_type": "code",
   "execution_count": 17,
   "metadata": {},
   "outputs": [
    {
     "data": {
      "text/html": [
       "<div>\n",
       "<style scoped>\n",
       "    .dataframe tbody tr th:only-of-type {\n",
       "        vertical-align: middle;\n",
       "    }\n",
       "\n",
       "    .dataframe tbody tr th {\n",
       "        vertical-align: top;\n",
       "    }\n",
       "\n",
       "    .dataframe thead th {\n",
       "        text-align: right;\n",
       "    }\n",
       "</style>\n",
       "<table border=\"1\" class=\"dataframe\">\n",
       "  <thead>\n",
       "    <tr style=\"text-align: right;\">\n",
       "      <th></th>\n",
       "      <th>Buy</th>\n",
       "      <th>Sell</th>\n",
       "      <th>Stock</th>\n",
       "      <th>wr</th>\n",
       "    </tr>\n",
       "    <tr>\n",
       "      <th>Buy_Date</th>\n",
       "      <th></th>\n",
       "      <th></th>\n",
       "      <th></th>\n",
       "      <th></th>\n",
       "    </tr>\n",
       "  </thead>\n",
       "  <tbody>\n",
       "    <tr>\n",
       "      <th>1994-09-07</th>\n",
       "      <td>4.5800</td>\n",
       "      <td>4.4600</td>\n",
       "      <td>7</td>\n",
       "      <td>0</td>\n",
       "    </tr>\n",
       "    <tr>\n",
       "      <th>1994-09-27</th>\n",
       "      <td>4.7200</td>\n",
       "      <td>4.4600</td>\n",
       "      <td>7</td>\n",
       "      <td>0</td>\n",
       "    </tr>\n",
       "    <tr>\n",
       "      <th>1994-09-30</th>\n",
       "      <td>4.8000</td>\n",
       "      <td>4.4600</td>\n",
       "      <td>7</td>\n",
       "      <td>0</td>\n",
       "    </tr>\n",
       "    <tr>\n",
       "      <th>1994-09-30</th>\n",
       "      <td>2.6400</td>\n",
       "      <td>2.2500</td>\n",
       "      <td>0</td>\n",
       "      <td>0</td>\n",
       "    </tr>\n",
       "    <tr>\n",
       "      <th>1994-10-04</th>\n",
       "      <td>2.6600</td>\n",
       "      <td>2.2500</td>\n",
       "      <td>0</td>\n",
       "      <td>0</td>\n",
       "    </tr>\n",
       "    <tr>\n",
       "      <th>...</th>\n",
       "      <td>...</td>\n",
       "      <td>...</td>\n",
       "      <td>...</td>\n",
       "      <td>...</td>\n",
       "    </tr>\n",
       "    <tr>\n",
       "      <th>2010-08-12</th>\n",
       "      <td>0.0669</td>\n",
       "      <td>0.0525</td>\n",
       "      <td>8</td>\n",
       "      <td>0</td>\n",
       "    </tr>\n",
       "    <tr>\n",
       "      <th>2010-08-13</th>\n",
       "      <td>2.7500</td>\n",
       "      <td>2.8500</td>\n",
       "      <td>5</td>\n",
       "      <td>1</td>\n",
       "    </tr>\n",
       "    <tr>\n",
       "      <th>2010-08-16</th>\n",
       "      <td>0.0679</td>\n",
       "      <td>0.0525</td>\n",
       "      <td>8</td>\n",
       "      <td>0</td>\n",
       "    </tr>\n",
       "    <tr>\n",
       "      <th>2010-08-19</th>\n",
       "      <td>0.0679</td>\n",
       "      <td>0.0525</td>\n",
       "      <td>8</td>\n",
       "      <td>0</td>\n",
       "    </tr>\n",
       "    <tr>\n",
       "      <th>2010-08-25</th>\n",
       "      <td>0.0648</td>\n",
       "      <td>0.0525</td>\n",
       "      <td>8</td>\n",
       "      <td>0</td>\n",
       "    </tr>\n",
       "  </tbody>\n",
       "</table>\n",
       "<p>584 rows × 4 columns</p>\n",
       "</div>"
      ],
      "text/plain": [
       "               Buy    Sell  Stock  wr\n",
       "Buy_Date                             \n",
       "1994-09-07  4.5800  4.4600      7   0\n",
       "1994-09-27  4.7200  4.4600      7   0\n",
       "1994-09-30  4.8000  4.4600      7   0\n",
       "1994-09-30  2.6400  2.2500      0   0\n",
       "1994-10-04  2.6600  2.2500      0   0\n",
       "...            ...     ...    ...  ..\n",
       "2010-08-12  0.0669  0.0525      8   0\n",
       "2010-08-13  2.7500  2.8500      5   1\n",
       "2010-08-16  0.0679  0.0525      8   0\n",
       "2010-08-19  0.0679  0.0525      8   0\n",
       "2010-08-25  0.0648  0.0525      8   0\n",
       "\n",
       "[584 rows x 4 columns]"
      ]
     },
     "execution_count": 17,
     "metadata": {},
     "output_type": "execute_result"
    }
   ],
   "source": [
    "X "
   ]
  },
  {
   "cell_type": "code",
   "execution_count": 18,
   "metadata": {},
   "outputs": [],
   "source": [
    "# separate minority and majority classes\n",
    "not_win = X[X.wr==0]\n",
    "win = X[X.wr==1]"
   ]
  },
  {
   "cell_type": "code",
   "execution_count": 19,
   "metadata": {},
   "outputs": [],
   "source": [
    "# upsample minority\n",
    "not_win_upsampled = resample(not_win,\n",
    "                          replace=True, # sample with replacement\n",
    "                          n_samples=len(win), # match number in majority class\n",
    "                          random_state=0) # reproducible results"
   ]
  },
  {
   "cell_type": "code",
   "execution_count": 20,
   "metadata": {},
   "outputs": [],
   "source": [
    "# combine majority and upsampled minority\n",
    "upsampled = pd.concat([win, not_win_upsampled]).sort_values(by=\"Buy_Date\")"
   ]
  },
  {
   "cell_type": "code",
   "execution_count": 21,
   "metadata": {},
   "outputs": [
    {
     "data": {
      "text/html": [
       "<div>\n",
       "<style scoped>\n",
       "    .dataframe tbody tr th:only-of-type {\n",
       "        vertical-align: middle;\n",
       "    }\n",
       "\n",
       "    .dataframe tbody tr th {\n",
       "        vertical-align: top;\n",
       "    }\n",
       "\n",
       "    .dataframe thead th {\n",
       "        text-align: right;\n",
       "    }\n",
       "</style>\n",
       "<table border=\"1\" class=\"dataframe\">\n",
       "  <thead>\n",
       "    <tr style=\"text-align: right;\">\n",
       "      <th></th>\n",
       "      <th>Buy</th>\n",
       "      <th>Sell</th>\n",
       "      <th>Stock</th>\n",
       "      <th>wr</th>\n",
       "    </tr>\n",
       "    <tr>\n",
       "      <th>Buy_Date</th>\n",
       "      <th></th>\n",
       "      <th></th>\n",
       "      <th></th>\n",
       "      <th></th>\n",
       "    </tr>\n",
       "  </thead>\n",
       "  <tbody>\n",
       "    <tr>\n",
       "      <th>1994-09-07</th>\n",
       "      <td>4.5800</td>\n",
       "      <td>4.4600</td>\n",
       "      <td>7</td>\n",
       "      <td>0</td>\n",
       "    </tr>\n",
       "    <tr>\n",
       "      <th>1994-09-07</th>\n",
       "      <td>4.5800</td>\n",
       "      <td>4.4600</td>\n",
       "      <td>7</td>\n",
       "      <td>0</td>\n",
       "    </tr>\n",
       "    <tr>\n",
       "      <th>1994-09-27</th>\n",
       "      <td>4.7200</td>\n",
       "      <td>4.4600</td>\n",
       "      <td>7</td>\n",
       "      <td>0</td>\n",
       "    </tr>\n",
       "    <tr>\n",
       "      <th>1994-09-30</th>\n",
       "      <td>2.6400</td>\n",
       "      <td>2.2500</td>\n",
       "      <td>0</td>\n",
       "      <td>0</td>\n",
       "    </tr>\n",
       "    <tr>\n",
       "      <th>1994-09-30</th>\n",
       "      <td>2.6400</td>\n",
       "      <td>2.2500</td>\n",
       "      <td>0</td>\n",
       "      <td>0</td>\n",
       "    </tr>\n",
       "    <tr>\n",
       "      <th>...</th>\n",
       "      <td>...</td>\n",
       "      <td>...</td>\n",
       "      <td>...</td>\n",
       "      <td>...</td>\n",
       "    </tr>\n",
       "    <tr>\n",
       "      <th>2010-08-10</th>\n",
       "      <td>0.1050</td>\n",
       "      <td>0.1200</td>\n",
       "      <td>0</td>\n",
       "      <td>1</td>\n",
       "    </tr>\n",
       "    <tr>\n",
       "      <th>2010-08-12</th>\n",
       "      <td>0.0669</td>\n",
       "      <td>0.0525</td>\n",
       "      <td>8</td>\n",
       "      <td>0</td>\n",
       "    </tr>\n",
       "    <tr>\n",
       "      <th>2010-08-12</th>\n",
       "      <td>0.0669</td>\n",
       "      <td>0.0525</td>\n",
       "      <td>8</td>\n",
       "      <td>0</td>\n",
       "    </tr>\n",
       "    <tr>\n",
       "      <th>2010-08-12</th>\n",
       "      <td>0.0669</td>\n",
       "      <td>0.0525</td>\n",
       "      <td>8</td>\n",
       "      <td>0</td>\n",
       "    </tr>\n",
       "    <tr>\n",
       "      <th>2010-08-13</th>\n",
       "      <td>2.7500</td>\n",
       "      <td>2.8500</td>\n",
       "      <td>5</td>\n",
       "      <td>1</td>\n",
       "    </tr>\n",
       "  </tbody>\n",
       "</table>\n",
       "<p>672 rows × 4 columns</p>\n",
       "</div>"
      ],
      "text/plain": [
       "               Buy    Sell  Stock  wr\n",
       "Buy_Date                             \n",
       "1994-09-07  4.5800  4.4600      7   0\n",
       "1994-09-07  4.5800  4.4600      7   0\n",
       "1994-09-27  4.7200  4.4600      7   0\n",
       "1994-09-30  2.6400  2.2500      0   0\n",
       "1994-09-30  2.6400  2.2500      0   0\n",
       "...            ...     ...    ...  ..\n",
       "2010-08-10  0.1050  0.1200      0   1\n",
       "2010-08-12  0.0669  0.0525      8   0\n",
       "2010-08-12  0.0669  0.0525      8   0\n",
       "2010-08-12  0.0669  0.0525      8   0\n",
       "2010-08-13  2.7500  2.8500      5   1\n",
       "\n",
       "[672 rows x 4 columns]"
      ]
     },
     "execution_count": 21,
     "metadata": {},
     "output_type": "execute_result"
    }
   ],
   "source": [
    "upsampled"
   ]
  },
  {
   "cell_type": "code",
   "execution_count": 22,
   "metadata": {},
   "outputs": [
    {
     "data": {
      "text/plain": [
       "1    336\n",
       "0    336\n",
       "Name: wr, dtype: int64"
      ]
     },
     "execution_count": 22,
     "metadata": {},
     "output_type": "execute_result"
    }
   ],
   "source": [
    "upsampled.wr.value_counts()"
   ]
  },
  {
   "cell_type": "code",
   "execution_count": 23,
   "metadata": {},
   "outputs": [],
   "source": [
    "from sklearn.linear_model import LogisticRegression"
   ]
  },
  {
   "cell_type": "code",
   "execution_count": 24,
   "metadata": {},
   "outputs": [],
   "source": [
    "# trying logistic regression again with the balanced dataset\n",
    "y_train = upsampled.wr\n",
    "X_train = upsampled.drop('wr', axis=1)\n",
    "\n",
    "upsampled = LogisticRegression(solver='liblinear').fit(X_train, y_train)"
   ]
  },
  {
   "cell_type": "code",
   "execution_count": 25,
   "metadata": {},
   "outputs": [
    {
     "name": "stdout",
     "output_type": "stream",
     "text": [
      "training score: 0.9032738095238095\n"
     ]
    }
   ],
   "source": [
    "# predicting the trainset\n",
    "upsampled_pred_train = upsampled.predict(X_train)\n",
    "trainscore = accuracy_score(y_train, upsampled_pred_train)\n",
    "print(\"training score:\", trainscore)"
   ]
  },
  {
   "cell_type": "code",
   "execution_count": 26,
   "metadata": {},
   "outputs": [
    {
     "name": "stdout",
     "output_type": "stream",
     "text": [
      "test score: 0.9100671140939597\n"
     ]
    }
   ],
   "source": [
    "# validating using test_set\n",
    "upsampled_pred_test = upsampled.predict(X_test)\n",
    "testscore = accuracy_score(y_test, upsampled_pred_test)\n",
    "print(\"test score:\", testscore)"
   ]
  },
  {
   "cell_type": "code",
   "execution_count": 27,
   "metadata": {},
   "outputs": [
    {
     "name": "stdout",
     "output_type": "stream",
     "text": [
      "Model Ok\n"
     ]
    }
   ],
   "source": [
    "#check \n",
    "if trainscore - testscore < -0.01:\n",
    "    print(\"Model Overfitted\")\n",
    "else:\n",
    "    print(\"Model Ok\")"
   ]
  },
  {
   "cell_type": "code",
   "execution_count": 28,
   "metadata": {},
   "outputs": [
    {
     "data": {
      "text/plain": [
       "-0.006793304570150149"
      ]
     },
     "execution_count": 28,
     "metadata": {},
     "output_type": "execute_result"
    }
   ],
   "source": [
    "trainscore - testscore"
   ]
  },
  {
   "cell_type": "code",
   "execution_count": 30,
   "metadata": {},
   "outputs": [
    {
     "name": "stdout",
     "output_type": "stream",
     "text": [
      "Training model score:\n",
      "               precision    recall  f1-score   support\n",
      "\n",
      "           0       0.88      0.93      0.91       336\n",
      "           1       0.93      0.88      0.90       336\n",
      "\n",
      "    accuracy                           0.90       672\n",
      "   macro avg       0.90      0.90      0.90       672\n",
      "weighted avg       0.90      0.90      0.90       672\n",
      "\n",
      "\n",
      "Test model score:\n",
      "               precision    recall  f1-score   support\n",
      "\n",
      "           0       0.80      0.95      0.87       241\n",
      "           1       0.98      0.89      0.93       504\n",
      "\n",
      "    accuracy                           0.91       745\n",
      "   macro avg       0.89      0.92      0.90       745\n",
      "weighted avg       0.92      0.91      0.91       745\n",
      "\n"
     ]
    }
   ],
   "source": [
    "# classification report\n",
    "from sklearn.metrics import classification_report\n",
    "print(\"Training model score:\\n {}\\n\".format(classification_report(y_train, upsampled_pred_train)))\n",
    "print(\"Test model score:\\n {}\".format(classification_report(y_test, upsampled_pred_test)))"
   ]
  },
  {
   "cell_type": "code",
   "execution_count": null,
   "metadata": {},
   "outputs": [],
   "source": []
  }
 ],
 "metadata": {
  "kernelspec": {
   "display_name": "Python 3",
   "language": "python",
   "name": "python3"
  },
  "language_info": {
   "codemirror_mode": {
    "name": "ipython",
    "version": 3
   },
   "file_extension": ".py",
   "mimetype": "text/x-python",
   "name": "python",
   "nbconvert_exporter": "python",
   "pygments_lexer": "ipython3",
   "version": "3.8.5"
  }
 },
 "nbformat": 4,
 "nbformat_minor": 4
}
