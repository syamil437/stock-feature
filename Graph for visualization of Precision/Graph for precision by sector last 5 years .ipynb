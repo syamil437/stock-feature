{
 "cells": [
  {
   "cell_type": "code",
   "execution_count": 1,
   "metadata": {},
   "outputs": [],
   "source": [
    "import pandas as pd\n",
    "import numpy as np\n",
    "import matplotlib.pyplot as plt\n",
    "import credentials\n",
    "import requests\n",
    "from sklearn.preprocessing import StandardScaler\n",
    "from sklearn.preprocessing import LabelEncoder\n",
    "from xgboost import XGBClassifier\n",
    "from pandas import DataFrame\n",
    "from sklearn.metrics import accuracy_score\n",
    "from sklearn.metrics import precision_score\n",
    "import datetime as dt\n",
    "\n",
    "\n",
    "#pulling data API\n",
    "\n",
    "key =credentials.login['key_isaham']  # extract password"
   ]
  },
  {
   "cell_type": "code",
   "execution_count": 2,
   "metadata": {},
   "outputs": [],
   "source": [
    "# looping through all stocks\n",
    "\n",
    "def strategy_label(wl):\n",
    "    \n",
    "    ori_data = {}\n",
    "    all_ori_stocks = []\n",
    "    # Scale dictionary of dataframes for training set(scaling by stock)\n",
    "    ss={}\n",
    "    d = {}\n",
    "\n",
    "    # Scale dictionary of dataframes for prediction set(scaling by stock)\n",
    "    sp={}\n",
    "    nsp={}\n",
    "\n",
    "    for m,stock in enumerate (wl):\n",
    "\n",
    "        #print(\"----------------PROCESSING {}------------------\".format(stock))\n",
    "        symbol = stock    # Which stock to pull    \n",
    "        response = requests.get(\"https://admin.isaham.my/api/chart?stock={}&key={}\".format(symbol,key))\n",
    "        data = response.json()\n",
    "\n",
    "        ori = pd.DataFrame.from_dict(data)\n",
    "        ori = ori[['c','d','h','l','o','v']]\n",
    "        ori['d'] = pd.to_datetime(ori['d'], dayfirst= True )\n",
    "        # adding the stock names\n",
    "        ori[\"Stock\"] = stock\n",
    "        ori_data[f\"{symbol}\"] = ori\n",
    "        all_ori_stocks.append(ori_data[stock])\n",
    "        \n",
    "        df = ori.reset_index(drop=False)\n",
    "        \n",
    "        \n",
    "        # Tuning OB and OS level\n",
    "        ob_cross=85\n",
    "        os_cross=35\n",
    "        \n",
    "        # Identify MA50\n",
    "        n=50\n",
    "        ma50=[] \n",
    "\n",
    "        for i in range(len(df[\"c\"])-(n-1)):\n",
    "            ma = round(sum(df[\"c\"][i:i+(n)])/n,4)\n",
    "            ma50.append(ma)\n",
    "\n",
    "        df[\"MA50\"] = pd.Series(ma50)\n",
    "        df[\"MA50\"] = df[\"MA50\"].shift(n-1)\n",
    "\n",
    "        # Filter uptrend price above ma50\n",
    "        # Calculating the gap of both MA\n",
    "        df[\"MAgap\"] = df[\"c\"] -  df[\"MA50\"] \n",
    "\n",
    "        # Set date as index\n",
    "        df.set_index('d',inplace=True,drop=False)\n",
    "        df.index.name = None\n",
    "\n",
    "        # Create signal for uptrend price above ma50 \n",
    "        # Result not accurate for stochastic when just filter uptrend only\n",
    "        df[\"Uptrend\"]=df['MAgap']>0\n",
    "        Uptrend=df[\"Uptrend\"]\n",
    "        Uptrend_signal=Uptrend[Uptrend==True]\n",
    "\n",
    "        # Signal stochastic\n",
    "        # Create the \"L14\" column in the DataFrame\n",
    "        df['L14'] = df['l'].rolling(window=14).min()\n",
    "\n",
    "        # Create the \"H14\" column in the DataFrame\n",
    "        df['H14'] = df['h'].rolling(window=14).max()\n",
    "\n",
    "        # Create the \"%K\" column in the DataFrame\n",
    "        df['%K'] = 100*((df['c'] - df['L14']) / (df['H14'] - df['L14']) )\n",
    "\n",
    "        # Create the \"%D\" column in the DataFrame\n",
    "        df['%D'] = df['%K'].rolling(window=3).mean()\n",
    "\n",
    "        # Create a column in the DataFrame showing \"TRUE\" if buy entry signal is given and \"FALSE\" otherwise. \n",
    "        # A buy is initiated when the %K line crosses up through the %D line and the value of the oscillator is below 20 \n",
    "        df['Buy OS'] = ((df['%K'] > df['%D']) & (df['%K'].shift(1) < df['%D'].shift(1))) & (df['%D'] < os_cross) & (Uptrend_signal)\n",
    "\n",
    "        # Create a column in the DataFrame showing \"TRUE\" if sell entry signal is given and \"FALSE\" otherwise. \n",
    "        # A sell is initiated when the %K line crosses down through the %D line and the value of the oscillator is above 80 \n",
    "        df['Sell OB'] = ((df['%K'] < df['%D']) & (df['%K'].shift(1) > df['%D'].shift(1))) & (df['%D'] > ob_cross) \n",
    "\n",
    "        # Create a column in the DataFrame for name of stock\n",
    "        df['Stock_Name'] = symbol\n",
    "\n",
    "        # Define overbought and oversold\n",
    "        overbought =df['Sell OB']\n",
    "        oversold =df['Buy OS']\n",
    "\n",
    "        # Use index(date) for create strategy using overbought and oversold\n",
    "        date_os=list(oversold[oversold == True].index)\n",
    "        date_ob=list(overbought[overbought == True].index)\n",
    "\n",
    "        # Scaling certain features only\n",
    "        col_names_pred = ['c', 'l', 'o', 'v','h']  \n",
    "        features_pred = df[col_names_pred]\n",
    "\n",
    "        # Scaling for prediction data\n",
    "        scaler_pred = StandardScaler().fit(features_pred.values)\n",
    "        features_pred = scaler_pred.transform(features_pred.values)\n",
    "\n",
    "        # Convert the array back to a dataframe\n",
    "        dataset_pred = DataFrame(features_pred)\n",
    "\n",
    "        # Prepare prediction data that no need to scale\n",
    "        col_notscale_pred=['d','Stock_Name','Buy OS']\n",
    "        features_notscale_pred=df[col_notscale_pred]\n",
    "\n",
    "        # Saving in multiple variable\n",
    "        sp[\"{}\".format(stock)] = dataset_pred\n",
    "        nsp[\"{}\".format(stock)] = features_notscale_pred\n",
    "\n",
    "        # Transaction recording\n",
    "        buy = []\n",
    "        sell = []\n",
    "        sdate = []\n",
    "        bdate = []\n",
    "        wr = []\n",
    "        pct = []\n",
    "        vol = []\n",
    "        ope =[]\n",
    "        high = []\n",
    "        low = []\n",
    "\n",
    "        # Record close,open,vol,high,low for buy transaction\n",
    "        for n,i in enumerate(date_os):\n",
    "            buy.append(df['c'].loc[i])\n",
    "            vol.append(df['v'].loc[i])\n",
    "            ope.append(df['o'].loc[i])\n",
    "            high.append(df['h'].loc[i])\n",
    "            low.append(df['l'].loc[i])\n",
    "            bdate.append(i)\n",
    "            r=[]\n",
    "\n",
    "            for m,k in enumerate(date_ob):\n",
    "\n",
    "                if k>i:\n",
    "                    r.append(m)\n",
    "                    if len(r) ==1:\n",
    "                        # Record close,percentage change for sell transaction\n",
    "                        sell.append(df['c'].loc[k])\n",
    "                        sdate.append(k)\n",
    "                        pct_change=((df['c'].loc[k]/df['c'].loc[i])-1)*100\n",
    "                        pct.append(((df['c'].loc[k]/df['c'].loc[i])-1)*100)\n",
    "                    elif len(r)>1:\n",
    "                        pass\n",
    "        diff =len(buy)-len(sell)\n",
    "        # Checking for final transaction, make sure it is sell, as we want to close the position\n",
    "        if len(buy) == len(sell):\n",
    "            pass   \n",
    "        elif len(buy) != len(sell):\n",
    "            # Deleting excess buy transaction after we close position\n",
    "            del(buy[-diff:])\n",
    "            del(bdate[-diff:])\n",
    "            del(ope[-diff:])\n",
    "            del(high[-diff:])\n",
    "            del(vol[-diff:])\n",
    "            del(low[-diff:])\n",
    "\n",
    "        dct = {\n",
    "            \"Buy_Date\": bdate,\n",
    "            \"Buy\": buy,\n",
    "            \"Sell\": sell,\n",
    "            \"Sell_Date\": sdate,\n",
    "            \"Open\":ope,\n",
    "            'Volume': vol,\n",
    "            \"Low\": low,\n",
    "            \"high\": high,\n",
    "            \"Pct_change\": pct    \n",
    "        }  \n",
    "\n",
    "        # Save document for stochastic strategy\n",
    "        trans = pd.DataFrame(dct)\n",
    "\n",
    "        # Define variable for winning rate\n",
    "        wr = []\n",
    "        for i in range(len(trans)):\n",
    "            if trans[\"Pct_change\"][i] > 0:\n",
    "                wr.append(1)\n",
    "            else:\n",
    "                wr.append(0)\n",
    "\n",
    "        # Define variable for name of stock\n",
    "        Name_stock = []\n",
    "        for s in range(len(trans)):\n",
    "            Name_stock.append(symbol)\n",
    "\n",
    "        # Add new column\n",
    "        trans[\"wr\"] = pd.Series(wr)\n",
    "        trans['Stock'] = pd.Series(Name_stock)\n",
    "\n",
    "        # Scaling certain features only for training data\n",
    "        col_names = ['Buy', 'Low', 'Open', 'Volume','high']  \n",
    "        features = trans[col_names]\n",
    "\n",
    "        # Prepare prediction data that no need to scale\n",
    "        scaler = StandardScaler().fit(features.values)\n",
    "        features = scaler.transform(features.values)\n",
    "\n",
    "        # Convert the array back to a dataframe\n",
    "        dataset = DataFrame(features)    \n",
    "        col_notscale = ['Buy_Date','Stock','wr']\n",
    "        features_notscale = trans[col_notscale]\n",
    "\n",
    "        # Saving in multiple variable\n",
    "        d[\"{}\".format(stock)] = dataset\n",
    "        ss[\"{}\".format(stock)] = features_notscale\n",
    "        #print(\"----------------DONE {}------------------\".format(symbol))\n",
    "\n",
    "    # Combining all training data generated\n",
    "    df_notscale = pd.concat(list(ss.values()),ignore_index=True)\n",
    "    df_scale = pd.concat(list(d.values()),ignore_index=True)\n",
    "    df_scale = df_scale.rename(columns={0: 'Buy', 1: 'Low',2: 'Open', 3: 'Volume',4: 'High'})\n",
    "    result_scaler = pd.concat([df_notscale, df_scale], axis=1)\n",
    "\n",
    "    # Setting Dates as index\n",
    "    df_all = result_scaler.sort_values(by=\"Buy_Date\")\n",
    "    df_all.set_index('Buy_Date', inplace=True)\n",
    "    original = pd.concat(all_ori_stocks)\n",
    "    \n",
    "    #print('############################### DONE STRATEGY LABEL ##############################')\n",
    "    \n",
    "    return df_all\n",
    "    #return(original, df_all, nsp, sp)"
   ]
  },
  {
   "cell_type": "code",
   "execution_count": 3,
   "metadata": {},
   "outputs": [],
   "source": [
    "def data_prep(df):\n",
    "    # Encoding the stock names\n",
    "    le = LabelEncoder()\n",
    "    df[\"Stock\"] = le.fit_transform(df[\"Stock\"])\n",
    "\n",
    "    # Define the splitting date (for training we use 2 years data)\n",
    "    # Splitting train test\n",
    "    day = dt.datetime.today().day\n",
    "    month = dt.datetime.today().month\n",
    "    year = dt.datetime.today().year - 5\n",
    "    date1 = \"{}-{}-01\".format(year, str(month).zfill(2), str(day).zfill(2))\n",
    "    date2 = str(dt.datetime.today().date())  # until yesterday only\n",
    "\n",
    "    # Separate input features and target\n",
    "    X = df.drop(['wr'], axis=1)\n",
    "    y = df.wr\n",
    "    \n",
    "    # Splitting train test\n",
    "    X_train, y_train = X[date1: date2], y[date1: date2]\n",
    "    X_trainss, y_train = X_train.to_numpy(), y_train.to_numpy()\n",
    "    \n",
    "    #print('############################## DONE DATA PREP #################################')\n",
    "\n",
    "    return(X,y)"
   ]
  },
  {
   "cell_type": "code",
   "execution_count": 4,
   "metadata": {},
   "outputs": [],
   "source": [
    "def walk_forward(X,y,df_all,start_year):\n",
    "    start_y = start_year  \n",
    "    #end_y = end_year\n",
    "\n",
    "    test_prec = []\n",
    "    train_acc = []\n",
    "    test_acc = []\n",
    "    for i in range(1):  # years remaining\n",
    "        for j in range(1,13,1):  # iteratting from 1 - 12\n",
    "\n",
    "            # Fill the string with zeros until it is 2 characters long  \n",
    "            date1 = \"{}-{}-01\".format(start_y + i, str(j).zfill(2))  # starting of the test set\n",
    "            date2 = \"{}-{}-01\".format(start_y + i, str(j + 1).zfill(2))  # contain in 1 month only\n",
    "\n",
    "            if j == 12:\n",
    "                date2 = \"{}-{}-01\".format(start_y + (i + 1), str((j + 1) - j).zfill(2))  # contain in 1 month only\n",
    "\n",
    "            if date2 < str(df_all.index[-1]):  # limiting the splitting for duration below the last date\n",
    "\n",
    "                #print(\"Start:\", date1)\n",
    "                #print(\"End:\", date2)\n",
    "\n",
    "                # splitting train test\n",
    "                X_train, y_train = X[:date1], y[:date1]\n",
    "                X_test, y_test = X[date1:date2], y[date1:date2]\n",
    "                #print(\"#### {}, {} ####\".format(len(X_train), len(X_test)))\n",
    "\n",
    "\n",
    "\n",
    "                # defining the model\n",
    "                model = XGBClassifier(verbosity=0)\n",
    "                # training the model\n",
    "                model.fit(X_train, y_train)\n",
    "\n",
    "                # predicting the train and test set\n",
    "                # train\n",
    "                y_pred = model.predict(X_train)\n",
    "                pred1 = [round(value) for value in y_pred]\n",
    "                train_accuracy = accuracy_score(y_train, pred1)\n",
    "                train_acc.append(train_accuracy)\n",
    "\n",
    "                # test\n",
    "                y_pred = model.predict(X_test)\n",
    "                pred2 = [round(value) for value in y_pred]\n",
    "                test_accuracy = accuracy_score(y_test, pred2)\n",
    "                test_acc.append(test_accuracy)\n",
    "                #print(\"Test Accuracy: %.2f%%\" % (test_accuracy * 100.0))\n",
    "\n",
    "                precision = precision_score(y_test, pred2)\n",
    "                test_prec.append(precision)\n",
    "                #print(\"Test Precision: %.2f%%\" % (precision * 100.0))\n",
    "\n",
    "                #if i == 0:\n",
    "                    #print(\"----------------------------- DONE ROUND {} -----------------------------\".format(i*10 + j))\n",
    "                #else:\n",
    "                    #print(\"----------------------------- DONE ROUND {} ----------------------------- \\n\".format(i*10 + j+(2*i)))\n",
    "    # remove nan values for list test_acc\n",
    "    new_test_acc = [x for x in test_acc if np.isnan(x) == False]\n",
    "    avg_1 = sum(train_acc)/len(train_acc)  # calculating the average accuracy of the train set\n",
    "    avg_2 = round(sum(new_test_acc)/len(new_test_acc),4)  # calculating the average accuracy of the test set\n",
    "    print(\"Overall Train accuracy is: {}\".format(avg_1))\n",
    "    print(\"Overall Test accuracy is: {}\".format(avg_2)) \n",
    "\n",
    "    avg_3 = round(sum(test_prec)/len(test_prec),4)  # calculating the average accuracy of the train set\n",
    "    print(\"Overall Test precision is: {}\".format(avg_3))\n",
    "    return avg_3,start_y\n",
    "\n",
    "    \n",
    "    "
   ]
  },
  {
   "cell_type": "code",
   "execution_count": 5,
   "metadata": {},
   "outputs": [],
   "source": [
    "def sector_filter(sector):\n",
    "\n",
    "  # pulling data from api\n",
    "  URL = 'https://admin.isaham.my/api/stocks/list'\n",
    "  r = requests.get(url = URL) \n",
    "  data = r.json() \n",
    "  df = pd.DataFrame(data['stocks'],columns = ['code','symbol','name','primary-sector','secondary-sector'])\n",
    "\n",
    "  wl = df[df[\"primary-sector\"]==sector]\n",
    "  wl = list(wl.symbol)\n",
    "\n",
    "  return(wl)"
   ]
  },
  {
   "cell_type": "code",
   "execution_count": 6,
   "metadata": {},
   "outputs": [],
   "source": [
    "def precision(wl,start_year):\n",
    "    df_all=strategy_label(wl)\n",
    "    X,y=data_prep(df_all)\n",
    "    avg_3,start_y=walk_forward(X,y,df_all,start_year)\n",
    "    \n",
    "    return X,y,df_all,avg_3,start_y"
   ]
  },
  {
   "cell_type": "code",
   "execution_count": null,
   "metadata": {},
   "outputs": [],
   "source": []
  },
  {
   "cell_type": "markdown",
   "metadata": {},
   "source": [
    "### By sector performance"
   ]
  },
  {
   "cell_type": "code",
   "execution_count": 7,
   "metadata": {
    "scrolled": true
   },
   "outputs": [
    {
     "name": "stdout",
     "output_type": "stream",
     "text": [
      "Healthcare:\n"
     ]
    },
    {
     "name": "stderr",
     "output_type": "stream",
     "text": [
      "C:\\Users\\Public\\Documents\\anaconda\\lib\\site-packages\\xgboost\\sklearn.py:888: UserWarning: The use of label encoder in XGBClassifier is deprecated and will be removed in a future release. To remove this warning, do the following: 1) Pass option use_label_encoder=False when constructing XGBClassifier object; and 2) Encode your labels (y) as integers starting with 0, i.e. 0, 1, 2, ..., [num_class - 1].\n",
      "  warnings.warn(label_encoder_deprecation_msg, UserWarning)\n"
     ]
    },
    {
     "name": "stdout",
     "output_type": "stream",
     "text": [
      "Overall Train accuracy is: 0.9847146911081994\n",
      "Overall Test accuracy is: 0.6559\n",
      "Overall Test precision is: 0.6625\n",
      "############################## DONE #################################\n"
     ]
    },
    {
     "name": "stderr",
     "output_type": "stream",
     "text": [
      "C:\\Users\\Public\\Documents\\anaconda\\lib\\site-packages\\xgboost\\sklearn.py:888: UserWarning: The use of label encoder in XGBClassifier is deprecated and will be removed in a future release. To remove this warning, do the following: 1) Pass option use_label_encoder=False when constructing XGBClassifier object; and 2) Encode your labels (y) as integers starting with 0, i.e. 0, 1, 2, ..., [num_class - 1].\n",
      "  warnings.warn(label_encoder_deprecation_msg, UserWarning)\n"
     ]
    },
    {
     "name": "stdout",
     "output_type": "stream",
     "text": [
      "Overall Train accuracy is: 0.9855771901506075\n",
      "Overall Test accuracy is: 0.5746\n",
      "Overall Test precision is: 0.6778\n",
      "############################## DONE #################################\n"
     ]
    },
    {
     "name": "stderr",
     "output_type": "stream",
     "text": [
      "C:\\Users\\Public\\Documents\\anaconda\\lib\\site-packages\\xgboost\\sklearn.py:888: UserWarning: The use of label encoder in XGBClassifier is deprecated and will be removed in a future release. To remove this warning, do the following: 1) Pass option use_label_encoder=False when constructing XGBClassifier object; and 2) Encode your labels (y) as integers starting with 0, i.e. 0, 1, 2, ..., [num_class - 1].\n",
      "  warnings.warn(label_encoder_deprecation_msg, UserWarning)\n",
      "C:\\Users\\Public\\Documents\\anaconda\\lib\\site-packages\\numpy\\lib\\function_base.py:380: RuntimeWarning: Mean of empty slice.\n",
      "  avg = a.mean(axis)\n",
      "C:\\Users\\Public\\Documents\\anaconda\\lib\\site-packages\\numpy\\core\\_methods.py:170: RuntimeWarning: invalid value encountered in double_scalars\n",
      "  ret = ret.dtype.type(ret / rcount)\n",
      "C:\\Users\\Public\\Documents\\anaconda\\lib\\site-packages\\sklearn\\metrics\\_classification.py:1221: UndefinedMetricWarning: Precision is ill-defined and being set to 0.0 due to no predicted samples. Use `zero_division` parameter to control this behavior.\n",
      "  _warn_prf(average, modifier, msg_start, len(result))\n"
     ]
    },
    {
     "name": "stdout",
     "output_type": "stream",
     "text": [
      "Overall Train accuracy is: 0.9849984431464626\n",
      "Overall Test accuracy is: 0.5028\n",
      "Overall Test precision is: 0.4291\n",
      "############################## DONE #################################\n"
     ]
    },
    {
     "name": "stderr",
     "output_type": "stream",
     "text": [
      "C:\\Users\\Public\\Documents\\anaconda\\lib\\site-packages\\xgboost\\sklearn.py:888: UserWarning: The use of label encoder in XGBClassifier is deprecated and will be removed in a future release. To remove this warning, do the following: 1) Pass option use_label_encoder=False when constructing XGBClassifier object; and 2) Encode your labels (y) as integers starting with 0, i.e. 0, 1, 2, ..., [num_class - 1].\n",
      "  warnings.warn(label_encoder_deprecation_msg, UserWarning)\n",
      "C:\\Users\\Public\\Documents\\anaconda\\lib\\site-packages\\sklearn\\metrics\\_classification.py:1221: UndefinedMetricWarning: Precision is ill-defined and being set to 0.0 due to no predicted samples. Use `zero_division` parameter to control this behavior.\n",
      "  _warn_prf(average, modifier, msg_start, len(result))\n"
     ]
    },
    {
     "name": "stdout",
     "output_type": "stream",
     "text": [
      "Overall Train accuracy is: 0.9844485503173138\n",
      "Overall Test accuracy is: 0.5449\n",
      "Overall Test precision is: 0.5407\n",
      "############################## DONE #################################\n"
     ]
    },
    {
     "name": "stderr",
     "output_type": "stream",
     "text": [
      "C:\\Users\\Public\\Documents\\anaconda\\lib\\site-packages\\xgboost\\sklearn.py:888: UserWarning: The use of label encoder in XGBClassifier is deprecated and will be removed in a future release. To remove this warning, do the following: 1) Pass option use_label_encoder=False when constructing XGBClassifier object; and 2) Encode your labels (y) as integers starting with 0, i.e. 0, 1, 2, ..., [num_class - 1].\n",
      "  warnings.warn(label_encoder_deprecation_msg, UserWarning)\n",
      "C:\\Users\\Public\\Documents\\anaconda\\lib\\site-packages\\numpy\\lib\\function_base.py:380: RuntimeWarning: Mean of empty slice.\n",
      "  avg = a.mean(axis)\n",
      "C:\\Users\\Public\\Documents\\anaconda\\lib\\site-packages\\numpy\\core\\_methods.py:170: RuntimeWarning: invalid value encountered in double_scalars\n",
      "  ret = ret.dtype.type(ret / rcount)\n",
      "C:\\Users\\Public\\Documents\\anaconda\\lib\\site-packages\\sklearn\\metrics\\_classification.py:1221: UndefinedMetricWarning: Precision is ill-defined and being set to 0.0 due to no predicted samples. Use `zero_division` parameter to control this behavior.\n",
      "  _warn_prf(average, modifier, msg_start, len(result))\n"
     ]
    },
    {
     "name": "stdout",
     "output_type": "stream",
     "text": [
      "Overall Train accuracy is: 0.9794189502136997\n",
      "Overall Test accuracy is: 0.6309\n",
      "Overall Test precision is: 0.6775\n",
      "############################## DONE #################################\n",
      "Telecommunications & Media:\n"
     ]
    },
    {
     "name": "stderr",
     "output_type": "stream",
     "text": [
      "C:\\Users\\Public\\Documents\\anaconda\\lib\\site-packages\\xgboost\\sklearn.py:888: UserWarning: The use of label encoder in XGBClassifier is deprecated and will be removed in a future release. To remove this warning, do the following: 1) Pass option use_label_encoder=False when constructing XGBClassifier object; and 2) Encode your labels (y) as integers starting with 0, i.e. 0, 1, 2, ..., [num_class - 1].\n",
      "  warnings.warn(label_encoder_deprecation_msg, UserWarning)\n"
     ]
    },
    {
     "name": "stdout",
     "output_type": "stream",
     "text": [
      "Overall Train accuracy is: 0.986222665150696\n",
      "Overall Test accuracy is: 0.536\n",
      "Overall Test precision is: 0.5851\n",
      "############################## DONE #################################\n"
     ]
    },
    {
     "name": "stderr",
     "output_type": "stream",
     "text": [
      "C:\\Users\\Public\\Documents\\anaconda\\lib\\site-packages\\xgboost\\sklearn.py:888: UserWarning: The use of label encoder in XGBClassifier is deprecated and will be removed in a future release. To remove this warning, do the following: 1) Pass option use_label_encoder=False when constructing XGBClassifier object; and 2) Encode your labels (y) as integers starting with 0, i.e. 0, 1, 2, ..., [num_class - 1].\n",
      "  warnings.warn(label_encoder_deprecation_msg, UserWarning)\n"
     ]
    },
    {
     "name": "stdout",
     "output_type": "stream",
     "text": [
      "Overall Train accuracy is: 0.9813005617925515\n",
      "Overall Test accuracy is: 0.6305\n",
      "Overall Test precision is: 0.7156\n",
      "############################## DONE #################################\n"
     ]
    },
    {
     "name": "stderr",
     "output_type": "stream",
     "text": [
      "C:\\Users\\Public\\Documents\\anaconda\\lib\\site-packages\\xgboost\\sklearn.py:888: UserWarning: The use of label encoder in XGBClassifier is deprecated and will be removed in a future release. To remove this warning, do the following: 1) Pass option use_label_encoder=False when constructing XGBClassifier object; and 2) Encode your labels (y) as integers starting with 0, i.e. 0, 1, 2, ..., [num_class - 1].\n",
      "  warnings.warn(label_encoder_deprecation_msg, UserWarning)\n",
      "C:\\Users\\Public\\Documents\\anaconda\\lib\\site-packages\\sklearn\\metrics\\_classification.py:1221: UndefinedMetricWarning: Precision is ill-defined and being set to 0.0 due to no predicted samples. Use `zero_division` parameter to control this behavior.\n",
      "  _warn_prf(average, modifier, msg_start, len(result))\n"
     ]
    },
    {
     "name": "stdout",
     "output_type": "stream",
     "text": [
      "Overall Train accuracy is: 0.9816639956298397\n",
      "Overall Test accuracy is: 0.5402\n",
      "Overall Test precision is: 0.3526\n",
      "############################## DONE #################################\n"
     ]
    },
    {
     "name": "stderr",
     "output_type": "stream",
     "text": [
      "C:\\Users\\Public\\Documents\\anaconda\\lib\\site-packages\\xgboost\\sklearn.py:888: UserWarning: The use of label encoder in XGBClassifier is deprecated and will be removed in a future release. To remove this warning, do the following: 1) Pass option use_label_encoder=False when constructing XGBClassifier object; and 2) Encode your labels (y) as integers starting with 0, i.e. 0, 1, 2, ..., [num_class - 1].\n",
      "  warnings.warn(label_encoder_deprecation_msg, UserWarning)\n"
     ]
    },
    {
     "name": "stdout",
     "output_type": "stream",
     "text": [
      "Overall Train accuracy is: 0.9803685165177484\n",
      "Overall Test accuracy is: 0.5959\n",
      "Overall Test precision is: 0.573\n",
      "############################## DONE #################################\n"
     ]
    },
    {
     "name": "stderr",
     "output_type": "stream",
     "text": [
      "C:\\Users\\Public\\Documents\\anaconda\\lib\\site-packages\\xgboost\\sklearn.py:888: UserWarning: The use of label encoder in XGBClassifier is deprecated and will be removed in a future release. To remove this warning, do the following: 1) Pass option use_label_encoder=False when constructing XGBClassifier object; and 2) Encode your labels (y) as integers starting with 0, i.e. 0, 1, 2, ..., [num_class - 1].\n",
      "  warnings.warn(label_encoder_deprecation_msg, UserWarning)\n"
     ]
    },
    {
     "name": "stdout",
     "output_type": "stream",
     "text": [
      "Overall Train accuracy is: 0.9766741161464632\n",
      "Overall Test accuracy is: 0.5161\n",
      "Overall Test precision is: 0.5683\n",
      "############################## DONE #################################\n",
      "Technology:\n"
     ]
    },
    {
     "name": "stderr",
     "output_type": "stream",
     "text": [
      "C:\\Users\\Public\\Documents\\anaconda\\lib\\site-packages\\xgboost\\sklearn.py:888: UserWarning: The use of label encoder in XGBClassifier is deprecated and will be removed in a future release. To remove this warning, do the following: 1) Pass option use_label_encoder=False when constructing XGBClassifier object; and 2) Encode your labels (y) as integers starting with 0, i.e. 0, 1, 2, ..., [num_class - 1].\n",
      "  warnings.warn(label_encoder_deprecation_msg, UserWarning)\n"
     ]
    },
    {
     "name": "stdout",
     "output_type": "stream",
     "text": [
      "Overall Train accuracy is: 0.9228057930747434\n",
      "Overall Test accuracy is: 0.6001\n",
      "Overall Test precision is: 0.5915\n",
      "############################## DONE #################################\n"
     ]
    },
    {
     "name": "stderr",
     "output_type": "stream",
     "text": [
      "C:\\Users\\Public\\Documents\\anaconda\\lib\\site-packages\\xgboost\\sklearn.py:888: UserWarning: The use of label encoder in XGBClassifier is deprecated and will be removed in a future release. To remove this warning, do the following: 1) Pass option use_label_encoder=False when constructing XGBClassifier object; and 2) Encode your labels (y) as integers starting with 0, i.e. 0, 1, 2, ..., [num_class - 1].\n",
      "  warnings.warn(label_encoder_deprecation_msg, UserWarning)\n"
     ]
    },
    {
     "name": "stdout",
     "output_type": "stream",
     "text": [
      "Overall Train accuracy is: 0.9154097276390183\n",
      "Overall Test accuracy is: 0.5865\n",
      "Overall Test precision is: 0.6229\n",
      "############################## DONE #################################\n"
     ]
    },
    {
     "name": "stderr",
     "output_type": "stream",
     "text": [
      "C:\\Users\\Public\\Documents\\anaconda\\lib\\site-packages\\xgboost\\sklearn.py:888: UserWarning: The use of label encoder in XGBClassifier is deprecated and will be removed in a future release. To remove this warning, do the following: 1) Pass option use_label_encoder=False when constructing XGBClassifier object; and 2) Encode your labels (y) as integers starting with 0, i.e. 0, 1, 2, ..., [num_class - 1].\n",
      "  warnings.warn(label_encoder_deprecation_msg, UserWarning)\n"
     ]
    },
    {
     "name": "stdout",
     "output_type": "stream",
     "text": [
      "Overall Train accuracy is: 0.915127017648723\n",
      "Overall Test accuracy is: 0.5046\n",
      "Overall Test precision is: 0.3924\n",
      "############################## DONE #################################\n"
     ]
    },
    {
     "name": "stderr",
     "output_type": "stream",
     "text": [
      "C:\\Users\\Public\\Documents\\anaconda\\lib\\site-packages\\xgboost\\sklearn.py:888: UserWarning: The use of label encoder in XGBClassifier is deprecated and will be removed in a future release. To remove this warning, do the following: 1) Pass option use_label_encoder=False when constructing XGBClassifier object; and 2) Encode your labels (y) as integers starting with 0, i.e. 0, 1, 2, ..., [num_class - 1].\n",
      "  warnings.warn(label_encoder_deprecation_msg, UserWarning)\n"
     ]
    },
    {
     "name": "stdout",
     "output_type": "stream",
     "text": [
      "Overall Train accuracy is: 0.9121894969657073\n",
      "Overall Test accuracy is: 0.6345\n",
      "Overall Test precision is: 0.6176\n",
      "############################## DONE #################################\n"
     ]
    },
    {
     "name": "stderr",
     "output_type": "stream",
     "text": [
      "C:\\Users\\Public\\Documents\\anaconda\\lib\\site-packages\\xgboost\\sklearn.py:888: UserWarning: The use of label encoder in XGBClassifier is deprecated and will be removed in a future release. To remove this warning, do the following: 1) Pass option use_label_encoder=False when constructing XGBClassifier object; and 2) Encode your labels (y) as integers starting with 0, i.e. 0, 1, 2, ..., [num_class - 1].\n",
      "  warnings.warn(label_encoder_deprecation_msg, UserWarning)\n"
     ]
    },
    {
     "name": "stdout",
     "output_type": "stream",
     "text": [
      "Overall Train accuracy is: 0.9056762771653517\n",
      "Overall Test accuracy is: 0.6012\n",
      "Overall Test precision is: 0.6251\n",
      "############################## DONE #################################\n",
      "Utilities:\n"
     ]
    },
    {
     "name": "stderr",
     "output_type": "stream",
     "text": [
      "C:\\Users\\Public\\Documents\\anaconda\\lib\\site-packages\\xgboost\\sklearn.py:888: UserWarning: The use of label encoder in XGBClassifier is deprecated and will be removed in a future release. To remove this warning, do the following: 1) Pass option use_label_encoder=False when constructing XGBClassifier object; and 2) Encode your labels (y) as integers starting with 0, i.e. 0, 1, 2, ..., [num_class - 1].\n",
      "  warnings.warn(label_encoder_deprecation_msg, UserWarning)\n",
      "C:\\Users\\Public\\Documents\\anaconda\\lib\\site-packages\\sklearn\\metrics\\_classification.py:1221: UndefinedMetricWarning: Precision is ill-defined and being set to 0.0 due to no predicted samples. Use `zero_division` parameter to control this behavior.\n",
      "  _warn_prf(average, modifier, msg_start, len(result))\n"
     ]
    },
    {
     "name": "stdout",
     "output_type": "stream",
     "text": [
      "Overall Train accuracy is: 0.9922206238420347\n",
      "Overall Test accuracy is: 0.5882\n",
      "Overall Test precision is: 0.5056\n",
      "############################## DONE #################################\n"
     ]
    },
    {
     "name": "stderr",
     "output_type": "stream",
     "text": [
      "C:\\Users\\Public\\Documents\\anaconda\\lib\\site-packages\\xgboost\\sklearn.py:888: UserWarning: The use of label encoder in XGBClassifier is deprecated and will be removed in a future release. To remove this warning, do the following: 1) Pass option use_label_encoder=False when constructing XGBClassifier object; and 2) Encode your labels (y) as integers starting with 0, i.e. 0, 1, 2, ..., [num_class - 1].\n",
      "  warnings.warn(label_encoder_deprecation_msg, UserWarning)\n",
      "C:\\Users\\Public\\Documents\\anaconda\\lib\\site-packages\\numpy\\lib\\function_base.py:380: RuntimeWarning: Mean of empty slice.\n",
      "  avg = a.mean(axis)\n",
      "C:\\Users\\Public\\Documents\\anaconda\\lib\\site-packages\\numpy\\core\\_methods.py:170: RuntimeWarning: invalid value encountered in double_scalars\n",
      "  ret = ret.dtype.type(ret / rcount)\n",
      "C:\\Users\\Public\\Documents\\anaconda\\lib\\site-packages\\sklearn\\metrics\\_classification.py:1221: UndefinedMetricWarning: Precision is ill-defined and being set to 0.0 due to no predicted samples. Use `zero_division` parameter to control this behavior.\n",
      "  _warn_prf(average, modifier, msg_start, len(result))\n"
     ]
    },
    {
     "name": "stdout",
     "output_type": "stream",
     "text": [
      "Overall Train accuracy is: 0.9921418446268836\n",
      "Overall Test accuracy is: 0.5689\n",
      "Overall Test precision is: 0.5264\n",
      "############################## DONE #################################\n"
     ]
    },
    {
     "name": "stderr",
     "output_type": "stream",
     "text": [
      "C:\\Users\\Public\\Documents\\anaconda\\lib\\site-packages\\xgboost\\sklearn.py:888: UserWarning: The use of label encoder in XGBClassifier is deprecated and will be removed in a future release. To remove this warning, do the following: 1) Pass option use_label_encoder=False when constructing XGBClassifier object; and 2) Encode your labels (y) as integers starting with 0, i.e. 0, 1, 2, ..., [num_class - 1].\n",
      "  warnings.warn(label_encoder_deprecation_msg, UserWarning)\n",
      "C:\\Users\\Public\\Documents\\anaconda\\lib\\site-packages\\numpy\\lib\\function_base.py:380: RuntimeWarning: Mean of empty slice.\n",
      "  avg = a.mean(axis)\n",
      "C:\\Users\\Public\\Documents\\anaconda\\lib\\site-packages\\numpy\\core\\_methods.py:170: RuntimeWarning: invalid value encountered in double_scalars\n",
      "  ret = ret.dtype.type(ret / rcount)\n",
      "C:\\Users\\Public\\Documents\\anaconda\\lib\\site-packages\\sklearn\\metrics\\_classification.py:1221: UndefinedMetricWarning: Precision is ill-defined and being set to 0.0 due to no predicted samples. Use `zero_division` parameter to control this behavior.\n",
      "  _warn_prf(average, modifier, msg_start, len(result))\n"
     ]
    },
    {
     "name": "stdout",
     "output_type": "stream",
     "text": [
      "Overall Train accuracy is: 0.9928430195760747\n",
      "Overall Test accuracy is: 0.5412\n",
      "Overall Test precision is: 0.4278\n",
      "############################## DONE #################################\n"
     ]
    },
    {
     "name": "stderr",
     "output_type": "stream",
     "text": [
      "C:\\Users\\Public\\Documents\\anaconda\\lib\\site-packages\\xgboost\\sklearn.py:888: UserWarning: The use of label encoder in XGBClassifier is deprecated and will be removed in a future release. To remove this warning, do the following: 1) Pass option use_label_encoder=False when constructing XGBClassifier object; and 2) Encode your labels (y) as integers starting with 0, i.e. 0, 1, 2, ..., [num_class - 1].\n",
      "  warnings.warn(label_encoder_deprecation_msg, UserWarning)\n",
      "C:\\Users\\Public\\Documents\\anaconda\\lib\\site-packages\\sklearn\\metrics\\_classification.py:1221: UndefinedMetricWarning: Precision is ill-defined and being set to 0.0 due to no predicted samples. Use `zero_division` parameter to control this behavior.\n",
      "  _warn_prf(average, modifier, msg_start, len(result))\n"
     ]
    },
    {
     "name": "stdout",
     "output_type": "stream",
     "text": [
      "Overall Train accuracy is: 0.9917301100349398\n",
      "Overall Test accuracy is: 0.4942\n",
      "Overall Test precision is: 0.5333\n",
      "############################## DONE #################################\n"
     ]
    },
    {
     "name": "stderr",
     "output_type": "stream",
     "text": [
      "C:\\Users\\Public\\Documents\\anaconda\\lib\\site-packages\\xgboost\\sklearn.py:888: UserWarning: The use of label encoder in XGBClassifier is deprecated and will be removed in a future release. To remove this warning, do the following: 1) Pass option use_label_encoder=False when constructing XGBClassifier object; and 2) Encode your labels (y) as integers starting with 0, i.e. 0, 1, 2, ..., [num_class - 1].\n",
      "  warnings.warn(label_encoder_deprecation_msg, UserWarning)\n",
      "C:\\Users\\Public\\Documents\\anaconda\\lib\\site-packages\\numpy\\lib\\function_base.py:380: RuntimeWarning: Mean of empty slice.\n",
      "  avg = a.mean(axis)\n",
      "C:\\Users\\Public\\Documents\\anaconda\\lib\\site-packages\\numpy\\core\\_methods.py:170: RuntimeWarning: invalid value encountered in double_scalars\n",
      "  ret = ret.dtype.type(ret / rcount)\n",
      "C:\\Users\\Public\\Documents\\anaconda\\lib\\site-packages\\sklearn\\metrics\\_classification.py:1221: UndefinedMetricWarning: Precision is ill-defined and being set to 0.0 due to no predicted samples. Use `zero_division` parameter to control this behavior.\n",
      "  _warn_prf(average, modifier, msg_start, len(result))\n"
     ]
    },
    {
     "name": "stdout",
     "output_type": "stream",
     "text": [
      "Overall Train accuracy is: 0.9901177235659074\n",
      "Overall Test accuracy is: 0.5528\n",
      "Overall Test precision is: 0.5223\n",
      "############################## DONE #################################\n",
      "Energy:\n"
     ]
    },
    {
     "name": "stderr",
     "output_type": "stream",
     "text": [
      "C:\\Users\\Public\\Documents\\anaconda\\lib\\site-packages\\xgboost\\sklearn.py:888: UserWarning: The use of label encoder in XGBClassifier is deprecated and will be removed in a future release. To remove this warning, do the following: 1) Pass option use_label_encoder=False when constructing XGBClassifier object; and 2) Encode your labels (y) as integers starting with 0, i.e. 0, 1, 2, ..., [num_class - 1].\n",
      "  warnings.warn(label_encoder_deprecation_msg, UserWarning)\n",
      "C:\\Users\\Public\\Documents\\anaconda\\lib\\site-packages\\sklearn\\metrics\\_classification.py:1221: UndefinedMetricWarning: Precision is ill-defined and being set to 0.0 due to no predicted samples. Use `zero_division` parameter to control this behavior.\n",
      "  _warn_prf(average, modifier, msg_start, len(result))\n"
     ]
    },
    {
     "name": "stdout",
     "output_type": "stream",
     "text": [
      "Overall Train accuracy is: 0.9820291450304013\n",
      "Overall Test accuracy is: 0.7\n",
      "Overall Test precision is: 0.4826\n",
      "############################## DONE #################################\n"
     ]
    },
    {
     "name": "stderr",
     "output_type": "stream",
     "text": [
      "C:\\Users\\Public\\Documents\\anaconda\\lib\\site-packages\\xgboost\\sklearn.py:888: UserWarning: The use of label encoder in XGBClassifier is deprecated and will be removed in a future release. To remove this warning, do the following: 1) Pass option use_label_encoder=False when constructing XGBClassifier object; and 2) Encode your labels (y) as integers starting with 0, i.e. 0, 1, 2, ..., [num_class - 1].\n",
      "  warnings.warn(label_encoder_deprecation_msg, UserWarning)\n"
     ]
    },
    {
     "name": "stdout",
     "output_type": "stream",
     "text": [
      "Overall Train accuracy is: 0.9775842915520204\n",
      "Overall Test accuracy is: 0.6091\n",
      "Overall Test precision is: 0.7306\n",
      "############################## DONE #################################\n"
     ]
    },
    {
     "name": "stderr",
     "output_type": "stream",
     "text": [
      "C:\\Users\\Public\\Documents\\anaconda\\lib\\site-packages\\xgboost\\sklearn.py:888: UserWarning: The use of label encoder in XGBClassifier is deprecated and will be removed in a future release. To remove this warning, do the following: 1) Pass option use_label_encoder=False when constructing XGBClassifier object; and 2) Encode your labels (y) as integers starting with 0, i.e. 0, 1, 2, ..., [num_class - 1].\n",
      "  warnings.warn(label_encoder_deprecation_msg, UserWarning)\n",
      "C:\\Users\\Public\\Documents\\anaconda\\lib\\site-packages\\sklearn\\metrics\\_classification.py:1221: UndefinedMetricWarning: Precision is ill-defined and being set to 0.0 due to no predicted samples. Use `zero_division` parameter to control this behavior.\n",
      "  _warn_prf(average, modifier, msg_start, len(result))\n",
      "C:\\Users\\Public\\Documents\\anaconda\\lib\\site-packages\\numpy\\lib\\function_base.py:380: RuntimeWarning: Mean of empty slice.\n",
      "  avg = a.mean(axis)\n",
      "C:\\Users\\Public\\Documents\\anaconda\\lib\\site-packages\\numpy\\core\\_methods.py:170: RuntimeWarning: invalid value encountered in double_scalars\n",
      "  ret = ret.dtype.type(ret / rcount)\n"
     ]
    },
    {
     "name": "stdout",
     "output_type": "stream",
     "text": [
      "Overall Train accuracy is: 0.9737899362962876\n",
      "Overall Test accuracy is: 0.4386\n",
      "Overall Test precision is: 0.3655\n",
      "############################## DONE #################################\n"
     ]
    },
    {
     "name": "stderr",
     "output_type": "stream",
     "text": [
      "C:\\Users\\Public\\Documents\\anaconda\\lib\\site-packages\\xgboost\\sklearn.py:888: UserWarning: The use of label encoder in XGBClassifier is deprecated and will be removed in a future release. To remove this warning, do the following: 1) Pass option use_label_encoder=False when constructing XGBClassifier object; and 2) Encode your labels (y) as integers starting with 0, i.e. 0, 1, 2, ..., [num_class - 1].\n",
      "  warnings.warn(label_encoder_deprecation_msg, UserWarning)\n"
     ]
    },
    {
     "name": "stdout",
     "output_type": "stream",
     "text": [
      "Overall Train accuracy is: 0.9703217806150297\n",
      "Overall Test accuracy is: 0.6798\n",
      "Overall Test precision is: 0.7638\n",
      "############################## DONE #################################\n"
     ]
    },
    {
     "name": "stderr",
     "output_type": "stream",
     "text": [
      "C:\\Users\\Public\\Documents\\anaconda\\lib\\site-packages\\xgboost\\sklearn.py:888: UserWarning: The use of label encoder in XGBClassifier is deprecated and will be removed in a future release. To remove this warning, do the following: 1) Pass option use_label_encoder=False when constructing XGBClassifier object; and 2) Encode your labels (y) as integers starting with 0, i.e. 0, 1, 2, ..., [num_class - 1].\n",
      "  warnings.warn(label_encoder_deprecation_msg, UserWarning)\n",
      "C:\\Users\\Public\\Documents\\anaconda\\lib\\site-packages\\sklearn\\metrics\\_classification.py:1221: UndefinedMetricWarning: Precision is ill-defined and being set to 0.0 due to no predicted samples. Use `zero_division` parameter to control this behavior.\n",
      "  _warn_prf(average, modifier, msg_start, len(result))\n"
     ]
    },
    {
     "name": "stdout",
     "output_type": "stream",
     "text": [
      "Overall Train accuracy is: 0.9665775252001098\n",
      "Overall Test accuracy is: 0.6757\n",
      "Overall Test precision is: 0.3795\n",
      "############################## DONE #################################\n",
      "Construction:\n"
     ]
    },
    {
     "name": "stderr",
     "output_type": "stream",
     "text": [
      "C:\\Users\\Public\\Documents\\anaconda\\lib\\site-packages\\xgboost\\sklearn.py:888: UserWarning: The use of label encoder in XGBClassifier is deprecated and will be removed in a future release. To remove this warning, do the following: 1) Pass option use_label_encoder=False when constructing XGBClassifier object; and 2) Encode your labels (y) as integers starting with 0, i.e. 0, 1, 2, ..., [num_class - 1].\n",
      "  warnings.warn(label_encoder_deprecation_msg, UserWarning)\n"
     ]
    },
    {
     "name": "stdout",
     "output_type": "stream",
     "text": [
      "Overall Train accuracy is: 0.9383060023362985\n",
      "Overall Test accuracy is: 0.5758\n",
      "Overall Test precision is: 0.6246\n",
      "############################## DONE #################################\n"
     ]
    },
    {
     "name": "stderr",
     "output_type": "stream",
     "text": [
      "C:\\Users\\Public\\Documents\\anaconda\\lib\\site-packages\\xgboost\\sklearn.py:888: UserWarning: The use of label encoder in XGBClassifier is deprecated and will be removed in a future release. To remove this warning, do the following: 1) Pass option use_label_encoder=False when constructing XGBClassifier object; and 2) Encode your labels (y) as integers starting with 0, i.e. 0, 1, 2, ..., [num_class - 1].\n",
      "  warnings.warn(label_encoder_deprecation_msg, UserWarning)\n"
     ]
    },
    {
     "name": "stdout",
     "output_type": "stream",
     "text": [
      "Overall Train accuracy is: 0.9314339047416045\n",
      "Overall Test accuracy is: 0.5957\n",
      "Overall Test precision is: 0.6779\n",
      "############################## DONE #################################\n"
     ]
    },
    {
     "name": "stderr",
     "output_type": "stream",
     "text": [
      "C:\\Users\\Public\\Documents\\anaconda\\lib\\site-packages\\xgboost\\sklearn.py:888: UserWarning: The use of label encoder in XGBClassifier is deprecated and will be removed in a future release. To remove this warning, do the following: 1) Pass option use_label_encoder=False when constructing XGBClassifier object; and 2) Encode your labels (y) as integers starting with 0, i.e. 0, 1, 2, ..., [num_class - 1].\n",
      "  warnings.warn(label_encoder_deprecation_msg, UserWarning)\n"
     ]
    },
    {
     "name": "stdout",
     "output_type": "stream",
     "text": [
      "Overall Train accuracy is: 0.9287781099184059\n",
      "Overall Test accuracy is: 0.4723\n",
      "Overall Test precision is: 0.3525\n",
      "############################## DONE #################################\n"
     ]
    },
    {
     "name": "stderr",
     "output_type": "stream",
     "text": [
      "C:\\Users\\Public\\Documents\\anaconda\\lib\\site-packages\\xgboost\\sklearn.py:888: UserWarning: The use of label encoder in XGBClassifier is deprecated and will be removed in a future release. To remove this warning, do the following: 1) Pass option use_label_encoder=False when constructing XGBClassifier object; and 2) Encode your labels (y) as integers starting with 0, i.e. 0, 1, 2, ..., [num_class - 1].\n",
      "  warnings.warn(label_encoder_deprecation_msg, UserWarning)\n"
     ]
    },
    {
     "name": "stdout",
     "output_type": "stream",
     "text": [
      "Overall Train accuracy is: 0.9274783684480088\n",
      "Overall Test accuracy is: 0.5459\n",
      "Overall Test precision is: 0.5279\n",
      "############################## DONE #################################\n"
     ]
    },
    {
     "name": "stderr",
     "output_type": "stream",
     "text": [
      "C:\\Users\\Public\\Documents\\anaconda\\lib\\site-packages\\xgboost\\sklearn.py:888: UserWarning: The use of label encoder in XGBClassifier is deprecated and will be removed in a future release. To remove this warning, do the following: 1) Pass option use_label_encoder=False when constructing XGBClassifier object; and 2) Encode your labels (y) as integers starting with 0, i.e. 0, 1, 2, ..., [num_class - 1].\n",
      "  warnings.warn(label_encoder_deprecation_msg, UserWarning)\n",
      "C:\\Users\\Public\\Documents\\anaconda\\lib\\site-packages\\numpy\\lib\\function_base.py:380: RuntimeWarning: Mean of empty slice.\n",
      "  avg = a.mean(axis)\n",
      "C:\\Users\\Public\\Documents\\anaconda\\lib\\site-packages\\numpy\\core\\_methods.py:170: RuntimeWarning: invalid value encountered in double_scalars\n",
      "  ret = ret.dtype.type(ret / rcount)\n",
      "C:\\Users\\Public\\Documents\\anaconda\\lib\\site-packages\\sklearn\\metrics\\_classification.py:1221: UndefinedMetricWarning: Precision is ill-defined and being set to 0.0 due to no predicted samples. Use `zero_division` parameter to control this behavior.\n",
      "  _warn_prf(average, modifier, msg_start, len(result))\n"
     ]
    },
    {
     "name": "stdout",
     "output_type": "stream",
     "text": [
      "Overall Train accuracy is: 0.9266724083474429\n",
      "Overall Test accuracy is: 0.4723\n",
      "Overall Test precision is: 0.4387\n",
      "############################## DONE #################################\n"
     ]
    }
   ],
   "source": [
    "sectors=['Healthcare',\n",
    "         'Telecommunications & Media',\n",
    "         'Technology',\n",
    "         'Utilities',\n",
    "        'Energy',\n",
    "        'Construction'\n",
    "]\n",
    "\n",
    "save_16=[]\n",
    "name_sector_16=[]\n",
    "year_16=[]\n",
    "\n",
    "save_17=[]\n",
    "name_sector_17=[]\n",
    "year_17=[]\n",
    "\n",
    "save_18=[]\n",
    "name_sector_18=[]\n",
    "year_18=[]\n",
    "\n",
    "save_19=[]\n",
    "name_sector_19=[]\n",
    "year_19=[]\n",
    "\n",
    "save_20=[]\n",
    "name_sector_20=[]\n",
    "year_20=[]\n",
    "\n",
    "for sector in sectors:\n",
    "    wl = sector_filter(sector)\n",
    "    print(f\"{sector}:\")\n",
    "    X,y,df_all,avg_3,start_y= precision(wl,start_year=2016)\n",
    "    save_16.append(avg_3)\n",
    "    name_sector_16.append(sector)\n",
    "    year_16.append(start_y)\n",
    "    print('############################## DONE #################################')    \n",
    "    \n",
    "    X,y,df_all,avg_3,start_y= precision(wl,start_year=2017)\n",
    "    save_17.append(avg_3)\n",
    "    name_sector_17.append(sector)\n",
    "    year_17.append(start_y)\n",
    "    print('############################## DONE #################################')\n",
    "    \n",
    "    X,y,df_all,avg_3,start_y= precision(wl,start_year=2018)\n",
    "    save_18.append(avg_3)\n",
    "    name_sector_18.append(sector)\n",
    "    year_18.append(start_y)\n",
    "    print('############################## DONE #################################')\n",
    "    \n",
    "    X,y,df_all,avg_3,start_y= precision(wl,start_year=2019)\n",
    "    save_19.append(avg_3)\n",
    "    name_sector_19.append(sector)\n",
    "    year_19.append(start_y)    \n",
    "    print('############################## DONE #################################')\n",
    "    \n",
    "    X,y,df_all,avg_3,start_y= precision(wl,start_year=2020)\n",
    "    save_20.append(avg_3)\n",
    "    name_sector_20.append(sector)\n",
    "    year_20.append(start_y)\n",
    "    print('############################## DONE #################################')\n",
    "    \n",
    "\n",
    "    \n",
    "#totalresult=save_18.extend(save_19+save_20)\n",
    "#allsector=name_sector_18.extend(name_sector_19+name_sector_20)\n",
    "#record_y=year_18.extend(year_19+year_20)\n",
    "\n",
    "totalresult = save_16 + save_17 + save_18 +save_19 + save_20 \n",
    "allsector = name_sector_16 + name_sector_17 + name_sector_18+name_sector_19 + name_sector_20 \n",
    "record_y = year_16 + year_17 + year_18 + year_19 + year_20 \n",
    "\n",
    "\n",
    "backtest= {\n",
    "    \"Sector\": allsector,\n",
    "    \"Result_precision\": totalresult,\n",
    "    'Year': record_y\n",
    "}  \n",
    "\n",
    "# Save document for stochastic strategy\n",
    "df_precision = pd.DataFrame(backtest)"
   ]
  },
  {
   "cell_type": "code",
   "execution_count": 8,
   "metadata": {},
   "outputs": [],
   "source": [
    "#df_all = result_scaler.sort_values(by=\"Buy_Date\")"
   ]
  },
  {
   "cell_type": "code",
   "execution_count": 43,
   "metadata": {},
   "outputs": [],
   "source": [
    "sort_sector=df_precision.sort_values(by=\"Sector\")"
   ]
  },
  {
   "cell_type": "markdown",
   "metadata": {},
   "source": [
    "### Construction"
   ]
  },
  {
   "cell_type": "code",
   "execution_count": 54,
   "metadata": {},
   "outputs": [],
   "source": [
    "construction=sort_sector[:5]"
   ]
  },
  {
   "cell_type": "code",
   "execution_count": 73,
   "metadata": {},
   "outputs": [],
   "source": [
    "df_construction=construction.sort_values(by=\"Year\")"
   ]
  },
  {
   "cell_type": "code",
   "execution_count": 74,
   "metadata": {},
   "outputs": [
    {
     "data": {
      "text/html": [
       "<div>\n",
       "<style scoped>\n",
       "    .dataframe tbody tr th:only-of-type {\n",
       "        vertical-align: middle;\n",
       "    }\n",
       "\n",
       "    .dataframe tbody tr th {\n",
       "        vertical-align: top;\n",
       "    }\n",
       "\n",
       "    .dataframe thead th {\n",
       "        text-align: right;\n",
       "    }\n",
       "</style>\n",
       "<table border=\"1\" class=\"dataframe\">\n",
       "  <thead>\n",
       "    <tr style=\"text-align: right;\">\n",
       "      <th></th>\n",
       "      <th>Sector</th>\n",
       "      <th>Result_precision</th>\n",
       "    </tr>\n",
       "    <tr>\n",
       "      <th>Year</th>\n",
       "      <th></th>\n",
       "      <th></th>\n",
       "    </tr>\n",
       "  </thead>\n",
       "  <tbody>\n",
       "    <tr>\n",
       "      <th>2016</th>\n",
       "      <td>Construction</td>\n",
       "      <td>0.6246</td>\n",
       "    </tr>\n",
       "    <tr>\n",
       "      <th>2017</th>\n",
       "      <td>Construction</td>\n",
       "      <td>0.6779</td>\n",
       "    </tr>\n",
       "    <tr>\n",
       "      <th>2018</th>\n",
       "      <td>Construction</td>\n",
       "      <td>0.3525</td>\n",
       "    </tr>\n",
       "    <tr>\n",
       "      <th>2019</th>\n",
       "      <td>Construction</td>\n",
       "      <td>0.5279</td>\n",
       "    </tr>\n",
       "    <tr>\n",
       "      <th>2020</th>\n",
       "      <td>Construction</td>\n",
       "      <td>0.4387</td>\n",
       "    </tr>\n",
       "  </tbody>\n",
       "</table>\n",
       "</div>"
      ],
      "text/plain": [
       "            Sector  Result_precision\n",
       "Year                                \n",
       "2016  Construction            0.6246\n",
       "2017  Construction            0.6779\n",
       "2018  Construction            0.3525\n",
       "2019  Construction            0.5279\n",
       "2020  Construction            0.4387"
      ]
     },
     "execution_count": 74,
     "metadata": {},
     "output_type": "execute_result"
    }
   ],
   "source": [
    "df_construction.set_index('Year',inplace=True)\n",
    "df_construction"
   ]
  },
  {
   "cell_type": "code",
   "execution_count": 77,
   "metadata": {},
   "outputs": [
    {
     "data": {
      "image/png": "[encoded data removed]",
      "text/plain": [
       "<Figure size 720x360 with 1 Axes>"
      ]
     },
     "metadata": {
      "needs_background": "light"
     },
     "output_type": "display_data"
    }
   ],
   "source": [
    "_ = df_construction[['Sector','Result_precision']].plot.bar(figsize=(10, 5))"
   ]
  },
  {
   "cell_type": "markdown",
   "metadata": {},
   "source": [
    "### Energy"
   ]
  },
  {
   "cell_type": "code",
   "execution_count": 69,
   "metadata": {},
   "outputs": [],
   "source": [
    "energy=sort_sector[5:10]"
   ]
  },
  {
   "cell_type": "code",
   "execution_count": 70,
   "metadata": {},
   "outputs": [],
   "source": [
    "df_energy=energy.sort_values(by=\"Year\")\n"
   ]
  },
  {
   "cell_type": "code",
   "execution_count": 71,
   "metadata": {},
   "outputs": [
    {
     "data": {
      "text/html": [
       "<div>\n",
       "<style scoped>\n",
       "    .dataframe tbody tr th:only-of-type {\n",
       "        vertical-align: middle;\n",
       "    }\n",
       "\n",
       "    .dataframe tbody tr th {\n",
       "        vertical-align: top;\n",
       "    }\n",
       "\n",
       "    .dataframe thead th {\n",
       "        text-align: right;\n",
       "    }\n",
       "</style>\n",
       "<table border=\"1\" class=\"dataframe\">\n",
       "  <thead>\n",
       "    <tr style=\"text-align: right;\">\n",
       "      <th></th>\n",
       "      <th>Sector</th>\n",
       "      <th>Result_precision</th>\n",
       "    </tr>\n",
       "    <tr>\n",
       "      <th>Year</th>\n",
       "      <th></th>\n",
       "      <th></th>\n",
       "    </tr>\n",
       "  </thead>\n",
       "  <tbody>\n",
       "    <tr>\n",
       "      <th>2016</th>\n",
       "      <td>Energy</td>\n",
       "      <td>0.4826</td>\n",
       "    </tr>\n",
       "    <tr>\n",
       "      <th>2017</th>\n",
       "      <td>Energy</td>\n",
       "      <td>0.7306</td>\n",
       "    </tr>\n",
       "    <tr>\n",
       "      <th>2018</th>\n",
       "      <td>Energy</td>\n",
       "      <td>0.3655</td>\n",
       "    </tr>\n",
       "    <tr>\n",
       "      <th>2019</th>\n",
       "      <td>Energy</td>\n",
       "      <td>0.7638</td>\n",
       "    </tr>\n",
       "    <tr>\n",
       "      <th>2020</th>\n",
       "      <td>Energy</td>\n",
       "      <td>0.3795</td>\n",
       "    </tr>\n",
       "  </tbody>\n",
       "</table>\n",
       "</div>"
      ],
      "text/plain": [
       "      Sector  Result_precision\n",
       "Year                          \n",
       "2016  Energy            0.4826\n",
       "2017  Energy            0.7306\n",
       "2018  Energy            0.3655\n",
       "2019  Energy            0.7638\n",
       "2020  Energy            0.3795"
      ]
     },
     "execution_count": 71,
     "metadata": {},
     "output_type": "execute_result"
    }
   ],
   "source": [
    "df_energy.set_index('Year',inplace=True)\n",
    "df_energy"
   ]
  },
  {
   "cell_type": "code",
   "execution_count": 78,
   "metadata": {},
   "outputs": [
    {
     "data": {
      "image/png": "[encoded data removed]",
      "text/plain": [
       "<Figure size 720x360 with 1 Axes>"
      ]
     },
     "metadata": {
      "needs_background": "light"
     },
     "output_type": "display_data"
    }
   ],
   "source": [
    "_ = df_energy[['Sector','Result_precision']].plot.bar(figsize=(10, 5))"
   ]
  },
  {
   "cell_type": "markdown",
   "metadata": {},
   "source": [
    "### Healthcare"
   ]
  },
  {
   "cell_type": "code",
   "execution_count": 79,
   "metadata": {},
   "outputs": [],
   "source": [
    "Healthcare=sort_sector[10:15]"
   ]
  },
  {
   "cell_type": "code",
   "execution_count": 80,
   "metadata": {},
   "outputs": [],
   "source": [
    "df_Healthcare=Healthcare.sort_values(by=\"Year\")"
   ]
  },
  {
   "cell_type": "code",
   "execution_count": 81,
   "metadata": {},
   "outputs": [
    {
     "data": {
      "text/html": [
       "<div>\n",
       "<style scoped>\n",
       "    .dataframe tbody tr th:only-of-type {\n",
       "        vertical-align: middle;\n",
       "    }\n",
       "\n",
       "    .dataframe tbody tr th {\n",
       "        vertical-align: top;\n",
       "    }\n",
       "\n",
       "    .dataframe thead th {\n",
       "        text-align: right;\n",
       "    }\n",
       "</style>\n",
       "<table border=\"1\" class=\"dataframe\">\n",
       "  <thead>\n",
       "    <tr style=\"text-align: right;\">\n",
       "      <th></th>\n",
       "      <th>Sector</th>\n",
       "      <th>Result_precision</th>\n",
       "    </tr>\n",
       "    <tr>\n",
       "      <th>Year</th>\n",
       "      <th></th>\n",
       "      <th></th>\n",
       "    </tr>\n",
       "  </thead>\n",
       "  <tbody>\n",
       "    <tr>\n",
       "      <th>2016</th>\n",
       "      <td>Healthcare</td>\n",
       "      <td>0.6625</td>\n",
       "    </tr>\n",
       "    <tr>\n",
       "      <th>2017</th>\n",
       "      <td>Healthcare</td>\n",
       "      <td>0.6778</td>\n",
       "    </tr>\n",
       "    <tr>\n",
       "      <th>2018</th>\n",
       "      <td>Healthcare</td>\n",
       "      <td>0.4291</td>\n",
       "    </tr>\n",
       "    <tr>\n",
       "      <th>2019</th>\n",
       "      <td>Healthcare</td>\n",
       "      <td>0.5407</td>\n",
       "    </tr>\n",
       "    <tr>\n",
       "      <th>2020</th>\n",
       "      <td>Healthcare</td>\n",
       "      <td>0.6775</td>\n",
       "    </tr>\n",
       "  </tbody>\n",
       "</table>\n",
       "</div>"
      ],
      "text/plain": [
       "          Sector  Result_precision\n",
       "Year                              \n",
       "2016  Healthcare            0.6625\n",
       "2017  Healthcare            0.6778\n",
       "2018  Healthcare            0.4291\n",
       "2019  Healthcare            0.5407\n",
       "2020  Healthcare            0.6775"
      ]
     },
     "execution_count": 81,
     "metadata": {},
     "output_type": "execute_result"
    }
   ],
   "source": [
    "df_Healthcare.set_index('Year',inplace=True)\n",
    "df_Healthcare"
   ]
  },
  {
   "cell_type": "code",
   "execution_count": 82,
   "metadata": {},
   "outputs": [
    {
     "data": {
      "image/png": "[encoded data removed]",
      "text/plain": [
       "<Figure size 720x360 with 1 Axes>"
      ]
     },
     "metadata": {
      "needs_background": "light"
     },
     "output_type": "display_data"
    }
   ],
   "source": [
    "_ = df_Healthcare[['Sector','Result_precision']].plot.bar(figsize=(10, 5))"
   ]
  },
  {
   "cell_type": "markdown",
   "metadata": {},
   "source": [
    "### Technology"
   ]
  },
  {
   "cell_type": "code",
   "execution_count": 85,
   "metadata": {},
   "outputs": [
    {
     "data": {
      "text/html": [
       "<div>\n",
       "<style scoped>\n",
       "    .dataframe tbody tr th:only-of-type {\n",
       "        vertical-align: middle;\n",
       "    }\n",
       "\n",
       "    .dataframe tbody tr th {\n",
       "        vertical-align: top;\n",
       "    }\n",
       "\n",
       "    .dataframe thead th {\n",
       "        text-align: right;\n",
       "    }\n",
       "</style>\n",
       "<table border=\"1\" class=\"dataframe\">\n",
       "  <thead>\n",
       "    <tr style=\"text-align: right;\">\n",
       "      <th></th>\n",
       "      <th>Sector</th>\n",
       "      <th>Result_precision</th>\n",
       "    </tr>\n",
       "    <tr>\n",
       "      <th>Year</th>\n",
       "      <th></th>\n",
       "      <th></th>\n",
       "    </tr>\n",
       "  </thead>\n",
       "  <tbody>\n",
       "    <tr>\n",
       "      <th>2016</th>\n",
       "      <td>Technology</td>\n",
       "      <td>0.5915</td>\n",
       "    </tr>\n",
       "    <tr>\n",
       "      <th>2017</th>\n",
       "      <td>Technology</td>\n",
       "      <td>0.6229</td>\n",
       "    </tr>\n",
       "    <tr>\n",
       "      <th>2018</th>\n",
       "      <td>Technology</td>\n",
       "      <td>0.3924</td>\n",
       "    </tr>\n",
       "    <tr>\n",
       "      <th>2019</th>\n",
       "      <td>Technology</td>\n",
       "      <td>0.6176</td>\n",
       "    </tr>\n",
       "    <tr>\n",
       "      <th>2020</th>\n",
       "      <td>Technology</td>\n",
       "      <td>0.6251</td>\n",
       "    </tr>\n",
       "  </tbody>\n",
       "</table>\n",
       "</div>"
      ],
      "text/plain": [
       "          Sector  Result_precision\n",
       "Year                              \n",
       "2016  Technology            0.5915\n",
       "2017  Technology            0.6229\n",
       "2018  Technology            0.3924\n",
       "2019  Technology            0.6176\n",
       "2020  Technology            0.6251"
      ]
     },
     "execution_count": 85,
     "metadata": {},
     "output_type": "execute_result"
    }
   ],
   "source": [
    "Technology=sort_sector[15:20]\n",
    "df_Technology=Technology.sort_values(by=\"Year\")\n",
    "df_Technology.set_index('Year',inplace=True)\n",
    "df_Technology"
   ]
  },
  {
   "cell_type": "code",
   "execution_count": 86,
   "metadata": {},
   "outputs": [
    {
     "data": {
      "image/png": "[encoded data removed]",
      "text/plain": [
       "<Figure size 720x360 with 1 Axes>"
      ]
     },
     "metadata": {
      "needs_background": "light"
     },
     "output_type": "display_data"
    }
   ],
   "source": [
    "_ = df_Technology[['Sector','Result_precision']].plot.bar(figsize=(10, 5))"
   ]
  },
  {
   "cell_type": "markdown",
   "metadata": {},
   "source": [
    "### Telecommunications & Media\t"
   ]
  },
  {
   "cell_type": "code",
   "execution_count": 87,
   "metadata": {},
   "outputs": [
    {
     "data": {
      "text/html": [
       "<div>\n",
       "<style scoped>\n",
       "    .dataframe tbody tr th:only-of-type {\n",
       "        vertical-align: middle;\n",
       "    }\n",
       "\n",
       "    .dataframe tbody tr th {\n",
       "        vertical-align: top;\n",
       "    }\n",
       "\n",
       "    .dataframe thead th {\n",
       "        text-align: right;\n",
       "    }\n",
       "</style>\n",
       "<table border=\"1\" class=\"dataframe\">\n",
       "  <thead>\n",
       "    <tr style=\"text-align: right;\">\n",
       "      <th></th>\n",
       "      <th>Sector</th>\n",
       "      <th>Result_precision</th>\n",
       "    </tr>\n",
       "    <tr>\n",
       "      <th>Year</th>\n",
       "      <th></th>\n",
       "      <th></th>\n",
       "    </tr>\n",
       "  </thead>\n",
       "  <tbody>\n",
       "    <tr>\n",
       "      <th>2016</th>\n",
       "      <td>Telecommunications &amp; Media</td>\n",
       "      <td>0.5851</td>\n",
       "    </tr>\n",
       "    <tr>\n",
       "      <th>2017</th>\n",
       "      <td>Telecommunications &amp; Media</td>\n",
       "      <td>0.7156</td>\n",
       "    </tr>\n",
       "    <tr>\n",
       "      <th>2018</th>\n",
       "      <td>Telecommunications &amp; Media</td>\n",
       "      <td>0.3526</td>\n",
       "    </tr>\n",
       "    <tr>\n",
       "      <th>2019</th>\n",
       "      <td>Telecommunications &amp; Media</td>\n",
       "      <td>0.5730</td>\n",
       "    </tr>\n",
       "    <tr>\n",
       "      <th>2020</th>\n",
       "      <td>Telecommunications &amp; Media</td>\n",
       "      <td>0.5683</td>\n",
       "    </tr>\n",
       "  </tbody>\n",
       "</table>\n",
       "</div>"
      ],
      "text/plain": [
       "                          Sector  Result_precision\n",
       "Year                                              \n",
       "2016  Telecommunications & Media            0.5851\n",
       "2017  Telecommunications & Media            0.7156\n",
       "2018  Telecommunications & Media            0.3526\n",
       "2019  Telecommunications & Media            0.5730\n",
       "2020  Telecommunications & Media            0.5683"
      ]
     },
     "execution_count": 87,
     "metadata": {},
     "output_type": "execute_result"
    }
   ],
   "source": [
    "Media=sort_sector[20:25]\n",
    "df_Media=Media.sort_values(by=\"Year\")\n",
    "df_Media.set_index('Year',inplace=True)\n",
    "df_Media"
   ]
  },
  {
   "cell_type": "code",
   "execution_count": 88,
   "metadata": {},
   "outputs": [
    {
     "data": {
      "image/png": "[encoded data removed]",
      "text/plain": [
       "<Figure size 720x360 with 1 Axes>"
      ]
     },
     "metadata": {
      "needs_background": "light"
     },
     "output_type": "display_data"
    }
   ],
   "source": [
    "_ = df_Media[['Sector','Result_precision']].plot.bar(figsize=(10, 5))"
   ]
  },
  {
   "cell_type": "markdown",
   "metadata": {},
   "source": [
    "### Utilities"
   ]
  },
  {
   "cell_type": "code",
   "execution_count": 90,
   "metadata": {},
   "outputs": [
    {
     "data": {
      "text/html": [
       "<div>\n",
       "<style scoped>\n",
       "    .dataframe tbody tr th:only-of-type {\n",
       "        vertical-align: middle;\n",
       "    }\n",
       "\n",
       "    .dataframe tbody tr th {\n",
       "        vertical-align: top;\n",
       "    }\n",
       "\n",
       "    .dataframe thead th {\n",
       "        text-align: right;\n",
       "    }\n",
       "</style>\n",
       "<table border=\"1\" class=\"dataframe\">\n",
       "  <thead>\n",
       "    <tr style=\"text-align: right;\">\n",
       "      <th></th>\n",
       "      <th>Sector</th>\n",
       "      <th>Result_precision</th>\n",
       "    </tr>\n",
       "    <tr>\n",
       "      <th>Year</th>\n",
       "      <th></th>\n",
       "      <th></th>\n",
       "    </tr>\n",
       "  </thead>\n",
       "  <tbody>\n",
       "    <tr>\n",
       "      <th>2016</th>\n",
       "      <td>Utilities</td>\n",
       "      <td>0.5056</td>\n",
       "    </tr>\n",
       "    <tr>\n",
       "      <th>2017</th>\n",
       "      <td>Utilities</td>\n",
       "      <td>0.5264</td>\n",
       "    </tr>\n",
       "    <tr>\n",
       "      <th>2018</th>\n",
       "      <td>Utilities</td>\n",
       "      <td>0.4278</td>\n",
       "    </tr>\n",
       "    <tr>\n",
       "      <th>2019</th>\n",
       "      <td>Utilities</td>\n",
       "      <td>0.5333</td>\n",
       "    </tr>\n",
       "    <tr>\n",
       "      <th>2020</th>\n",
       "      <td>Utilities</td>\n",
       "      <td>0.5223</td>\n",
       "    </tr>\n",
       "  </tbody>\n",
       "</table>\n",
       "</div>"
      ],
      "text/plain": [
       "         Sector  Result_precision\n",
       "Year                             \n",
       "2016  Utilities            0.5056\n",
       "2017  Utilities            0.5264\n",
       "2018  Utilities            0.4278\n",
       "2019  Utilities            0.5333\n",
       "2020  Utilities            0.5223"
      ]
     },
     "execution_count": 90,
     "metadata": {},
     "output_type": "execute_result"
    }
   ],
   "source": [
    "Utilities=sort_sector[25:30]\n",
    "df_Utilities=Utilities.sort_values(by=\"Year\")\n",
    "df_Utilities.set_index('Year',inplace=True)\n",
    "df_Utilities"
   ]
  },
  {
   "cell_type": "code",
   "execution_count": 91,
   "metadata": {
    "scrolled": true
   },
   "outputs": [
    {
     "data": {
      "image/png": "[encoded data removed]",
      "text/plain": [
       "<Figure size 720x360 with 1 Axes>"
      ]
     },
     "metadata": {
      "needs_background": "light"
     },
     "output_type": "display_data"
    }
   ],
   "source": [
    "_ = df_Utilities[['Sector','Result_precision']].plot.bar(figsize=(10, 5))"
   ]
  },
  {
   "cell_type": "code",
   "execution_count": null,
   "metadata": {},
   "outputs": [],
   "source": []
  },
  {
   "cell_type": "code",
   "execution_count": 97,
   "metadata": {},
   "outputs": [
    {
     "data": {
      "text/html": [
       "<div>\n",
       "<style scoped>\n",
       "    .dataframe tbody tr th:only-of-type {\n",
       "        vertical-align: middle;\n",
       "    }\n",
       "\n",
       "    .dataframe tbody tr th {\n",
       "        vertical-align: top;\n",
       "    }\n",
       "\n",
       "    .dataframe thead th {\n",
       "        text-align: right;\n",
       "    }\n",
       "</style>\n",
       "<table border=\"1\" class=\"dataframe\">\n",
       "  <thead>\n",
       "    <tr style=\"text-align: right;\">\n",
       "      <th></th>\n",
       "      <th>Sector</th>\n",
       "      <th>Result_precision</th>\n",
       "      <th>Year</th>\n",
       "    </tr>\n",
       "  </thead>\n",
       "  <tbody>\n",
       "    <tr>\n",
       "      <th>29</th>\n",
       "      <td>Construction</td>\n",
       "      <td>0.4387</td>\n",
       "      <td>2020</td>\n",
       "    </tr>\n",
       "    <tr>\n",
       "      <th>23</th>\n",
       "      <td>Construction</td>\n",
       "      <td>0.5279</td>\n",
       "      <td>2019</td>\n",
       "    </tr>\n",
       "    <tr>\n",
       "      <th>5</th>\n",
       "      <td>Construction</td>\n",
       "      <td>0.6246</td>\n",
       "      <td>2016</td>\n",
       "    </tr>\n",
       "    <tr>\n",
       "      <th>17</th>\n",
       "      <td>Construction</td>\n",
       "      <td>0.3525</td>\n",
       "      <td>2018</td>\n",
       "    </tr>\n",
       "    <tr>\n",
       "      <th>11</th>\n",
       "      <td>Construction</td>\n",
       "      <td>0.6779</td>\n",
       "      <td>2017</td>\n",
       "    </tr>\n",
       "    <tr>\n",
       "      <th>22</th>\n",
       "      <td>Energy</td>\n",
       "      <td>0.7638</td>\n",
       "      <td>2019</td>\n",
       "    </tr>\n",
       "    <tr>\n",
       "      <th>4</th>\n",
       "      <td>Energy</td>\n",
       "      <td>0.4826</td>\n",
       "      <td>2016</td>\n",
       "    </tr>\n",
       "    <tr>\n",
       "      <th>16</th>\n",
       "      <td>Energy</td>\n",
       "      <td>0.3655</td>\n",
       "      <td>2018</td>\n",
       "    </tr>\n",
       "    <tr>\n",
       "      <th>28</th>\n",
       "      <td>Energy</td>\n",
       "      <td>0.3795</td>\n",
       "      <td>2020</td>\n",
       "    </tr>\n",
       "    <tr>\n",
       "      <th>10</th>\n",
       "      <td>Energy</td>\n",
       "      <td>0.7306</td>\n",
       "      <td>2017</td>\n",
       "    </tr>\n",
       "    <tr>\n",
       "      <th>24</th>\n",
       "      <td>Healthcare</td>\n",
       "      <td>0.6775</td>\n",
       "      <td>2020</td>\n",
       "    </tr>\n",
       "    <tr>\n",
       "      <th>18</th>\n",
       "      <td>Healthcare</td>\n",
       "      <td>0.5407</td>\n",
       "      <td>2019</td>\n",
       "    </tr>\n",
       "    <tr>\n",
       "      <th>0</th>\n",
       "      <td>Healthcare</td>\n",
       "      <td>0.6625</td>\n",
       "      <td>2016</td>\n",
       "    </tr>\n",
       "    <tr>\n",
       "      <th>6</th>\n",
       "      <td>Healthcare</td>\n",
       "      <td>0.6778</td>\n",
       "      <td>2017</td>\n",
       "    </tr>\n",
       "    <tr>\n",
       "      <th>12</th>\n",
       "      <td>Healthcare</td>\n",
       "      <td>0.4291</td>\n",
       "      <td>2018</td>\n",
       "    </tr>\n",
       "    <tr>\n",
       "      <th>14</th>\n",
       "      <td>Technology</td>\n",
       "      <td>0.3924</td>\n",
       "      <td>2018</td>\n",
       "    </tr>\n",
       "    <tr>\n",
       "      <th>26</th>\n",
       "      <td>Technology</td>\n",
       "      <td>0.6251</td>\n",
       "      <td>2020</td>\n",
       "    </tr>\n",
       "    <tr>\n",
       "      <th>8</th>\n",
       "      <td>Technology</td>\n",
       "      <td>0.6229</td>\n",
       "      <td>2017</td>\n",
       "    </tr>\n",
       "    <tr>\n",
       "      <th>2</th>\n",
       "      <td>Technology</td>\n",
       "      <td>0.5915</td>\n",
       "      <td>2016</td>\n",
       "    </tr>\n",
       "    <tr>\n",
       "      <th>20</th>\n",
       "      <td>Technology</td>\n",
       "      <td>0.6176</td>\n",
       "      <td>2019</td>\n",
       "    </tr>\n",
       "    <tr>\n",
       "      <th>25</th>\n",
       "      <td>Telecommunications &amp; Media</td>\n",
       "      <td>0.5683</td>\n",
       "      <td>2020</td>\n",
       "    </tr>\n",
       "    <tr>\n",
       "      <th>1</th>\n",
       "      <td>Telecommunications &amp; Media</td>\n",
       "      <td>0.5851</td>\n",
       "      <td>2016</td>\n",
       "    </tr>\n",
       "    <tr>\n",
       "      <th>13</th>\n",
       "      <td>Telecommunications &amp; Media</td>\n",
       "      <td>0.3526</td>\n",
       "      <td>2018</td>\n",
       "    </tr>\n",
       "    <tr>\n",
       "      <th>19</th>\n",
       "      <td>Telecommunications &amp; Media</td>\n",
       "      <td>0.5730</td>\n",
       "      <td>2019</td>\n",
       "    </tr>\n",
       "    <tr>\n",
       "      <th>7</th>\n",
       "      <td>Telecommunications &amp; Media</td>\n",
       "      <td>0.7156</td>\n",
       "      <td>2017</td>\n",
       "    </tr>\n",
       "    <tr>\n",
       "      <th>15</th>\n",
       "      <td>Utilities</td>\n",
       "      <td>0.4278</td>\n",
       "      <td>2018</td>\n",
       "    </tr>\n",
       "    <tr>\n",
       "      <th>9</th>\n",
       "      <td>Utilities</td>\n",
       "      <td>0.5264</td>\n",
       "      <td>2017</td>\n",
       "    </tr>\n",
       "    <tr>\n",
       "      <th>27</th>\n",
       "      <td>Utilities</td>\n",
       "      <td>0.5223</td>\n",
       "      <td>2020</td>\n",
       "    </tr>\n",
       "    <tr>\n",
       "      <th>3</th>\n",
       "      <td>Utilities</td>\n",
       "      <td>0.5056</td>\n",
       "      <td>2016</td>\n",
       "    </tr>\n",
       "    <tr>\n",
       "      <th>21</th>\n",
       "      <td>Utilities</td>\n",
       "      <td>0.5333</td>\n",
       "      <td>2019</td>\n",
       "    </tr>\n",
       "  </tbody>\n",
       "</table>\n",
       "</div>"
      ],
      "text/plain": [
       "                        Sector  Result_precision  Year\n",
       "29                Construction            0.4387  2020\n",
       "23                Construction            0.5279  2019\n",
       "5                 Construction            0.6246  2016\n",
       "17                Construction            0.3525  2018\n",
       "11                Construction            0.6779  2017\n",
       "22                      Energy            0.7638  2019\n",
       "4                       Energy            0.4826  2016\n",
       "16                      Energy            0.3655  2018\n",
       "28                      Energy            0.3795  2020\n",
       "10                      Energy            0.7306  2017\n",
       "24                  Healthcare            0.6775  2020\n",
       "18                  Healthcare            0.5407  2019\n",
       "0                   Healthcare            0.6625  2016\n",
       "6                   Healthcare            0.6778  2017\n",
       "12                  Healthcare            0.4291  2018\n",
       "14                  Technology            0.3924  2018\n",
       "26                  Technology            0.6251  2020\n",
       "8                   Technology            0.6229  2017\n",
       "2                   Technology            0.5915  2016\n",
       "20                  Technology            0.6176  2019\n",
       "25  Telecommunications & Media            0.5683  2020\n",
       "1   Telecommunications & Media            0.5851  2016\n",
       "13  Telecommunications & Media            0.3526  2018\n",
       "19  Telecommunications & Media            0.5730  2019\n",
       "7   Telecommunications & Media            0.7156  2017\n",
       "15                   Utilities            0.4278  2018\n",
       "9                    Utilities            0.5264  2017\n",
       "27                   Utilities            0.5223  2020\n",
       "3                    Utilities            0.5056  2016\n",
       "21                   Utilities            0.5333  2019"
      ]
     },
     "execution_count": 97,
     "metadata": {},
     "output_type": "execute_result"
    }
   ],
   "source": [
    "df_precision.sort_values(by=\"Sector\")"
   ]
  },
  {
   "cell_type": "markdown",
   "metadata": {},
   "source": [
    "### All sector yearly"
   ]
  },
  {
   "cell_type": "code",
   "execution_count": 93,
   "metadata": {
    "scrolled": false
   },
   "outputs": [
    {
     "name": "stdout",
     "output_type": "stream",
     "text": [
      "Healthcare:\n"
     ]
    },
    {
     "name": "stderr",
     "output_type": "stream",
     "text": [
      "C:\\Users\\Public\\Documents\\anaconda\\lib\\site-packages\\xgboost\\sklearn.py:888: UserWarning: The use of label encoder in XGBClassifier is deprecated and will be removed in a future release. To remove this warning, do the following: 1) Pass option use_label_encoder=False when constructing XGBClassifier object; and 2) Encode your labels (y) as integers starting with 0, i.e. 0, 1, 2, ..., [num_class - 1].\n",
      "  warnings.warn(label_encoder_deprecation_msg, UserWarning)\n",
      "C:\\Users\\Public\\Documents\\anaconda\\lib\\site-packages\\numpy\\lib\\function_base.py:380: RuntimeWarning: Mean of empty slice.\n",
      "  avg = a.mean(axis)\n",
      "C:\\Users\\Public\\Documents\\anaconda\\lib\\site-packages\\numpy\\core\\_methods.py:170: RuntimeWarning: invalid value encountered in double_scalars\n",
      "  ret = ret.dtype.type(ret / rcount)\n",
      "C:\\Users\\Public\\Documents\\anaconda\\lib\\site-packages\\sklearn\\metrics\\_classification.py:1221: UndefinedMetricWarning: Precision is ill-defined and being set to 0.0 due to no predicted samples. Use `zero_division` parameter to control this behavior.\n",
      "  _warn_prf(average, modifier, msg_start, len(result))\n"
     ]
    },
    {
     "name": "stdout",
     "output_type": "stream",
     "text": [
      "Overall Train accuracy is: 0.9849984431464626\n",
      "Overall Test accuracy is: 0.5028\n",
      "Overall Test precision is: 0.4291\n",
      "############################## DONE #################################\n",
      "Telecommunications & Media:\n"
     ]
    },
    {
     "name": "stderr",
     "output_type": "stream",
     "text": [
      "C:\\Users\\Public\\Documents\\anaconda\\lib\\site-packages\\xgboost\\sklearn.py:888: UserWarning: The use of label encoder in XGBClassifier is deprecated and will be removed in a future release. To remove this warning, do the following: 1) Pass option use_label_encoder=False when constructing XGBClassifier object; and 2) Encode your labels (y) as integers starting with 0, i.e. 0, 1, 2, ..., [num_class - 1].\n",
      "  warnings.warn(label_encoder_deprecation_msg, UserWarning)\n",
      "C:\\Users\\Public\\Documents\\anaconda\\lib\\site-packages\\sklearn\\metrics\\_classification.py:1221: UndefinedMetricWarning: Precision is ill-defined and being set to 0.0 due to no predicted samples. Use `zero_division` parameter to control this behavior.\n",
      "  _warn_prf(average, modifier, msg_start, len(result))\n"
     ]
    },
    {
     "name": "stdout",
     "output_type": "stream",
     "text": [
      "Overall Train accuracy is: 0.9816639956298397\n",
      "Overall Test accuracy is: 0.5402\n",
      "Overall Test precision is: 0.3526\n",
      "############################## DONE #################################\n",
      "Technology:\n"
     ]
    },
    {
     "name": "stderr",
     "output_type": "stream",
     "text": [
      "C:\\Users\\Public\\Documents\\anaconda\\lib\\site-packages\\xgboost\\sklearn.py:888: UserWarning: The use of label encoder in XGBClassifier is deprecated and will be removed in a future release. To remove this warning, do the following: 1) Pass option use_label_encoder=False when constructing XGBClassifier object; and 2) Encode your labels (y) as integers starting with 0, i.e. 0, 1, 2, ..., [num_class - 1].\n",
      "  warnings.warn(label_encoder_deprecation_msg, UserWarning)\n"
     ]
    },
    {
     "name": "stdout",
     "output_type": "stream",
     "text": [
      "Overall Train accuracy is: 0.915127017648723\n",
      "Overall Test accuracy is: 0.5046\n",
      "Overall Test precision is: 0.3924\n",
      "############################## DONE #################################\n",
      "Utilities:\n"
     ]
    },
    {
     "name": "stderr",
     "output_type": "stream",
     "text": [
      "C:\\Users\\Public\\Documents\\anaconda\\lib\\site-packages\\xgboost\\sklearn.py:888: UserWarning: The use of label encoder in XGBClassifier is deprecated and will be removed in a future release. To remove this warning, do the following: 1) Pass option use_label_encoder=False when constructing XGBClassifier object; and 2) Encode your labels (y) as integers starting with 0, i.e. 0, 1, 2, ..., [num_class - 1].\n",
      "  warnings.warn(label_encoder_deprecation_msg, UserWarning)\n",
      "C:\\Users\\Public\\Documents\\anaconda\\lib\\site-packages\\numpy\\lib\\function_base.py:380: RuntimeWarning: Mean of empty slice.\n",
      "  avg = a.mean(axis)\n",
      "C:\\Users\\Public\\Documents\\anaconda\\lib\\site-packages\\numpy\\core\\_methods.py:170: RuntimeWarning: invalid value encountered in double_scalars\n",
      "  ret = ret.dtype.type(ret / rcount)\n",
      "C:\\Users\\Public\\Documents\\anaconda\\lib\\site-packages\\sklearn\\metrics\\_classification.py:1221: UndefinedMetricWarning: Precision is ill-defined and being set to 0.0 due to no predicted samples. Use `zero_division` parameter to control this behavior.\n",
      "  _warn_prf(average, modifier, msg_start, len(result))\n"
     ]
    },
    {
     "name": "stdout",
     "output_type": "stream",
     "text": [
      "Overall Train accuracy is: 0.9928430195760747\n",
      "Overall Test accuracy is: 0.5412\n",
      "Overall Test precision is: 0.4278\n",
      "############################## DONE #################################\n",
      "Energy:\n"
     ]
    },
    {
     "name": "stderr",
     "output_type": "stream",
     "text": [
      "C:\\Users\\Public\\Documents\\anaconda\\lib\\site-packages\\xgboost\\sklearn.py:888: UserWarning: The use of label encoder in XGBClassifier is deprecated and will be removed in a future release. To remove this warning, do the following: 1) Pass option use_label_encoder=False when constructing XGBClassifier object; and 2) Encode your labels (y) as integers starting with 0, i.e. 0, 1, 2, ..., [num_class - 1].\n",
      "  warnings.warn(label_encoder_deprecation_msg, UserWarning)\n",
      "C:\\Users\\Public\\Documents\\anaconda\\lib\\site-packages\\sklearn\\metrics\\_classification.py:1221: UndefinedMetricWarning: Precision is ill-defined and being set to 0.0 due to no predicted samples. Use `zero_division` parameter to control this behavior.\n",
      "  _warn_prf(average, modifier, msg_start, len(result))\n",
      "C:\\Users\\Public\\Documents\\anaconda\\lib\\site-packages\\numpy\\lib\\function_base.py:380: RuntimeWarning: Mean of empty slice.\n",
      "  avg = a.mean(axis)\n",
      "C:\\Users\\Public\\Documents\\anaconda\\lib\\site-packages\\numpy\\core\\_methods.py:170: RuntimeWarning: invalid value encountered in double_scalars\n",
      "  ret = ret.dtype.type(ret / rcount)\n"
     ]
    },
    {
     "name": "stdout",
     "output_type": "stream",
     "text": [
      "Overall Train accuracy is: 0.9737899362962876\n",
      "Overall Test accuracy is: 0.4386\n",
      "Overall Test precision is: 0.3655\n",
      "############################## DONE #################################\n",
      "Construction:\n"
     ]
    },
    {
     "name": "stderr",
     "output_type": "stream",
     "text": [
      "C:\\Users\\Public\\Documents\\anaconda\\lib\\site-packages\\xgboost\\sklearn.py:888: UserWarning: The use of label encoder in XGBClassifier is deprecated and will be removed in a future release. To remove this warning, do the following: 1) Pass option use_label_encoder=False when constructing XGBClassifier object; and 2) Encode your labels (y) as integers starting with 0, i.e. 0, 1, 2, ..., [num_class - 1].\n",
      "  warnings.warn(label_encoder_deprecation_msg, UserWarning)\n"
     ]
    },
    {
     "name": "stdout",
     "output_type": "stream",
     "text": [
      "Overall Train accuracy is: 0.9287781099184059\n",
      "Overall Test accuracy is: 0.4723\n",
      "Overall Test precision is: 0.3525\n",
      "############################## DONE #################################\n"
     ]
    },
    {
     "data": {
      "text/plain": [
       "<BarContainer object of 6 artists>"
      ]
     },
     "execution_count": 93,
     "metadata": {},
     "output_type": "execute_result"
    },
    {
     "data": {
      "image/png": "[encoded data removed]",
      "text/plain": [
       "<Figure size 1440x720 with 1 Axes>"
      ]
     },
     "metadata": {
      "needs_background": "light"
     },
     "output_type": "display_data"
    }
   ],
   "source": [
    "sectors=['Healthcare',\n",
    "         'Telecommunications & Media',\n",
    "         'Technology',\n",
    "         'Utilities',\n",
    "        'Energy',\n",
    "        'Construction'\n",
    "]\n",
    "\n",
    "save=[]\n",
    "name_sector=[]\n",
    "for sector in sectors:\n",
    "    wl = sector_filter(sector)\n",
    "    print(f\"{sector}:\")\n",
    "    X,y,df_all,avg_3,start_y= precision(wl,start_year=2018)\n",
    "    save.append(avg_3)\n",
    "    name_sector.append(sector)\n",
    "    print('############################## DONE #################################')\n",
    "\n",
    "\n",
    "\n",
    "plt.figure(figsize=(20,10))\n",
    "plt.title('Precision {}'.format(start_y))\n",
    "plt.xlabel('Sector')\n",
    "plt.ylabel('Value of Precision')\n",
    "\n",
    "plt.bar(name_sector,save,0.6,color='g')"
   ]
  },
  {
   "cell_type": "code",
   "execution_count": null,
   "metadata": {},
   "outputs": [],
   "source": []
  }
 ],
 "metadata": {
  "kernelspec": {
   "display_name": "Python 3",
   "language": "python",
   "name": "python3"
  },
  "language_info": {
   "codemirror_mode": {
    "name": "ipython",
    "version": 3
   },
   "file_extension": ".py",
   "mimetype": "text/x-python",
   "name": "python",
   "nbconvert_exporter": "python",
   "pygments_lexer": "ipython3",
   "version": "3.8.5"
  }
 },
 "nbformat": 4,
 "nbformat_minor": 4
}
