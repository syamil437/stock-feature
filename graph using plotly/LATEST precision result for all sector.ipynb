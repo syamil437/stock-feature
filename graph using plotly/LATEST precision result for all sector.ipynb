{
 "cells": [
  {
   "cell_type": "code",
   "execution_count": 1,
   "metadata": {},
   "outputs": [],
   "source": [
    "import pandas as pd\n",
    "import numpy as np\n",
    "import matplotlib.pyplot as plt\n",
    "import credentials\n",
    "import requests\n",
    "from sklearn.preprocessing import StandardScaler\n",
    "from sklearn.preprocessing import LabelEncoder\n",
    "from xgboost import XGBClassifier\n",
    "from pandas import DataFrame\n",
    "from sklearn.metrics import accuracy_score\n",
    "from sklearn.metrics import precision_score\n",
    "import datetime as dt\n",
    "\n",
    "\n",
    "#pulling data API\n",
    "\n",
    "key =credentials.login['key_isaham']  # extract password"
   ]
  },
  {
   "cell_type": "code",
   "execution_count": 2,
   "metadata": {},
   "outputs": [],
   "source": [
    "def strategy_label(wl, add_features = \"False\"):\n",
    "    \n",
    "    ori_data = {}\n",
    "    all_ori_stocks = []\n",
    "    # Scale dictionary of dataframes for training set(scaling by stock)\n",
    "    ss={}\n",
    "    d = {}\n",
    "\n",
    "    # Scale dictionary of dataframes for prediction set(scaling by stock)\n",
    "    sp={}\n",
    "    nsp={}\n",
    "\n",
    "    for m,stock in enumerate (wl):\n",
    "\n",
    "        #print(\"----------------PROCESSING {}------------------\".format(stock))\n",
    "        symbol = stock    # Which stock to pull    \n",
    "        response = requests.get(\"https://admin.isaham.my/api/chart?stock={}&key={}\".format(symbol,key))\n",
    "        data = response.json()\n",
    "        \n",
    "        if data['status'] != 'Stock not found.':\n",
    "            ori = pd.DataFrame.from_dict(data)\n",
    "            ori = ori[['c','d','h','l','o','v']]\n",
    "\n",
    "            if sum(ori[\"v\"].tail(5))> 1:\n",
    "                ori['d'] = pd.to_datetime(ori['d'], dayfirst= True )\n",
    "                # adding the stock names\n",
    "                ori[\"Stock\"] = stock\n",
    "                ori_data[f\"{symbol}\"] = ori\n",
    "                all_ori_stocks.append(ori_data[stock])\n",
    "\n",
    "                df = ori.reset_index(drop=False)\n",
    "\n",
    "                if add_features == \"True\":\n",
    "                    # Adding features\n",
    "                    # MA5 & MA20\n",
    "                    ff.MA(df, \"c\", 5)\n",
    "                    ff.MA(df, \"c\", 20)\n",
    "                    # VMA5 & VMA20\n",
    "                    ff.MA(df, \"v\", 5)\n",
    "                    ff.MA(df, \"v\", 20)\n",
    "                    # Croses signal\n",
    "                    # MAs\n",
    "                    ff.cross_detection(df, \"VMA5\", \"VMA20\")\n",
    "                    # VMAs\n",
    "                    ff.cross_detection(df, \"VMA5\", \"VMA20\")\n",
    "                    # others\n",
    "                    # volatility\n",
    "                    ff.volatility(df)\n",
    "                    # Momentum\n",
    "                    ff.momentum(df, \"c\", 14)\n",
    "                    # date labels\n",
    "                    ff.date_labels(df)\n",
    "\n",
    "                # Tuning OB and OS level\n",
    "                ob_cross=85\n",
    "                os_cross=35\n",
    "\n",
    "                # Identify MA50\n",
    "                n=50\n",
    "                ma50=[] \n",
    "\n",
    "                for i in range(len(df[\"c\"])-(n-1)):\n",
    "                    ma = round(sum(df[\"c\"][i:i+(n)])/n,4)\n",
    "                    ma50.append(ma)\n",
    "\n",
    "                df[\"MA50\"] = pd.Series(ma50)\n",
    "                df[\"MA50\"] = df[\"MA50\"].shift(n-1)\n",
    "\n",
    "                # Filter uptrend price above ma50\n",
    "                # Calculating the gap of both MA\n",
    "                df[\"MAgap\"] = df[\"c\"] -  df[\"MA50\"] \n",
    "\n",
    "                # Set date as index\n",
    "                df.set_index('d',inplace=True,drop=False)\n",
    "                df.index.name = None\n",
    "\n",
    "                # Create signal for uptrend price above ma50 \n",
    "                # Result not accurate for stochastic when just filter uptrend only\n",
    "                df[\"Uptrend\"]=df['MAgap']>0\n",
    "                Uptrend=df[\"Uptrend\"]\n",
    "                Uptrend_signal=Uptrend[Uptrend==True]\n",
    "\n",
    "                # Signal stochastic\n",
    "                # Create the \"L14\" column in the DataFrame\n",
    "                df['L14'] = df['l'].rolling(window=14).min()\n",
    "\n",
    "                # Create the \"H14\" column in the DataFrame\n",
    "                df['H14'] = df['h'].rolling(window=14).max()\n",
    "\n",
    "                # Create the \"%K\" column in the DataFrame\n",
    "                df['%K'] = 100*((df['c'] - df['L14']) / (df['H14'] - df['L14']) )\n",
    "\n",
    "                # Create the \"%D\" column in the DataFrame\n",
    "                df['%D'] = df['%K'].rolling(window=3).mean()\n",
    "\n",
    "                # Create a column in the DataFrame showing \"TRUE\" if buy entry signal is given and \"FALSE\" otherwise. \n",
    "                # A buy is initiated when the %K line crosses up through the %D line and the value of the oscillator is below 20 \n",
    "                df['Buy OS'] = ((df['%K'] > df['%D']) & (\n",
    "                    df['%K'].shift(1) < df['%D'].shift(1))) & (\n",
    "                    df['%D'] < os_cross) & (\n",
    "                    Uptrend_signal)\n",
    "\n",
    "                # Create a column in the DataFrame showing \"TRUE\" if sell entry signal is given and \"FALSE\" otherwise. \n",
    "                # A sell is initiated when the %K line crosses down through the %D line and the value of the oscillator is above 80 \n",
    "                df['Sell OB'] = ((df['%K'] < df['%D']) & (\n",
    "                    df['%K'].shift(1) > df['%D'].shift(1))) & (\n",
    "                    df['%D'] > ob_cross) \n",
    "\n",
    "                # Create a column in the DataFrame for name of stock\n",
    "                df['Stock_Name'] = symbol\n",
    "\n",
    "                df.index.names = ['Buy_Date']\n",
    "\n",
    "                # Define overbought and oversold\n",
    "                overbought = df['Sell OB']\n",
    "                oversold = df['Buy OS']\n",
    "\n",
    "                # Use index(date) for create strategy using overbought and oversold\n",
    "                date_os = list(oversold[oversold == True].index)\n",
    "                date_ob = list(overbought[overbought == True].index)\n",
    "\n",
    "                # Scaling certain features only\n",
    "                col_names_pred = ['c', 'l', 'o', 'v','h']\n",
    "\n",
    "                if add_features == \"True\":\n",
    "                    col_names_pred = col_names_pred + [\"MA5\", \"MA20\", \"MA50\", \"MAgap\", 'VMA5', 'VMA20','STD', 'rsi']\n",
    "\n",
    "                features_pred = df[col_names_pred]\n",
    "\n",
    "                # Scaling for prediction data\n",
    "                scaler_pred = StandardScaler().fit(features_pred.values)\n",
    "                features_pred = scaler_pred.transform(features_pred.values)\n",
    "\n",
    "                # Convert the array back to a dataframe\n",
    "                dataset_pred = DataFrame(features_pred)\n",
    "\n",
    "                # Prepare prediction data that no need to scale\n",
    "                col_notscale_pred = ['d','Stock_Name','Buy OS']\n",
    "\n",
    "                if add_features == \"True\":\n",
    "                    col_notscale_pred = col_notscale_pred + ['VMA5xVMA20', 'price_dev', 'Mom',\n",
    "                                                   'Y', 'MoY', 'WoM', 'WoY', 'DoY', 'DoM', 'DoW']\n",
    "\n",
    "                features_notscale_pred = df[col_notscale_pred]\n",
    "\n",
    "                # Saving in multiple variable\n",
    "                sp[\"{}\".format(stock)] = dataset_pred\n",
    "                nsp[\"{}\".format(stock)] = features_notscale_pred\n",
    "\n",
    "                # Transaction recording\n",
    "                buy = []\n",
    "                sell = []\n",
    "                sdate = []\n",
    "                bdate = []\n",
    "                wr = []\n",
    "                pct = []\n",
    "                vol = []\n",
    "                ope =[]\n",
    "                high = []\n",
    "                low = []\n",
    "\n",
    "                # Record close,open,vol,high,low for buy transaction\n",
    "                for n,i in enumerate(date_os):\n",
    "                    buy.append(df['c'].loc[i])\n",
    "                    vol.append(df['v'].loc[i])\n",
    "                    ope.append(df['o'].loc[i])\n",
    "                    high.append(df['h'].loc[i])\n",
    "                    low.append(df['l'].loc[i])\n",
    "                    bdate.append(i)\n",
    "                    r=[]\n",
    "\n",
    "                    for m,k in enumerate(date_ob):\n",
    "\n",
    "                        if k>i:\n",
    "                            r.append(m)\n",
    "                            if len(r) ==1:\n",
    "                                # Record close,percentage change for sell transaction\n",
    "                                sell.append(df['c'].loc[k])\n",
    "                                sdate.append(k)\n",
    "                                pct_change=((df['c'].loc[k]/df['c'].loc[i])-1)*100\n",
    "                                pct.append(((df['c'].loc[k]/df['c'].loc[i])-1)*100)\n",
    "                            elif len(r)>1:\n",
    "                                pass\n",
    "\n",
    "                diff =len(buy)-len(sell)\n",
    "                # Checking for final transaction, make sure it is sell, as we want to close the position\n",
    "                if len(buy) == len(sell):\n",
    "                    pass   \n",
    "                elif len(buy) != len(sell):\n",
    "                    # Deleting excess buy transaction after we close position\n",
    "                    del(buy[-diff:])\n",
    "                    del(bdate[-diff:])\n",
    "                    del(ope[-diff:])\n",
    "                    del(high[-diff:])\n",
    "                    del(vol[-diff:])\n",
    "                    del(low[-diff:])\n",
    "\n",
    "                dct = {\n",
    "                    \"Buy_Date\": bdate,\n",
    "                    \"Buy\": buy,\n",
    "                    \"Sell\": sell,\n",
    "                    \"Sell_Date\": sdate,\n",
    "                    \"Open\":ope,\n",
    "                    'Volume': vol,\n",
    "                    \"Low\": low,\n",
    "                    \"high\": high,\n",
    "                    \"Pct_change\": pct    \n",
    "                }  \n",
    "\n",
    "                # Save document for stochastic strategy\n",
    "                trans = pd.DataFrame(dct)\n",
    "\n",
    "                # skipping stocks with no buy signal in history, eg: IPO\n",
    "                if trans.shape[0] > 0:\n",
    "                    # Define variable for winning rate\n",
    "                    wr = []\n",
    "                    for i in range(len(trans)):\n",
    "                        if trans[\"Pct_change\"][i] > 0:\n",
    "                            wr.append(1)\n",
    "                        else:\n",
    "                            wr.append(0)\n",
    "\n",
    "                    # Define variable for name of stock\n",
    "                    Name_stock = []\n",
    "                    for s in range(len(trans)):\n",
    "                        Name_stock.append(symbol)\n",
    "\n",
    "                    # Add new column\n",
    "                    trans[\"wr\"] = pd.Series(wr)\n",
    "                    trans['Stock'] = pd.Series(Name_stock)\n",
    "\n",
    "                    if add_features == \"True\":\n",
    "                        # df for additional features\n",
    "                        add_feat = df[[\"MA5\", \"MA20\", \"MA50\", \"MAgap\", 'VMA5', 'VMA20', 'STD', 'rsi', \n",
    "                                       'VMA5xVMA20', 'price_dev', 'Mom', 'Y', 'MoY', 'WoM', \n",
    "                                       'WoY', 'DoY', 'DoM', 'DoW']]\n",
    "                        add_feat.index.names = ['Buy_Date']\n",
    "                        trans = pd.merge(trans, add_feat,  how='left', on=['Buy_Date'])\n",
    "\n",
    "                    # Scaling certain features only for training data\n",
    "                    col_names = ['Buy', 'Low', 'Open', 'Volume','high']  \n",
    "\n",
    "                    if add_features == \"True\":\n",
    "                        col_names = col_names + [\"MA5\", \"MA20\", \"MA50\", \"MAgap\", 'VMA5', 'VMA20','STD', 'rsi']\n",
    "\n",
    "                    features = trans[col_names]\n",
    "\n",
    "                    # Prepare prediction data that no need to scale\n",
    "                    scaler = StandardScaler().fit(features.values)\n",
    "                    features = scaler.transform(features.values)\n",
    "\n",
    "                    # Convert the array back to a dataframe\n",
    "                    dataset = DataFrame(features)    \n",
    "                    col_notscale = ['Buy_Date','Stock','wr']\n",
    "\n",
    "                    if add_features == \"True\":\n",
    "                        col_notscale = col_notscale + ['VMA5xVMA20', 'price_dev', 'Mom',\n",
    "                                                       'Y', 'MoY', 'WoM', 'WoY', 'DoY', 'DoM', 'DoW']\n",
    "\n",
    "                    features_notscale = trans[col_notscale]\n",
    "\n",
    "                    # Saving in multiple variable\n",
    "                    d[\"{}\".format(stock)] = dataset\n",
    "                    ss[\"{}\".format(stock)] = features_notscale\n",
    "                    #print(\"----------------DONE {}------------------\".format(symbol))\n",
    "\n",
    "                # if no buy signal history, just skip the stock\n",
    "                else:\n",
    "                    pass\n",
    "\n",
    "            # if sum of 5day vol > 0, then assume it still listed\n",
    "            else:\n",
    "                pass\n",
    "\n",
    "        # If data.status == data['status'] != 'Stock not found.'\n",
    "        else:\n",
    "            pass\n",
    "        \n",
    "    # Combining all training data generated\n",
    "    df_notscale = pd.concat(list(ss.values()),ignore_index=True)\n",
    "    df_scale = pd.concat(list(d.values()),ignore_index=True)\n",
    "\n",
    "    if add_features == \"True\":\n",
    "        df_scale = df_scale.rename(columns={0: 'Buy', 1: 'Low', 2: 'Open', 3: 'Volume', 4: 'High', \n",
    "                                            5: \"MA5\", 6: \"MA20\", 7: \"MA50\", 8: \"MAgap\", 9: 'VMA5', 10: 'VMA20',\n",
    "                                            11: 'STD', 12: 'rsi'})\n",
    "    else:\n",
    "        df_scale = df_scale.rename(columns={0: 'Buy', 1: 'Low', 2: 'Open', 3: 'Volume', 4: 'High'})\n",
    "\n",
    "    result_scaler = pd.concat([df_notscale, df_scale], axis=1)\n",
    "\n",
    "    # Setting Dates as index\n",
    "    df_all = result_scaler.sort_values(by=\"Buy_Date\")\n",
    "    df_all.set_index('Buy_Date', inplace=True)\n",
    "    original = pd.concat(all_ori_stocks)\n",
    "\n",
    "    print('############################### DONE STRATEGY LABEL ##############################')\n",
    "    \n",
    "    return(df_all)"
   ]
  },
  {
   "cell_type": "code",
   "execution_count": 3,
   "metadata": {},
   "outputs": [],
   "source": [
    "def data_prep(df):\n",
    "    # Encoding the stock names\n",
    "    le = LabelEncoder()\n",
    "    df[\"Stock\"] = le.fit_transform(df[\"Stock\"])\n",
    "\n",
    "    # Define the splitting date (for training we use 2 years data)\n",
    "    # Splitting train test\n",
    "    day = dt.datetime.today().day\n",
    "    month = dt.datetime.today().month\n",
    "    year = dt.datetime.today().year - 5\n",
    "    date1 = \"{}-{}-01\".format(year, str(month).zfill(2), str(day).zfill(2))\n",
    "    date2 = str(dt.datetime.today().date())  # until yesterday only\n",
    "\n",
    "    # Separate input features and target\n",
    "    X = df.drop(['wr'], axis=1)\n",
    "    y = df.wr\n",
    "    \n",
    "    # Splitting train test\n",
    "    X_train, y_train = X[date1: date2], y[date1: date2]\n",
    "    X_trainss, y_train = X_train.to_numpy(), y_train.to_numpy()\n",
    "    \n",
    "    #print('############################## DONE DATA PREP #################################')\n",
    "\n",
    "    return(X,y)"
   ]
  },
  {
   "cell_type": "code",
   "execution_count": 4,
   "metadata": {},
   "outputs": [],
   "source": [
    "def walk_forward(X,y,df_all,start_year):\n",
    "    start_y = start_year  \n",
    "    #end_y = end_year\n",
    "\n",
    "    test_prec = []\n",
    "    train_acc = []\n",
    "    test_acc = []\n",
    "    for i in range(1):  # years remaining\n",
    "        for j in range(1,13,1):  # iteratting from 1 - 12\n",
    "\n",
    "            # Fill the string with zeros until it is 2 characters long  \n",
    "            date1 = \"{}-{}-01\".format(start_y + i, str(j).zfill(2))  # starting of the test set\n",
    "            date2 = \"{}-{}-01\".format(start_y + i, str(j + 1).zfill(2))  # contain in 1 month only\n",
    "\n",
    "            if j == 12:\n",
    "                date2 = \"{}-{}-01\".format(start_y + (i + 1), str((j + 1) - j).zfill(2))  # contain in 1 month only\n",
    "\n",
    "            if date2 < str(df_all.index[-1]):  # limiting the splitting for duration below the last date\n",
    "\n",
    "                #print(\"Start:\", date1)\n",
    "                #print(\"End:\", date2)\n",
    "\n",
    "                # splitting train test\n",
    "                X_train, y_train = X[:date1], y[:date1]\n",
    "                X_test, y_test = X[date1:date2], y[date1:date2]\n",
    "                #print(\"#### {}, {} ####\".format(len(X_train), len(X_test)))\n",
    "\n",
    "\n",
    "\n",
    "                # defining the model\n",
    "                model = XGBClassifier(verbosity=0)\n",
    "                # training the model\n",
    "                model.fit(X_train, y_train)\n",
    "\n",
    "                # predicting the train and test set\n",
    "                # train\n",
    "                y_pred = model.predict(X_train)\n",
    "                pred1 = [round(value) for value in y_pred]\n",
    "                train_accuracy = accuracy_score(y_train, pred1)\n",
    "                train_acc.append(train_accuracy)\n",
    "\n",
    "                # test\n",
    "                y_pred = model.predict(X_test)\n",
    "                pred2 = [round(value) for value in y_pred]\n",
    "                test_accuracy = accuracy_score(y_test, pred2)\n",
    "                test_acc.append(test_accuracy)\n",
    "                #print(\"Test Accuracy: %.2f%%\" % (test_accuracy * 100.0))\n",
    "\n",
    "                precision = precision_score(y_test, pred2)\n",
    "                test_prec.append(precision)\n",
    "                #print(\"Test Precision: %.2f%%\" % (precision * 100.0))\n",
    "\n",
    "                #if i == 0:\n",
    "                    #print(\"----------------------------- DONE ROUND {} -----------------------------\".format(i*10 + j))\n",
    "                #else:\n",
    "                    #print(\"----------------------------- DONE ROUND {} ----------------------------- \\n\".format(i*10 + j+(2*i)))\n",
    "    # remove nan values for list test_acc\n",
    "    new_test_acc = [x for x in test_acc if np.isnan(x) == False]\n",
    "    avg_1 = sum(train_acc)/len(train_acc)  # calculating the average accuracy of the train set\n",
    "    avg_2 = round(sum(new_test_acc)/len(new_test_acc),4)  # calculating the average accuracy of the test set\n",
    "    print(\"Overall Train accuracy is: {}\".format(avg_1))\n",
    "    print(\"Overall Test accuracy is: {}\".format(avg_2)) \n",
    "\n",
    "    avg_3 = round(sum(test_prec)/len(test_prec),4)  # calculating the average accuracy of the train set\n",
    "    print(\"Overall Test precision is: {}\".format(avg_3))\n",
    "    return avg_3,start_y\n",
    "\n",
    "    \n",
    "    "
   ]
  },
  {
   "cell_type": "code",
   "execution_count": 5,
   "metadata": {},
   "outputs": [],
   "source": [
    "def sector_filter(sector):\n",
    "\n",
    "  # pulling data from api\n",
    "  URL = 'https://admin.isaham.my/api/stocks/list'\n",
    "  r = requests.get(url = URL) \n",
    "  data = r.json() \n",
    "  df = pd.DataFrame(data['stocks'],columns = ['code','symbol','name','primary-sector','secondary-sector'])\n",
    "\n",
    "  wl = df[df[\"primary-sector\"]==sector]\n",
    "  wl = list(wl.symbol)\n",
    "\n",
    "  return(wl)"
   ]
  },
  {
   "cell_type": "code",
   "execution_count": 6,
   "metadata": {},
   "outputs": [],
   "source": [
    "def precision(wl,start_year):\n",
    "    df_all=strategy_label(wl, add_features = \"False\")\n",
    "    X,y=data_prep(df_all)\n",
    "    avg_3,start_y=walk_forward(X,y,df_all,start_year)\n",
    "    \n",
    "    return X,y,df_all,avg_3,start_y"
   ]
  },
  {
   "cell_type": "code",
   "execution_count": null,
   "metadata": {},
   "outputs": [],
   "source": []
  },
  {
   "cell_type": "markdown",
   "metadata": {},
   "source": [
    "### By sector performance"
   ]
  },
  {
   "cell_type": "code",
   "execution_count": 9,
   "metadata": {
    "scrolled": true
   },
   "outputs": [
    {
     "name": "stdout",
     "output_type": "stream",
     "text": [
      "Healthcare:\n",
      "############################### DONE STRATEGY LABEL ##############################\n"
     ]
    },
    {
     "name": "stderr",
     "output_type": "stream",
     "text": [
      "C:\\Users\\Public\\Documents\\anaconda\\lib\\site-packages\\xgboost\\sklearn.py:888: UserWarning: The use of label encoder in XGBClassifier is deprecated and will be removed in a future release. To remove this warning, do the following: 1) Pass option use_label_encoder=False when constructing XGBClassifier object; and 2) Encode your labels (y) as integers starting with 0, i.e. 0, 1, 2, ..., [num_class - 1].\n",
      "  warnings.warn(label_encoder_deprecation_msg, UserWarning)\n"
     ]
    },
    {
     "name": "stdout",
     "output_type": "stream",
     "text": [
      "Overall Train accuracy is: 0.9847146911081994\n",
      "Overall Test accuracy is: 0.6559\n",
      "Overall Test precision is: 0.6625\n",
      "2017\n",
      "############################### DONE STRATEGY LABEL ##############################\n"
     ]
    },
    {
     "name": "stderr",
     "output_type": "stream",
     "text": [
      "C:\\Users\\Public\\Documents\\anaconda\\lib\\site-packages\\xgboost\\sklearn.py:888: UserWarning: The use of label encoder in XGBClassifier is deprecated and will be removed in a future release. To remove this warning, do the following: 1) Pass option use_label_encoder=False when constructing XGBClassifier object; and 2) Encode your labels (y) as integers starting with 0, i.e. 0, 1, 2, ..., [num_class - 1].\n",
      "  warnings.warn(label_encoder_deprecation_msg, UserWarning)\n"
     ]
    },
    {
     "name": "stdout",
     "output_type": "stream",
     "text": [
      "Overall Train accuracy is: 0.9855771901506075\n",
      "Overall Test accuracy is: 0.5746\n",
      "Overall Test precision is: 0.6778\n",
      "2018\n",
      "############################### DONE STRATEGY LABEL ##############################\n"
     ]
    },
    {
     "name": "stderr",
     "output_type": "stream",
     "text": [
      "C:\\Users\\Public\\Documents\\anaconda\\lib\\site-packages\\xgboost\\sklearn.py:888: UserWarning: The use of label encoder in XGBClassifier is deprecated and will be removed in a future release. To remove this warning, do the following: 1) Pass option use_label_encoder=False when constructing XGBClassifier object; and 2) Encode your labels (y) as integers starting with 0, i.e. 0, 1, 2, ..., [num_class - 1].\n",
      "  warnings.warn(label_encoder_deprecation_msg, UserWarning)\n",
      "C:\\Users\\Public\\Documents\\anaconda\\lib\\site-packages\\numpy\\lib\\function_base.py:380: RuntimeWarning: Mean of empty slice.\n",
      "  avg = a.mean(axis)\n",
      "C:\\Users\\Public\\Documents\\anaconda\\lib\\site-packages\\numpy\\core\\_methods.py:170: RuntimeWarning: invalid value encountered in double_scalars\n",
      "  ret = ret.dtype.type(ret / rcount)\n",
      "C:\\Users\\Public\\Documents\\anaconda\\lib\\site-packages\\sklearn\\metrics\\_classification.py:1221: UndefinedMetricWarning: Precision is ill-defined and being set to 0.0 due to no predicted samples. Use `zero_division` parameter to control this behavior.\n",
      "  _warn_prf(average, modifier, msg_start, len(result))\n"
     ]
    },
    {
     "name": "stdout",
     "output_type": "stream",
     "text": [
      "Overall Train accuracy is: 0.9849984431464626\n",
      "Overall Test accuracy is: 0.5028\n",
      "Overall Test precision is: 0.4291\n",
      "2019\n",
      "############################### DONE STRATEGY LABEL ##############################\n"
     ]
    },
    {
     "name": "stderr",
     "output_type": "stream",
     "text": [
      "C:\\Users\\Public\\Documents\\anaconda\\lib\\site-packages\\xgboost\\sklearn.py:888: UserWarning: The use of label encoder in XGBClassifier is deprecated and will be removed in a future release. To remove this warning, do the following: 1) Pass option use_label_encoder=False when constructing XGBClassifier object; and 2) Encode your labels (y) as integers starting with 0, i.e. 0, 1, 2, ..., [num_class - 1].\n",
      "  warnings.warn(label_encoder_deprecation_msg, UserWarning)\n",
      "C:\\Users\\Public\\Documents\\anaconda\\lib\\site-packages\\sklearn\\metrics\\_classification.py:1221: UndefinedMetricWarning: Precision is ill-defined and being set to 0.0 due to no predicted samples. Use `zero_division` parameter to control this behavior.\n",
      "  _warn_prf(average, modifier, msg_start, len(result))\n"
     ]
    },
    {
     "name": "stdout",
     "output_type": "stream",
     "text": [
      "Overall Train accuracy is: 0.9844485503173138\n",
      "Overall Test accuracy is: 0.5449\n",
      "Overall Test precision is: 0.5407\n",
      "2020\n",
      "############################### DONE STRATEGY LABEL ##############################\n"
     ]
    },
    {
     "name": "stderr",
     "output_type": "stream",
     "text": [
      "C:\\Users\\Public\\Documents\\anaconda\\lib\\site-packages\\xgboost\\sklearn.py:888: UserWarning: The use of label encoder in XGBClassifier is deprecated and will be removed in a future release. To remove this warning, do the following: 1) Pass option use_label_encoder=False when constructing XGBClassifier object; and 2) Encode your labels (y) as integers starting with 0, i.e. 0, 1, 2, ..., [num_class - 1].\n",
      "  warnings.warn(label_encoder_deprecation_msg, UserWarning)\n",
      "C:\\Users\\Public\\Documents\\anaconda\\lib\\site-packages\\numpy\\lib\\function_base.py:380: RuntimeWarning: Mean of empty slice.\n",
      "  avg = a.mean(axis)\n",
      "C:\\Users\\Public\\Documents\\anaconda\\lib\\site-packages\\numpy\\core\\_methods.py:170: RuntimeWarning: invalid value encountered in double_scalars\n",
      "  ret = ret.dtype.type(ret / rcount)\n",
      "C:\\Users\\Public\\Documents\\anaconda\\lib\\site-packages\\sklearn\\metrics\\_classification.py:1221: UndefinedMetricWarning: Precision is ill-defined and being set to 0.0 due to no predicted samples. Use `zero_division` parameter to control this behavior.\n",
      "  _warn_prf(average, modifier, msg_start, len(result))\n"
     ]
    },
    {
     "name": "stdout",
     "output_type": "stream",
     "text": [
      "Overall Train accuracy is: 0.9794189502136997\n",
      "Overall Test accuracy is: 0.6309\n",
      "Overall Test precision is: 0.6775\n",
      "############################## DONE #################################\n",
      "Telecommunications & Media:\n",
      "############################### DONE STRATEGY LABEL ##############################\n"
     ]
    },
    {
     "name": "stderr",
     "output_type": "stream",
     "text": [
      "C:\\Users\\Public\\Documents\\anaconda\\lib\\site-packages\\xgboost\\sklearn.py:888: UserWarning: The use of label encoder in XGBClassifier is deprecated and will be removed in a future release. To remove this warning, do the following: 1) Pass option use_label_encoder=False when constructing XGBClassifier object; and 2) Encode your labels (y) as integers starting with 0, i.e. 0, 1, 2, ..., [num_class - 1].\n",
      "  warnings.warn(label_encoder_deprecation_msg, UserWarning)\n"
     ]
    },
    {
     "name": "stdout",
     "output_type": "stream",
     "text": [
      "Overall Train accuracy is: 0.986222665150696\n",
      "Overall Test accuracy is: 0.536\n",
      "Overall Test precision is: 0.5851\n",
      "2017\n",
      "############################### DONE STRATEGY LABEL ##############################\n"
     ]
    },
    {
     "name": "stderr",
     "output_type": "stream",
     "text": [
      "C:\\Users\\Public\\Documents\\anaconda\\lib\\site-packages\\xgboost\\sklearn.py:888: UserWarning: The use of label encoder in XGBClassifier is deprecated and will be removed in a future release. To remove this warning, do the following: 1) Pass option use_label_encoder=False when constructing XGBClassifier object; and 2) Encode your labels (y) as integers starting with 0, i.e. 0, 1, 2, ..., [num_class - 1].\n",
      "  warnings.warn(label_encoder_deprecation_msg, UserWarning)\n"
     ]
    },
    {
     "name": "stdout",
     "output_type": "stream",
     "text": [
      "Overall Train accuracy is: 0.9813005617925515\n",
      "Overall Test accuracy is: 0.6305\n",
      "Overall Test precision is: 0.7156\n",
      "2018\n",
      "############################### DONE STRATEGY LABEL ##############################\n"
     ]
    },
    {
     "name": "stderr",
     "output_type": "stream",
     "text": [
      "C:\\Users\\Public\\Documents\\anaconda\\lib\\site-packages\\xgboost\\sklearn.py:888: UserWarning: The use of label encoder in XGBClassifier is deprecated and will be removed in a future release. To remove this warning, do the following: 1) Pass option use_label_encoder=False when constructing XGBClassifier object; and 2) Encode your labels (y) as integers starting with 0, i.e. 0, 1, 2, ..., [num_class - 1].\n",
      "  warnings.warn(label_encoder_deprecation_msg, UserWarning)\n",
      "C:\\Users\\Public\\Documents\\anaconda\\lib\\site-packages\\sklearn\\metrics\\_classification.py:1221: UndefinedMetricWarning: Precision is ill-defined and being set to 0.0 due to no predicted samples. Use `zero_division` parameter to control this behavior.\n",
      "  _warn_prf(average, modifier, msg_start, len(result))\n"
     ]
    },
    {
     "name": "stdout",
     "output_type": "stream",
     "text": [
      "Overall Train accuracy is: 0.9816639956298397\n",
      "Overall Test accuracy is: 0.5402\n",
      "Overall Test precision is: 0.3526\n",
      "2019\n",
      "############################### DONE STRATEGY LABEL ##############################\n"
     ]
    },
    {
     "name": "stderr",
     "output_type": "stream",
     "text": [
      "C:\\Users\\Public\\Documents\\anaconda\\lib\\site-packages\\xgboost\\sklearn.py:888: UserWarning: The use of label encoder in XGBClassifier is deprecated and will be removed in a future release. To remove this warning, do the following: 1) Pass option use_label_encoder=False when constructing XGBClassifier object; and 2) Encode your labels (y) as integers starting with 0, i.e. 0, 1, 2, ..., [num_class - 1].\n",
      "  warnings.warn(label_encoder_deprecation_msg, UserWarning)\n"
     ]
    },
    {
     "name": "stdout",
     "output_type": "stream",
     "text": [
      "Overall Train accuracy is: 0.9803685165177484\n",
      "Overall Test accuracy is: 0.5959\n",
      "Overall Test precision is: 0.573\n",
      "2020\n",
      "############################### DONE STRATEGY LABEL ##############################\n"
     ]
    },
    {
     "name": "stderr",
     "output_type": "stream",
     "text": [
      "C:\\Users\\Public\\Documents\\anaconda\\lib\\site-packages\\xgboost\\sklearn.py:888: UserWarning: The use of label encoder in XGBClassifier is deprecated and will be removed in a future release. To remove this warning, do the following: 1) Pass option use_label_encoder=False when constructing XGBClassifier object; and 2) Encode your labels (y) as integers starting with 0, i.e. 0, 1, 2, ..., [num_class - 1].\n",
      "  warnings.warn(label_encoder_deprecation_msg, UserWarning)\n"
     ]
    },
    {
     "name": "stdout",
     "output_type": "stream",
     "text": [
      "Overall Train accuracy is: 0.9766741161464632\n",
      "Overall Test accuracy is: 0.5161\n",
      "Overall Test precision is: 0.5683\n",
      "############################## DONE #################################\n",
      "Technology:\n",
      "############################### DONE STRATEGY LABEL ##############################\n"
     ]
    },
    {
     "name": "stderr",
     "output_type": "stream",
     "text": [
      "C:\\Users\\Public\\Documents\\anaconda\\lib\\site-packages\\xgboost\\sklearn.py:888: UserWarning: The use of label encoder in XGBClassifier is deprecated and will be removed in a future release. To remove this warning, do the following: 1) Pass option use_label_encoder=False when constructing XGBClassifier object; and 2) Encode your labels (y) as integers starting with 0, i.e. 0, 1, 2, ..., [num_class - 1].\n",
      "  warnings.warn(label_encoder_deprecation_msg, UserWarning)\n"
     ]
    },
    {
     "name": "stdout",
     "output_type": "stream",
     "text": [
      "Overall Train accuracy is: 0.9237108458713089\n",
      "Overall Test accuracy is: 0.6333\n",
      "Overall Test precision is: 0.6333\n",
      "2017\n",
      "############################### DONE STRATEGY LABEL ##############################\n"
     ]
    },
    {
     "name": "stderr",
     "output_type": "stream",
     "text": [
      "C:\\Users\\Public\\Documents\\anaconda\\lib\\site-packages\\xgboost\\sklearn.py:888: UserWarning: The use of label encoder in XGBClassifier is deprecated and will be removed in a future release. To remove this warning, do the following: 1) Pass option use_label_encoder=False when constructing XGBClassifier object; and 2) Encode your labels (y) as integers starting with 0, i.e. 0, 1, 2, ..., [num_class - 1].\n",
      "  warnings.warn(label_encoder_deprecation_msg, UserWarning)\n"
     ]
    },
    {
     "name": "stdout",
     "output_type": "stream",
     "text": [
      "Overall Train accuracy is: 0.9157767940024049\n",
      "Overall Test accuracy is: 0.5831\n",
      "Overall Test precision is: 0.6234\n",
      "2018\n",
      "############################### DONE STRATEGY LABEL ##############################\n"
     ]
    },
    {
     "name": "stderr",
     "output_type": "stream",
     "text": [
      "C:\\Users\\Public\\Documents\\anaconda\\lib\\site-packages\\xgboost\\sklearn.py:888: UserWarning: The use of label encoder in XGBClassifier is deprecated and will be removed in a future release. To remove this warning, do the following: 1) Pass option use_label_encoder=False when constructing XGBClassifier object; and 2) Encode your labels (y) as integers starting with 0, i.e. 0, 1, 2, ..., [num_class - 1].\n",
      "  warnings.warn(label_encoder_deprecation_msg, UserWarning)\n"
     ]
    },
    {
     "name": "stdout",
     "output_type": "stream",
     "text": [
      "Overall Train accuracy is: 0.9160653386857084\n",
      "Overall Test accuracy is: 0.5142\n",
      "Overall Test precision is: 0.3944\n",
      "2019\n",
      "############################### DONE STRATEGY LABEL ##############################\n"
     ]
    },
    {
     "name": "stderr",
     "output_type": "stream",
     "text": [
      "C:\\Users\\Public\\Documents\\anaconda\\lib\\site-packages\\xgboost\\sklearn.py:888: UserWarning: The use of label encoder in XGBClassifier is deprecated and will be removed in a future release. To remove this warning, do the following: 1) Pass option use_label_encoder=False when constructing XGBClassifier object; and 2) Encode your labels (y) as integers starting with 0, i.e. 0, 1, 2, ..., [num_class - 1].\n",
      "  warnings.warn(label_encoder_deprecation_msg, UserWarning)\n"
     ]
    },
    {
     "name": "stdout",
     "output_type": "stream",
     "text": [
      "Overall Train accuracy is: 0.9111500572795812\n",
      "Overall Test accuracy is: 0.6467\n",
      "Overall Test precision is: 0.6308\n",
      "2020\n",
      "############################### DONE STRATEGY LABEL ##############################\n"
     ]
    },
    {
     "name": "stderr",
     "output_type": "stream",
     "text": [
      "C:\\Users\\Public\\Documents\\anaconda\\lib\\site-packages\\xgboost\\sklearn.py:888: UserWarning: The use of label encoder in XGBClassifier is deprecated and will be removed in a future release. To remove this warning, do the following: 1) Pass option use_label_encoder=False when constructing XGBClassifier object; and 2) Encode your labels (y) as integers starting with 0, i.e. 0, 1, 2, ..., [num_class - 1].\n",
      "  warnings.warn(label_encoder_deprecation_msg, UserWarning)\n"
     ]
    },
    {
     "name": "stdout",
     "output_type": "stream",
     "text": [
      "Overall Train accuracy is: 0.9065888216504945\n",
      "Overall Test accuracy is: 0.6104\n",
      "Overall Test precision is: 0.6264\n",
      "############################## DONE #################################\n",
      "Utilities:\n",
      "############################### DONE STRATEGY LABEL ##############################\n"
     ]
    },
    {
     "name": "stderr",
     "output_type": "stream",
     "text": [
      "C:\\Users\\Public\\Documents\\anaconda\\lib\\site-packages\\xgboost\\sklearn.py:888: UserWarning: The use of label encoder in XGBClassifier is deprecated and will be removed in a future release. To remove this warning, do the following: 1) Pass option use_label_encoder=False when constructing XGBClassifier object; and 2) Encode your labels (y) as integers starting with 0, i.e. 0, 1, 2, ..., [num_class - 1].\n",
      "  warnings.warn(label_encoder_deprecation_msg, UserWarning)\n",
      "C:\\Users\\Public\\Documents\\anaconda\\lib\\site-packages\\sklearn\\metrics\\_classification.py:1221: UndefinedMetricWarning: Precision is ill-defined and being set to 0.0 due to no predicted samples. Use `zero_division` parameter to control this behavior.\n",
      "  _warn_prf(average, modifier, msg_start, len(result))\n"
     ]
    },
    {
     "name": "stdout",
     "output_type": "stream",
     "text": [
      "Overall Train accuracy is: 0.9922206238420347\n",
      "Overall Test accuracy is: 0.5882\n",
      "Overall Test precision is: 0.5056\n",
      "2017\n",
      "############################### DONE STRATEGY LABEL ##############################\n"
     ]
    },
    {
     "name": "stderr",
     "output_type": "stream",
     "text": [
      "C:\\Users\\Public\\Documents\\anaconda\\lib\\site-packages\\xgboost\\sklearn.py:888: UserWarning: The use of label encoder in XGBClassifier is deprecated and will be removed in a future release. To remove this warning, do the following: 1) Pass option use_label_encoder=False when constructing XGBClassifier object; and 2) Encode your labels (y) as integers starting with 0, i.e. 0, 1, 2, ..., [num_class - 1].\n",
      "  warnings.warn(label_encoder_deprecation_msg, UserWarning)\n",
      "C:\\Users\\Public\\Documents\\anaconda\\lib\\site-packages\\numpy\\lib\\function_base.py:380: RuntimeWarning: Mean of empty slice.\n",
      "  avg = a.mean(axis)\n",
      "C:\\Users\\Public\\Documents\\anaconda\\lib\\site-packages\\numpy\\core\\_methods.py:170: RuntimeWarning: invalid value encountered in double_scalars\n",
      "  ret = ret.dtype.type(ret / rcount)\n",
      "C:\\Users\\Public\\Documents\\anaconda\\lib\\site-packages\\sklearn\\metrics\\_classification.py:1221: UndefinedMetricWarning: Precision is ill-defined and being set to 0.0 due to no predicted samples. Use `zero_division` parameter to control this behavior.\n",
      "  _warn_prf(average, modifier, msg_start, len(result))\n"
     ]
    },
    {
     "name": "stdout",
     "output_type": "stream",
     "text": [
      "Overall Train accuracy is: 0.9921418446268836\n",
      "Overall Test accuracy is: 0.5689\n",
      "Overall Test precision is: 0.5264\n",
      "2018\n",
      "############################### DONE STRATEGY LABEL ##############################\n"
     ]
    },
    {
     "name": "stderr",
     "output_type": "stream",
     "text": [
      "C:\\Users\\Public\\Documents\\anaconda\\lib\\site-packages\\xgboost\\sklearn.py:888: UserWarning: The use of label encoder in XGBClassifier is deprecated and will be removed in a future release. To remove this warning, do the following: 1) Pass option use_label_encoder=False when constructing XGBClassifier object; and 2) Encode your labels (y) as integers starting with 0, i.e. 0, 1, 2, ..., [num_class - 1].\n",
      "  warnings.warn(label_encoder_deprecation_msg, UserWarning)\n",
      "C:\\Users\\Public\\Documents\\anaconda\\lib\\site-packages\\numpy\\lib\\function_base.py:380: RuntimeWarning: Mean of empty slice.\n",
      "  avg = a.mean(axis)\n",
      "C:\\Users\\Public\\Documents\\anaconda\\lib\\site-packages\\numpy\\core\\_methods.py:170: RuntimeWarning: invalid value encountered in double_scalars\n",
      "  ret = ret.dtype.type(ret / rcount)\n",
      "C:\\Users\\Public\\Documents\\anaconda\\lib\\site-packages\\sklearn\\metrics\\_classification.py:1221: UndefinedMetricWarning: Precision is ill-defined and being set to 0.0 due to no predicted samples. Use `zero_division` parameter to control this behavior.\n",
      "  _warn_prf(average, modifier, msg_start, len(result))\n"
     ]
    },
    {
     "name": "stdout",
     "output_type": "stream",
     "text": [
      "Overall Train accuracy is: 0.9928430195760747\n",
      "Overall Test accuracy is: 0.5412\n",
      "Overall Test precision is: 0.4278\n",
      "2019\n",
      "############################### DONE STRATEGY LABEL ##############################\n"
     ]
    },
    {
     "name": "stderr",
     "output_type": "stream",
     "text": [
      "C:\\Users\\Public\\Documents\\anaconda\\lib\\site-packages\\xgboost\\sklearn.py:888: UserWarning: The use of label encoder in XGBClassifier is deprecated and will be removed in a future release. To remove this warning, do the following: 1) Pass option use_label_encoder=False when constructing XGBClassifier object; and 2) Encode your labels (y) as integers starting with 0, i.e. 0, 1, 2, ..., [num_class - 1].\n",
      "  warnings.warn(label_encoder_deprecation_msg, UserWarning)\n",
      "C:\\Users\\Public\\Documents\\anaconda\\lib\\site-packages\\sklearn\\metrics\\_classification.py:1221: UndefinedMetricWarning: Precision is ill-defined and being set to 0.0 due to no predicted samples. Use `zero_division` parameter to control this behavior.\n",
      "  _warn_prf(average, modifier, msg_start, len(result))\n"
     ]
    },
    {
     "name": "stdout",
     "output_type": "stream",
     "text": [
      "Overall Train accuracy is: 0.9917301100349398\n",
      "Overall Test accuracy is: 0.4942\n",
      "Overall Test precision is: 0.5333\n",
      "2020\n",
      "############################### DONE STRATEGY LABEL ##############################\n"
     ]
    },
    {
     "name": "stderr",
     "output_type": "stream",
     "text": [
      "C:\\Users\\Public\\Documents\\anaconda\\lib\\site-packages\\xgboost\\sklearn.py:888: UserWarning: The use of label encoder in XGBClassifier is deprecated and will be removed in a future release. To remove this warning, do the following: 1) Pass option use_label_encoder=False when constructing XGBClassifier object; and 2) Encode your labels (y) as integers starting with 0, i.e. 0, 1, 2, ..., [num_class - 1].\n",
      "  warnings.warn(label_encoder_deprecation_msg, UserWarning)\n",
      "C:\\Users\\Public\\Documents\\anaconda\\lib\\site-packages\\numpy\\lib\\function_base.py:380: RuntimeWarning: Mean of empty slice.\n",
      "  avg = a.mean(axis)\n",
      "C:\\Users\\Public\\Documents\\anaconda\\lib\\site-packages\\numpy\\core\\_methods.py:170: RuntimeWarning: invalid value encountered in double_scalars\n",
      "  ret = ret.dtype.type(ret / rcount)\n",
      "C:\\Users\\Public\\Documents\\anaconda\\lib\\site-packages\\sklearn\\metrics\\_classification.py:1221: UndefinedMetricWarning: Precision is ill-defined and being set to 0.0 due to no predicted samples. Use `zero_division` parameter to control this behavior.\n",
      "  _warn_prf(average, modifier, msg_start, len(result))\n"
     ]
    },
    {
     "name": "stdout",
     "output_type": "stream",
     "text": [
      "Overall Train accuracy is: 0.9901177235659074\n",
      "Overall Test accuracy is: 0.5528\n",
      "Overall Test precision is: 0.5223\n",
      "############################## DONE #################################\n",
      "Energy:\n",
      "############################### DONE STRATEGY LABEL ##############################\n"
     ]
    },
    {
     "name": "stderr",
     "output_type": "stream",
     "text": [
      "C:\\Users\\Public\\Documents\\anaconda\\lib\\site-packages\\xgboost\\sklearn.py:888: UserWarning: The use of label encoder in XGBClassifier is deprecated and will be removed in a future release. To remove this warning, do the following: 1) Pass option use_label_encoder=False when constructing XGBClassifier object; and 2) Encode your labels (y) as integers starting with 0, i.e. 0, 1, 2, ..., [num_class - 1].\n",
      "  warnings.warn(label_encoder_deprecation_msg, UserWarning)\n",
      "C:\\Users\\Public\\Documents\\anaconda\\lib\\site-packages\\sklearn\\metrics\\_classification.py:1221: UndefinedMetricWarning: Precision is ill-defined and being set to 0.0 due to no predicted samples. Use `zero_division` parameter to control this behavior.\n",
      "  _warn_prf(average, modifier, msg_start, len(result))\n"
     ]
    },
    {
     "name": "stdout",
     "output_type": "stream",
     "text": [
      "Overall Train accuracy is: 0.9814940166251209\n",
      "Overall Test accuracy is: 0.6509\n",
      "Overall Test precision is: 0.5133\n",
      "2017\n",
      "############################### DONE STRATEGY LABEL ##############################\n"
     ]
    },
    {
     "name": "stderr",
     "output_type": "stream",
     "text": [
      "C:\\Users\\Public\\Documents\\anaconda\\lib\\site-packages\\xgboost\\sklearn.py:888: UserWarning: The use of label encoder in XGBClassifier is deprecated and will be removed in a future release. To remove this warning, do the following: 1) Pass option use_label_encoder=False when constructing XGBClassifier object; and 2) Encode your labels (y) as integers starting with 0, i.e. 0, 1, 2, ..., [num_class - 1].\n",
      "  warnings.warn(label_encoder_deprecation_msg, UserWarning)\n"
     ]
    },
    {
     "name": "stdout",
     "output_type": "stream",
     "text": [
      "Overall Train accuracy is: 0.9787407394076122\n",
      "Overall Test accuracy is: 0.6034\n",
      "Overall Test precision is: 0.6975\n",
      "2018\n",
      "############################### DONE STRATEGY LABEL ##############################\n"
     ]
    },
    {
     "name": "stderr",
     "output_type": "stream",
     "text": [
      "C:\\Users\\Public\\Documents\\anaconda\\lib\\site-packages\\xgboost\\sklearn.py:888: UserWarning: The use of label encoder in XGBClassifier is deprecated and will be removed in a future release. To remove this warning, do the following: 1) Pass option use_label_encoder=False when constructing XGBClassifier object; and 2) Encode your labels (y) as integers starting with 0, i.e. 0, 1, 2, ..., [num_class - 1].\n",
      "  warnings.warn(label_encoder_deprecation_msg, UserWarning)\n",
      "C:\\Users\\Public\\Documents\\anaconda\\lib\\site-packages\\sklearn\\metrics\\_classification.py:1221: UndefinedMetricWarning: Precision is ill-defined and being set to 0.0 due to no predicted samples. Use `zero_division` parameter to control this behavior.\n",
      "  _warn_prf(average, modifier, msg_start, len(result))\n",
      "C:\\Users\\Public\\Documents\\anaconda\\lib\\site-packages\\numpy\\lib\\function_base.py:380: RuntimeWarning: Mean of empty slice.\n",
      "  avg = a.mean(axis)\n",
      "C:\\Users\\Public\\Documents\\anaconda\\lib\\site-packages\\numpy\\core\\_methods.py:170: RuntimeWarning: invalid value encountered in double_scalars\n",
      "  ret = ret.dtype.type(ret / rcount)\n"
     ]
    },
    {
     "name": "stdout",
     "output_type": "stream",
     "text": [
      "Overall Train accuracy is: 0.9761187279090215\n",
      "Overall Test accuracy is: 0.4453\n",
      "Overall Test precision is: 0.3719\n",
      "2019\n",
      "############################### DONE STRATEGY LABEL ##############################\n"
     ]
    },
    {
     "name": "stderr",
     "output_type": "stream",
     "text": [
      "C:\\Users\\Public\\Documents\\anaconda\\lib\\site-packages\\xgboost\\sklearn.py:888: UserWarning: The use of label encoder in XGBClassifier is deprecated and will be removed in a future release. To remove this warning, do the following: 1) Pass option use_label_encoder=False when constructing XGBClassifier object; and 2) Encode your labels (y) as integers starting with 0, i.e. 0, 1, 2, ..., [num_class - 1].\n",
      "  warnings.warn(label_encoder_deprecation_msg, UserWarning)\n"
     ]
    },
    {
     "name": "stdout",
     "output_type": "stream",
     "text": [
      "Overall Train accuracy is: 0.9752875628509771\n",
      "Overall Test accuracy is: 0.726\n",
      "Overall Test precision is: 0.811\n",
      "2020\n",
      "############################### DONE STRATEGY LABEL ##############################\n"
     ]
    },
    {
     "name": "stderr",
     "output_type": "stream",
     "text": [
      "C:\\Users\\Public\\Documents\\anaconda\\lib\\site-packages\\xgboost\\sklearn.py:888: UserWarning: The use of label encoder in XGBClassifier is deprecated and will be removed in a future release. To remove this warning, do the following: 1) Pass option use_label_encoder=False when constructing XGBClassifier object; and 2) Encode your labels (y) as integers starting with 0, i.e. 0, 1, 2, ..., [num_class - 1].\n",
      "  warnings.warn(label_encoder_deprecation_msg, UserWarning)\n",
      "C:\\Users\\Public\\Documents\\anaconda\\lib\\site-packages\\sklearn\\metrics\\_classification.py:1221: UndefinedMetricWarning: Precision is ill-defined and being set to 0.0 due to no predicted samples. Use `zero_division` parameter to control this behavior.\n",
      "  _warn_prf(average, modifier, msg_start, len(result))\n"
     ]
    },
    {
     "name": "stdout",
     "output_type": "stream",
     "text": [
      "Overall Train accuracy is: 0.9666684407292183\n",
      "Overall Test accuracy is: 0.6293\n",
      "Overall Test precision is: 0.3406\n",
      "############################## DONE #################################\n",
      "Construction:\n",
      "############################### DONE STRATEGY LABEL ##############################\n"
     ]
    },
    {
     "name": "stderr",
     "output_type": "stream",
     "text": [
      "C:\\Users\\Public\\Documents\\anaconda\\lib\\site-packages\\xgboost\\sklearn.py:888: UserWarning: The use of label encoder in XGBClassifier is deprecated and will be removed in a future release. To remove this warning, do the following: 1) Pass option use_label_encoder=False when constructing XGBClassifier object; and 2) Encode your labels (y) as integers starting with 0, i.e. 0, 1, 2, ..., [num_class - 1].\n",
      "  warnings.warn(label_encoder_deprecation_msg, UserWarning)\n"
     ]
    },
    {
     "name": "stdout",
     "output_type": "stream",
     "text": [
      "Overall Train accuracy is: 0.9402568091297416\n",
      "Overall Test accuracy is: 0.6072\n",
      "Overall Test precision is: 0.6402\n",
      "2017\n",
      "############################### DONE STRATEGY LABEL ##############################\n"
     ]
    },
    {
     "name": "stderr",
     "output_type": "stream",
     "text": [
      "C:\\Users\\Public\\Documents\\anaconda\\lib\\site-packages\\xgboost\\sklearn.py:888: UserWarning: The use of label encoder in XGBClassifier is deprecated and will be removed in a future release. To remove this warning, do the following: 1) Pass option use_label_encoder=False when constructing XGBClassifier object; and 2) Encode your labels (y) as integers starting with 0, i.e. 0, 1, 2, ..., [num_class - 1].\n",
      "  warnings.warn(label_encoder_deprecation_msg, UserWarning)\n"
     ]
    },
    {
     "name": "stdout",
     "output_type": "stream",
     "text": [
      "Overall Train accuracy is: 0.9367269903554211\n",
      "Overall Test accuracy is: 0.6069\n",
      "Overall Test precision is: 0.6826\n",
      "2018\n",
      "############################### DONE STRATEGY LABEL ##############################\n"
     ]
    },
    {
     "name": "stderr",
     "output_type": "stream",
     "text": [
      "C:\\Users\\Public\\Documents\\anaconda\\lib\\site-packages\\xgboost\\sklearn.py:888: UserWarning: The use of label encoder in XGBClassifier is deprecated and will be removed in a future release. To remove this warning, do the following: 1) Pass option use_label_encoder=False when constructing XGBClassifier object; and 2) Encode your labels (y) as integers starting with 0, i.e. 0, 1, 2, ..., [num_class - 1].\n",
      "  warnings.warn(label_encoder_deprecation_msg, UserWarning)\n"
     ]
    },
    {
     "name": "stdout",
     "output_type": "stream",
     "text": [
      "Overall Train accuracy is: 0.9325737393385131\n",
      "Overall Test accuracy is: 0.5008\n",
      "Overall Test precision is: 0.3836\n",
      "2019\n",
      "############################### DONE STRATEGY LABEL ##############################\n"
     ]
    },
    {
     "name": "stderr",
     "output_type": "stream",
     "text": [
      "C:\\Users\\Public\\Documents\\anaconda\\lib\\site-packages\\xgboost\\sklearn.py:888: UserWarning: The use of label encoder in XGBClassifier is deprecated and will be removed in a future release. To remove this warning, do the following: 1) Pass option use_label_encoder=False when constructing XGBClassifier object; and 2) Encode your labels (y) as integers starting with 0, i.e. 0, 1, 2, ..., [num_class - 1].\n",
      "  warnings.warn(label_encoder_deprecation_msg, UserWarning)\n"
     ]
    },
    {
     "name": "stdout",
     "output_type": "stream",
     "text": [
      "Overall Train accuracy is: 0.9329798281670104\n",
      "Overall Test accuracy is: 0.6251\n",
      "Overall Test precision is: 0.6019\n",
      "2020\n",
      "############################### DONE STRATEGY LABEL ##############################\n"
     ]
    },
    {
     "name": "stderr",
     "output_type": "stream",
     "text": [
      "C:\\Users\\Public\\Documents\\anaconda\\lib\\site-packages\\xgboost\\sklearn.py:888: UserWarning: The use of label encoder in XGBClassifier is deprecated and will be removed in a future release. To remove this warning, do the following: 1) Pass option use_label_encoder=False when constructing XGBClassifier object; and 2) Encode your labels (y) as integers starting with 0, i.e. 0, 1, 2, ..., [num_class - 1].\n",
      "  warnings.warn(label_encoder_deprecation_msg, UserWarning)\n",
      "C:\\Users\\Public\\Documents\\anaconda\\lib\\site-packages\\numpy\\lib\\function_base.py:380: RuntimeWarning: Mean of empty slice.\n",
      "  avg = a.mean(axis)\n",
      "C:\\Users\\Public\\Documents\\anaconda\\lib\\site-packages\\numpy\\core\\_methods.py:170: RuntimeWarning: invalid value encountered in double_scalars\n",
      "  ret = ret.dtype.type(ret / rcount)\n",
      "C:\\Users\\Public\\Documents\\anaconda\\lib\\site-packages\\sklearn\\metrics\\_classification.py:1221: UndefinedMetricWarning: Precision is ill-defined and being set to 0.0 due to no predicted samples. Use `zero_division` parameter to control this behavior.\n",
      "  _warn_prf(average, modifier, msg_start, len(result))\n"
     ]
    },
    {
     "name": "stdout",
     "output_type": "stream",
     "text": [
      "Overall Train accuracy is: 0.9329728115736561\n",
      "Overall Test accuracy is: 0.493\n",
      "Overall Test precision is: 0.4603\n",
      "############################## DONE #################################\n",
      "Consumer Products & Services:\n",
      "############################### DONE STRATEGY LABEL ##############################\n"
     ]
    },
    {
     "name": "stderr",
     "output_type": "stream",
     "text": [
      "C:\\Users\\Public\\Documents\\anaconda\\lib\\site-packages\\xgboost\\sklearn.py:888: UserWarning: The use of label encoder in XGBClassifier is deprecated and will be removed in a future release. To remove this warning, do the following: 1) Pass option use_label_encoder=False when constructing XGBClassifier object; and 2) Encode your labels (y) as integers starting with 0, i.e. 0, 1, 2, ..., [num_class - 1].\n",
      "  warnings.warn(label_encoder_deprecation_msg, UserWarning)\n"
     ]
    },
    {
     "name": "stdout",
     "output_type": "stream",
     "text": [
      "Overall Train accuracy is: 0.8389398103420582\n",
      "Overall Test accuracy is: 0.5612\n",
      "Overall Test precision is: 0.56\n",
      "2017\n",
      "############################### DONE STRATEGY LABEL ##############################\n"
     ]
    },
    {
     "name": "stderr",
     "output_type": "stream",
     "text": [
      "C:\\Users\\Public\\Documents\\anaconda\\lib\\site-packages\\xgboost\\sklearn.py:888: UserWarning: The use of label encoder in XGBClassifier is deprecated and will be removed in a future release. To remove this warning, do the following: 1) Pass option use_label_encoder=False when constructing XGBClassifier object; and 2) Encode your labels (y) as integers starting with 0, i.e. 0, 1, 2, ..., [num_class - 1].\n",
      "  warnings.warn(label_encoder_deprecation_msg, UserWarning)\n"
     ]
    },
    {
     "name": "stdout",
     "output_type": "stream",
     "text": [
      "Overall Train accuracy is: 0.8299617682855649\n",
      "Overall Test accuracy is: 0.6176\n",
      "Overall Test precision is: 0.6423\n",
      "2018\n",
      "############################### DONE STRATEGY LABEL ##############################\n"
     ]
    },
    {
     "name": "stderr",
     "output_type": "stream",
     "text": [
      "C:\\Users\\Public\\Documents\\anaconda\\lib\\site-packages\\xgboost\\sklearn.py:888: UserWarning: The use of label encoder in XGBClassifier is deprecated and will be removed in a future release. To remove this warning, do the following: 1) Pass option use_label_encoder=False when constructing XGBClassifier object; and 2) Encode your labels (y) as integers starting with 0, i.e. 0, 1, 2, ..., [num_class - 1].\n",
      "  warnings.warn(label_encoder_deprecation_msg, UserWarning)\n"
     ]
    },
    {
     "name": "stdout",
     "output_type": "stream",
     "text": [
      "Overall Train accuracy is: 0.8267186668316189\n",
      "Overall Test accuracy is: 0.4744\n",
      "Overall Test precision is: 0.3081\n",
      "2019\n",
      "############################### DONE STRATEGY LABEL ##############################\n"
     ]
    },
    {
     "name": "stderr",
     "output_type": "stream",
     "text": [
      "C:\\Users\\Public\\Documents\\anaconda\\lib\\site-packages\\xgboost\\sklearn.py:888: UserWarning: The use of label encoder in XGBClassifier is deprecated and will be removed in a future release. To remove this warning, do the following: 1) Pass option use_label_encoder=False when constructing XGBClassifier object; and 2) Encode your labels (y) as integers starting with 0, i.e. 0, 1, 2, ..., [num_class - 1].\n",
      "  warnings.warn(label_encoder_deprecation_msg, UserWarning)\n"
     ]
    },
    {
     "name": "stdout",
     "output_type": "stream",
     "text": [
      "Overall Train accuracy is: 0.8233962820989386\n",
      "Overall Test accuracy is: 0.5263\n",
      "Overall Test precision is: 0.4735\n",
      "2020\n",
      "############################### DONE STRATEGY LABEL ##############################\n"
     ]
    },
    {
     "name": "stderr",
     "output_type": "stream",
     "text": [
      "C:\\Users\\Public\\Documents\\anaconda\\lib\\site-packages\\xgboost\\sklearn.py:888: UserWarning: The use of label encoder in XGBClassifier is deprecated and will be removed in a future release. To remove this warning, do the following: 1) Pass option use_label_encoder=False when constructing XGBClassifier object; and 2) Encode your labels (y) as integers starting with 0, i.e. 0, 1, 2, ..., [num_class - 1].\n",
      "  warnings.warn(label_encoder_deprecation_msg, UserWarning)\n"
     ]
    },
    {
     "name": "stdout",
     "output_type": "stream",
     "text": [
      "Overall Train accuracy is: 0.8166188713807957\n",
      "Overall Test accuracy is: 0.5202\n",
      "Overall Test precision is: 0.6016\n",
      "############################## DONE #################################\n",
      "Industrial Products & Services:\n",
      "############################### DONE STRATEGY LABEL ##############################\n"
     ]
    },
    {
     "name": "stderr",
     "output_type": "stream",
     "text": [
      "C:\\Users\\Public\\Documents\\anaconda\\lib\\site-packages\\xgboost\\sklearn.py:888: UserWarning: The use of label encoder in XGBClassifier is deprecated and will be removed in a future release. To remove this warning, do the following: 1) Pass option use_label_encoder=False when constructing XGBClassifier object; and 2) Encode your labels (y) as integers starting with 0, i.e. 0, 1, 2, ..., [num_class - 1].\n",
      "  warnings.warn(label_encoder_deprecation_msg, UserWarning)\n"
     ]
    },
    {
     "name": "stdout",
     "output_type": "stream",
     "text": [
      "Overall Train accuracy is: 0.8120668254547428\n",
      "Overall Test accuracy is: 0.571\n",
      "Overall Test precision is: 0.5572\n",
      "2017\n",
      "############################### DONE STRATEGY LABEL ##############################\n"
     ]
    },
    {
     "name": "stderr",
     "output_type": "stream",
     "text": [
      "C:\\Users\\Public\\Documents\\anaconda\\lib\\site-packages\\xgboost\\sklearn.py:888: UserWarning: The use of label encoder in XGBClassifier is deprecated and will be removed in a future release. To remove this warning, do the following: 1) Pass option use_label_encoder=False when constructing XGBClassifier object; and 2) Encode your labels (y) as integers starting with 0, i.e. 0, 1, 2, ..., [num_class - 1].\n",
      "  warnings.warn(label_encoder_deprecation_msg, UserWarning)\n"
     ]
    },
    {
     "name": "stdout",
     "output_type": "stream",
     "text": [
      "Overall Train accuracy is: 0.8031015834895875\n",
      "Overall Test accuracy is: 0.5775\n",
      "Overall Test precision is: 0.5974\n",
      "2018\n",
      "############################### DONE STRATEGY LABEL ##############################\n"
     ]
    },
    {
     "name": "stderr",
     "output_type": "stream",
     "text": [
      "C:\\Users\\Public\\Documents\\anaconda\\lib\\site-packages\\xgboost\\sklearn.py:888: UserWarning: The use of label encoder in XGBClassifier is deprecated and will be removed in a future release. To remove this warning, do the following: 1) Pass option use_label_encoder=False when constructing XGBClassifier object; and 2) Encode your labels (y) as integers starting with 0, i.e. 0, 1, 2, ..., [num_class - 1].\n",
      "  warnings.warn(label_encoder_deprecation_msg, UserWarning)\n"
     ]
    },
    {
     "name": "stdout",
     "output_type": "stream",
     "text": [
      "Overall Train accuracy is: 0.8005829078545496\n",
      "Overall Test accuracy is: 0.508\n",
      "Overall Test precision is: 0.3764\n",
      "2019\n",
      "############################### DONE STRATEGY LABEL ##############################\n"
     ]
    },
    {
     "name": "stderr",
     "output_type": "stream",
     "text": [
      "C:\\Users\\Public\\Documents\\anaconda\\lib\\site-packages\\xgboost\\sklearn.py:888: UserWarning: The use of label encoder in XGBClassifier is deprecated and will be removed in a future release. To remove this warning, do the following: 1) Pass option use_label_encoder=False when constructing XGBClassifier object; and 2) Encode your labels (y) as integers starting with 0, i.e. 0, 1, 2, ..., [num_class - 1].\n",
      "  warnings.warn(label_encoder_deprecation_msg, UserWarning)\n"
     ]
    },
    {
     "name": "stdout",
     "output_type": "stream",
     "text": [
      "Overall Train accuracy is: 0.7942784041521679\n",
      "Overall Test accuracy is: 0.5682\n",
      "Overall Test precision is: 0.516\n",
      "2020\n",
      "############################### DONE STRATEGY LABEL ##############################\n"
     ]
    },
    {
     "name": "stderr",
     "output_type": "stream",
     "text": [
      "C:\\Users\\Public\\Documents\\anaconda\\lib\\site-packages\\xgboost\\sklearn.py:888: UserWarning: The use of label encoder in XGBClassifier is deprecated and will be removed in a future release. To remove this warning, do the following: 1) Pass option use_label_encoder=False when constructing XGBClassifier object; and 2) Encode your labels (y) as integers starting with 0, i.e. 0, 1, 2, ..., [num_class - 1].\n",
      "  warnings.warn(label_encoder_deprecation_msg, UserWarning)\n"
     ]
    },
    {
     "name": "stdout",
     "output_type": "stream",
     "text": [
      "Overall Train accuracy is: 0.7884699256329424\n",
      "Overall Test accuracy is: 0.5938\n",
      "Overall Test precision is: 0.6419\n",
      "############################## DONE #################################\n",
      "Property:\n",
      "############################### DONE STRATEGY LABEL ##############################\n"
     ]
    },
    {
     "name": "stderr",
     "output_type": "stream",
     "text": [
      "C:\\Users\\Public\\Documents\\anaconda\\lib\\site-packages\\xgboost\\sklearn.py:888: UserWarning: The use of label encoder in XGBClassifier is deprecated and will be removed in a future release. To remove this warning, do the following: 1) Pass option use_label_encoder=False when constructing XGBClassifier object; and 2) Encode your labels (y) as integers starting with 0, i.e. 0, 1, 2, ..., [num_class - 1].\n",
      "  warnings.warn(label_encoder_deprecation_msg, UserWarning)\n"
     ]
    },
    {
     "name": "stdout",
     "output_type": "stream",
     "text": [
      "Overall Train accuracy is: 0.8722299452112786\n",
      "Overall Test accuracy is: 0.5774\n",
      "Overall Test precision is: 0.5589\n",
      "2017\n",
      "############################### DONE STRATEGY LABEL ##############################\n"
     ]
    },
    {
     "name": "stderr",
     "output_type": "stream",
     "text": [
      "C:\\Users\\Public\\Documents\\anaconda\\lib\\site-packages\\xgboost\\sklearn.py:888: UserWarning: The use of label encoder in XGBClassifier is deprecated and will be removed in a future release. To remove this warning, do the following: 1) Pass option use_label_encoder=False when constructing XGBClassifier object; and 2) Encode your labels (y) as integers starting with 0, i.e. 0, 1, 2, ..., [num_class - 1].\n",
      "  warnings.warn(label_encoder_deprecation_msg, UserWarning)\n"
     ]
    },
    {
     "name": "stdout",
     "output_type": "stream",
     "text": [
      "Overall Train accuracy is: 0.8628043723317337\n",
      "Overall Test accuracy is: 0.5717\n",
      "Overall Test precision is: 0.4612\n",
      "2018\n",
      "############################### DONE STRATEGY LABEL ##############################\n"
     ]
    },
    {
     "name": "stderr",
     "output_type": "stream",
     "text": [
      "C:\\Users\\Public\\Documents\\anaconda\\lib\\site-packages\\xgboost\\sklearn.py:888: UserWarning: The use of label encoder in XGBClassifier is deprecated and will be removed in a future release. To remove this warning, do the following: 1) Pass option use_label_encoder=False when constructing XGBClassifier object; and 2) Encode your labels (y) as integers starting with 0, i.e. 0, 1, 2, ..., [num_class - 1].\n",
      "  warnings.warn(label_encoder_deprecation_msg, UserWarning)\n"
     ]
    },
    {
     "name": "stdout",
     "output_type": "stream",
     "text": [
      "Overall Train accuracy is: 0.8610421818567687\n",
      "Overall Test accuracy is: 0.6565\n",
      "Overall Test precision is: 0.4288\n",
      "2019\n",
      "############################### DONE STRATEGY LABEL ##############################\n"
     ]
    },
    {
     "name": "stderr",
     "output_type": "stream",
     "text": [
      "C:\\Users\\Public\\Documents\\anaconda\\lib\\site-packages\\xgboost\\sklearn.py:888: UserWarning: The use of label encoder in XGBClassifier is deprecated and will be removed in a future release. To remove this warning, do the following: 1) Pass option use_label_encoder=False when constructing XGBClassifier object; and 2) Encode your labels (y) as integers starting with 0, i.e. 0, 1, 2, ..., [num_class - 1].\n",
      "  warnings.warn(label_encoder_deprecation_msg, UserWarning)\n"
     ]
    },
    {
     "name": "stdout",
     "output_type": "stream",
     "text": [
      "Overall Train accuracy is: 0.8574103645351143\n",
      "Overall Test accuracy is: 0.5484\n",
      "Overall Test precision is: 0.4424\n",
      "2020\n",
      "############################### DONE STRATEGY LABEL ##############################\n"
     ]
    },
    {
     "name": "stderr",
     "output_type": "stream",
     "text": [
      "C:\\Users\\Public\\Documents\\anaconda\\lib\\site-packages\\xgboost\\sklearn.py:888: UserWarning: The use of label encoder in XGBClassifier is deprecated and will be removed in a future release. To remove this warning, do the following: 1) Pass option use_label_encoder=False when constructing XGBClassifier object; and 2) Encode your labels (y) as integers starting with 0, i.e. 0, 1, 2, ..., [num_class - 1].\n",
      "  warnings.warn(label_encoder_deprecation_msg, UserWarning)\n"
     ]
    },
    {
     "name": "stdout",
     "output_type": "stream",
     "text": [
      "Overall Train accuracy is: 0.8562397042564504\n",
      "Overall Test accuracy is: 0.6292\n",
      "Overall Test precision is: 0.6152\n",
      "############################## DONE #################################\n",
      "Transportation & Logistics:\n",
      "############################### DONE STRATEGY LABEL ##############################\n"
     ]
    },
    {
     "name": "stderr",
     "output_type": "stream",
     "text": [
      "C:\\Users\\Public\\Documents\\anaconda\\lib\\site-packages\\xgboost\\sklearn.py:888: UserWarning: The use of label encoder in XGBClassifier is deprecated and will be removed in a future release. To remove this warning, do the following: 1) Pass option use_label_encoder=False when constructing XGBClassifier object; and 2) Encode your labels (y) as integers starting with 0, i.e. 0, 1, 2, ..., [num_class - 1].\n",
      "  warnings.warn(label_encoder_deprecation_msg, UserWarning)\n"
     ]
    },
    {
     "name": "stdout",
     "output_type": "stream",
     "text": [
      "Overall Train accuracy is: 0.9608099033981735\n",
      "Overall Test accuracy is: 0.4611\n",
      "Overall Test precision is: 0.4742\n",
      "2017\n",
      "############################### DONE STRATEGY LABEL ##############################\n"
     ]
    },
    {
     "name": "stderr",
     "output_type": "stream",
     "text": [
      "C:\\Users\\Public\\Documents\\anaconda\\lib\\site-packages\\xgboost\\sklearn.py:888: UserWarning: The use of label encoder in XGBClassifier is deprecated and will be removed in a future release. To remove this warning, do the following: 1) Pass option use_label_encoder=False when constructing XGBClassifier object; and 2) Encode your labels (y) as integers starting with 0, i.e. 0, 1, 2, ..., [num_class - 1].\n",
      "  warnings.warn(label_encoder_deprecation_msg, UserWarning)\n"
     ]
    },
    {
     "name": "stdout",
     "output_type": "stream",
     "text": [
      "Overall Train accuracy is: 0.9561828362545183\n",
      "Overall Test accuracy is: 0.5626\n",
      "Overall Test precision is: 0.505\n",
      "2018\n",
      "############################### DONE STRATEGY LABEL ##############################\n"
     ]
    },
    {
     "name": "stderr",
     "output_type": "stream",
     "text": [
      "C:\\Users\\Public\\Documents\\anaconda\\lib\\site-packages\\xgboost\\sklearn.py:888: UserWarning: The use of label encoder in XGBClassifier is deprecated and will be removed in a future release. To remove this warning, do the following: 1) Pass option use_label_encoder=False when constructing XGBClassifier object; and 2) Encode your labels (y) as integers starting with 0, i.e. 0, 1, 2, ..., [num_class - 1].\n",
      "  warnings.warn(label_encoder_deprecation_msg, UserWarning)\n",
      "C:\\Users\\Public\\Documents\\anaconda\\lib\\site-packages\\sklearn\\metrics\\_classification.py:1221: UndefinedMetricWarning: Precision is ill-defined and being set to 0.0 due to no predicted samples. Use `zero_division` parameter to control this behavior.\n",
      "  _warn_prf(average, modifier, msg_start, len(result))\n"
     ]
    },
    {
     "name": "stdout",
     "output_type": "stream",
     "text": [
      "Overall Train accuracy is: 0.9576386031901611\n",
      "Overall Test accuracy is: 0.5856\n",
      "Overall Test precision is: 0.3794\n",
      "2019\n",
      "############################### DONE STRATEGY LABEL ##############################\n"
     ]
    },
    {
     "name": "stderr",
     "output_type": "stream",
     "text": [
      "C:\\Users\\Public\\Documents\\anaconda\\lib\\site-packages\\xgboost\\sklearn.py:888: UserWarning: The use of label encoder in XGBClassifier is deprecated and will be removed in a future release. To remove this warning, do the following: 1) Pass option use_label_encoder=False when constructing XGBClassifier object; and 2) Encode your labels (y) as integers starting with 0, i.e. 0, 1, 2, ..., [num_class - 1].\n",
      "  warnings.warn(label_encoder_deprecation_msg, UserWarning)\n",
      "C:\\Users\\Public\\Documents\\anaconda\\lib\\site-packages\\sklearn\\metrics\\_classification.py:1221: UndefinedMetricWarning: Precision is ill-defined and being set to 0.0 due to no predicted samples. Use `zero_division` parameter to control this behavior.\n",
      "  _warn_prf(average, modifier, msg_start, len(result))\n"
     ]
    },
    {
     "name": "stdout",
     "output_type": "stream",
     "text": [
      "Overall Train accuracy is: 0.9561202197565777\n",
      "Overall Test accuracy is: 0.5727\n",
      "Overall Test precision is: 0.3622\n",
      "2020\n",
      "############################### DONE STRATEGY LABEL ##############################\n"
     ]
    },
    {
     "name": "stderr",
     "output_type": "stream",
     "text": [
      "C:\\Users\\Public\\Documents\\anaconda\\lib\\site-packages\\xgboost\\sklearn.py:888: UserWarning: The use of label encoder in XGBClassifier is deprecated and will be removed in a future release. To remove this warning, do the following: 1) Pass option use_label_encoder=False when constructing XGBClassifier object; and 2) Encode your labels (y) as integers starting with 0, i.e. 0, 1, 2, ..., [num_class - 1].\n",
      "  warnings.warn(label_encoder_deprecation_msg, UserWarning)\n"
     ]
    },
    {
     "name": "stdout",
     "output_type": "stream",
     "text": [
      "Overall Train accuracy is: 0.9504363277145121\n",
      "Overall Test accuracy is: 0.5921\n",
      "Overall Test precision is: 0.6621\n",
      "############################## DONE #################################\n",
      "Finance Services:\n",
      "############################### DONE STRATEGY LABEL ##############################\n"
     ]
    },
    {
     "name": "stderr",
     "output_type": "stream",
     "text": [
      "C:\\Users\\Public\\Documents\\anaconda\\lib\\site-packages\\xgboost\\sklearn.py:888: UserWarning: The use of label encoder in XGBClassifier is deprecated and will be removed in a future release. To remove this warning, do the following: 1) Pass option use_label_encoder=False when constructing XGBClassifier object; and 2) Encode your labels (y) as integers starting with 0, i.e. 0, 1, 2, ..., [num_class - 1].\n",
      "  warnings.warn(label_encoder_deprecation_msg, UserWarning)\n"
     ]
    },
    {
     "name": "stdout",
     "output_type": "stream",
     "text": [
      "Overall Train accuracy is: 0.9551029205818872\n",
      "Overall Test accuracy is: 0.7077\n",
      "Overall Test precision is: 0.7791\n",
      "2017\n",
      "############################### DONE STRATEGY LABEL ##############################\n"
     ]
    },
    {
     "name": "stderr",
     "output_type": "stream",
     "text": [
      "C:\\Users\\Public\\Documents\\anaconda\\lib\\site-packages\\xgboost\\sklearn.py:888: UserWarning: The use of label encoder in XGBClassifier is deprecated and will be removed in a future release. To remove this warning, do the following: 1) Pass option use_label_encoder=False when constructing XGBClassifier object; and 2) Encode your labels (y) as integers starting with 0, i.e. 0, 1, 2, ..., [num_class - 1].\n",
      "  warnings.warn(label_encoder_deprecation_msg, UserWarning)\n"
     ]
    },
    {
     "name": "stdout",
     "output_type": "stream",
     "text": [
      "Overall Train accuracy is: 0.9509934086909849\n",
      "Overall Test accuracy is: 0.5751\n",
      "Overall Test precision is: 0.6695\n",
      "2018\n",
      "############################### DONE STRATEGY LABEL ##############################\n"
     ]
    },
    {
     "name": "stderr",
     "output_type": "stream",
     "text": [
      "C:\\Users\\Public\\Documents\\anaconda\\lib\\site-packages\\xgboost\\sklearn.py:888: UserWarning: The use of label encoder in XGBClassifier is deprecated and will be removed in a future release. To remove this warning, do the following: 1) Pass option use_label_encoder=False when constructing XGBClassifier object; and 2) Encode your labels (y) as integers starting with 0, i.e. 0, 1, 2, ..., [num_class - 1].\n",
      "  warnings.warn(label_encoder_deprecation_msg, UserWarning)\n"
     ]
    },
    {
     "name": "stdout",
     "output_type": "stream",
     "text": [
      "Overall Train accuracy is: 0.9462869558964676\n",
      "Overall Test accuracy is: 0.6213\n",
      "Overall Test precision is: 0.795\n",
      "2019\n",
      "############################### DONE STRATEGY LABEL ##############################\n"
     ]
    },
    {
     "name": "stderr",
     "output_type": "stream",
     "text": [
      "C:\\Users\\Public\\Documents\\anaconda\\lib\\site-packages\\xgboost\\sklearn.py:888: UserWarning: The use of label encoder in XGBClassifier is deprecated and will be removed in a future release. To remove this warning, do the following: 1) Pass option use_label_encoder=False when constructing XGBClassifier object; and 2) Encode your labels (y) as integers starting with 0, i.e. 0, 1, 2, ..., [num_class - 1].\n",
      "  warnings.warn(label_encoder_deprecation_msg, UserWarning)\n",
      "C:\\Users\\Public\\Documents\\anaconda\\lib\\site-packages\\sklearn\\metrics\\_classification.py:1221: UndefinedMetricWarning: Precision is ill-defined and being set to 0.0 due to no predicted samples. Use `zero_division` parameter to control this behavior.\n",
      "  _warn_prf(average, modifier, msg_start, len(result))\n"
     ]
    },
    {
     "name": "stdout",
     "output_type": "stream",
     "text": [
      "Overall Train accuracy is: 0.945870178756335\n",
      "Overall Test accuracy is: 0.5051\n",
      "Overall Test precision is: 0.4609\n",
      "2020\n",
      "############################### DONE STRATEGY LABEL ##############################\n"
     ]
    },
    {
     "name": "stderr",
     "output_type": "stream",
     "text": [
      "C:\\Users\\Public\\Documents\\anaconda\\lib\\site-packages\\xgboost\\sklearn.py:888: UserWarning: The use of label encoder in XGBClassifier is deprecated and will be removed in a future release. To remove this warning, do the following: 1) Pass option use_label_encoder=False when constructing XGBClassifier object; and 2) Encode your labels (y) as integers starting with 0, i.e. 0, 1, 2, ..., [num_class - 1].\n",
      "  warnings.warn(label_encoder_deprecation_msg, UserWarning)\n",
      "C:\\Users\\Public\\Documents\\anaconda\\lib\\site-packages\\numpy\\lib\\function_base.py:380: RuntimeWarning: Mean of empty slice.\n",
      "  avg = a.mean(axis)\n",
      "C:\\Users\\Public\\Documents\\anaconda\\lib\\site-packages\\numpy\\core\\_methods.py:170: RuntimeWarning: invalid value encountered in double_scalars\n",
      "  ret = ret.dtype.type(ret / rcount)\n",
      "C:\\Users\\Public\\Documents\\anaconda\\lib\\site-packages\\sklearn\\metrics\\_classification.py:1221: UndefinedMetricWarning: Precision is ill-defined and being set to 0.0 due to no predicted samples. Use `zero_division` parameter to control this behavior.\n",
      "  _warn_prf(average, modifier, msg_start, len(result))\n"
     ]
    },
    {
     "name": "stdout",
     "output_type": "stream",
     "text": [
      "Overall Train accuracy is: 0.9403381721161331\n",
      "Overall Test accuracy is: 0.6775\n",
      "Overall Test precision is: 0.6388\n",
      "############################## DONE #################################\n",
      "Plantation:\n",
      "############################### DONE STRATEGY LABEL ##############################\n"
     ]
    },
    {
     "name": "stderr",
     "output_type": "stream",
     "text": [
      "C:\\Users\\Public\\Documents\\anaconda\\lib\\site-packages\\xgboost\\sklearn.py:888: UserWarning: The use of label encoder in XGBClassifier is deprecated and will be removed in a future release. To remove this warning, do the following: 1) Pass option use_label_encoder=False when constructing XGBClassifier object; and 2) Encode your labels (y) as integers starting with 0, i.e. 0, 1, 2, ..., [num_class - 1].\n",
      "  warnings.warn(label_encoder_deprecation_msg, UserWarning)\n"
     ]
    },
    {
     "name": "stdout",
     "output_type": "stream",
     "text": [
      "Overall Train accuracy is: 0.9350228553199141\n",
      "Overall Test accuracy is: 0.5554\n",
      "Overall Test precision is: 0.6253\n",
      "2017\n",
      "############################### DONE STRATEGY LABEL ##############################\n"
     ]
    },
    {
     "name": "stderr",
     "output_type": "stream",
     "text": [
      "C:\\Users\\Public\\Documents\\anaconda\\lib\\site-packages\\xgboost\\sklearn.py:888: UserWarning: The use of label encoder in XGBClassifier is deprecated and will be removed in a future release. To remove this warning, do the following: 1) Pass option use_label_encoder=False when constructing XGBClassifier object; and 2) Encode your labels (y) as integers starting with 0, i.e. 0, 1, 2, ..., [num_class - 1].\n",
      "  warnings.warn(label_encoder_deprecation_msg, UserWarning)\n"
     ]
    },
    {
     "name": "stdout",
     "output_type": "stream",
     "text": [
      "Overall Train accuracy is: 0.9308396278200864\n",
      "Overall Test accuracy is: 0.5657\n",
      "Overall Test precision is: 0.5842\n",
      "2018\n",
      "############################### DONE STRATEGY LABEL ##############################\n"
     ]
    },
    {
     "name": "stderr",
     "output_type": "stream",
     "text": [
      "C:\\Users\\Public\\Documents\\anaconda\\lib\\site-packages\\xgboost\\sklearn.py:888: UserWarning: The use of label encoder in XGBClassifier is deprecated and will be removed in a future release. To remove this warning, do the following: 1) Pass option use_label_encoder=False when constructing XGBClassifier object; and 2) Encode your labels (y) as integers starting with 0, i.e. 0, 1, 2, ..., [num_class - 1].\n",
      "  warnings.warn(label_encoder_deprecation_msg, UserWarning)\n"
     ]
    },
    {
     "name": "stdout",
     "output_type": "stream",
     "text": [
      "Overall Train accuracy is: 0.9281456896380305\n",
      "Overall Test accuracy is: 0.4725\n",
      "Overall Test precision is: 0.2888\n",
      "2019\n",
      "############################### DONE STRATEGY LABEL ##############################\n"
     ]
    },
    {
     "name": "stderr",
     "output_type": "stream",
     "text": [
      "C:\\Users\\Public\\Documents\\anaconda\\lib\\site-packages\\xgboost\\sklearn.py:888: UserWarning: The use of label encoder in XGBClassifier is deprecated and will be removed in a future release. To remove this warning, do the following: 1) Pass option use_label_encoder=False when constructing XGBClassifier object; and 2) Encode your labels (y) as integers starting with 0, i.e. 0, 1, 2, ..., [num_class - 1].\n",
      "  warnings.warn(label_encoder_deprecation_msg, UserWarning)\n",
      "C:\\Users\\Public\\Documents\\anaconda\\lib\\site-packages\\sklearn\\metrics\\_classification.py:1221: UndefinedMetricWarning: Precision is ill-defined and being set to 0.0 due to no predicted samples. Use `zero_division` parameter to control this behavior.\n",
      "  _warn_prf(average, modifier, msg_start, len(result))\n"
     ]
    },
    {
     "name": "stdout",
     "output_type": "stream",
     "text": [
      "Overall Train accuracy is: 0.9245884842304669\n",
      "Overall Test accuracy is: 0.6457\n",
      "Overall Test precision is: 0.4146\n",
      "2020\n",
      "############################### DONE STRATEGY LABEL ##############################\n"
     ]
    },
    {
     "name": "stderr",
     "output_type": "stream",
     "text": [
      "C:\\Users\\Public\\Documents\\anaconda\\lib\\site-packages\\xgboost\\sklearn.py:888: UserWarning: The use of label encoder in XGBClassifier is deprecated and will be removed in a future release. To remove this warning, do the following: 1) Pass option use_label_encoder=False when constructing XGBClassifier object; and 2) Encode your labels (y) as integers starting with 0, i.e. 0, 1, 2, ..., [num_class - 1].\n",
      "  warnings.warn(label_encoder_deprecation_msg, UserWarning)\n"
     ]
    },
    {
     "name": "stdout",
     "output_type": "stream",
     "text": [
      "Overall Train accuracy is: 0.9226809357773763\n",
      "Overall Test accuracy is: 0.6293\n",
      "Overall Test precision is: 0.6981\n",
      "############################## DONE #################################\n"
     ]
    }
   ],
   "source": [
    "sectors=['Healthcare',\n",
    "         'Telecommunications & Media',\n",
    "         'Technology',\n",
    "         'Utilities',\n",
    "        'Energy',\n",
    "        'Construction',\n",
    "         'Consumer Products & Services',\n",
    "         'Industrial Products & Services',\n",
    "         'Property',\n",
    "         'Transportation & Logistics',\n",
    "         'Finance Services',\n",
    "         'Plantation'\n",
    "]\n",
    "\n",
    "save_16=[]\n",
    "name_sector_16=[]\n",
    "year_16=[]\n",
    "\n",
    "save_17=[]\n",
    "name_sector_17=[]\n",
    "year_17=[]\n",
    "\n",
    "save_18=[]\n",
    "name_sector_18=[]\n",
    "year_18=[]\n",
    "\n",
    "save_19=[]\n",
    "name_sector_19=[]\n",
    "year_19=[]\n",
    "\n",
    "save_20=[]\n",
    "name_sector_20=[]\n",
    "year_20=[]\n",
    "\n",
    "for sector in sectors:\n",
    "    wl = sector_filter(sector)\n",
    "    print(f\"{sector}:\")\n",
    "    \n",
    "    #print(start_y)\n",
    "    X,y,df_all,avg_3,start_y= precision(wl,start_year=2016)\n",
    "    save_16.append(avg_3)\n",
    "    name_sector_16.append(sector)\n",
    "    year_16.append(start_y)\n",
    "    #print('############################## DONE #################################')    \n",
    "    \n",
    "    print(start_y+1)\n",
    "    X,y,df_all,avg_3,start_y= precision(wl,start_year=2017)\n",
    "    save_17.append(avg_3)\n",
    "    name_sector_17.append(sector)\n",
    "    year_17.append(start_y)\n",
    "    #print('############################## DONE #################################')\n",
    "    \n",
    "    print(start_y+1)\n",
    "    X,y,df_all,avg_3,start_y= precision(wl,start_year=2018)\n",
    "    save_18.append(avg_3)\n",
    "    name_sector_18.append(sector)\n",
    "    year_18.append(start_y)\n",
    "    #print('############################## DONE #################################')\n",
    "    \n",
    "    print(start_y+1)\n",
    "    X,y,df_all,avg_3,start_y= precision(wl,start_year=2019)\n",
    "    save_19.append(avg_3)\n",
    "    name_sector_19.append(sector)\n",
    "    year_19.append(start_y)    \n",
    "    #print('############################## DONE #################################')\n",
    "    \n",
    "    print(start_y+1)\n",
    "    X,y,df_all,avg_3,start_y= precision(wl,start_year=2020)\n",
    "    save_20.append(avg_3)\n",
    "    name_sector_20.append(sector)\n",
    "    year_20.append(start_y)\n",
    "    print('############################## DONE #################################')\n",
    "    \n",
    "\n",
    "    \n",
    "#totalresult=save_18.extend(save_19+save_20)\n",
    "#allsector=name_sector_18.extend(name_sector_19+name_sector_20)\n",
    "#record_y=year_18.extend(year_19+year_20)\n",
    "\n",
    "totalresult = save_16 + save_17 + save_18 +save_19 + save_20 \n",
    "allsector = name_sector_16 + name_sector_17 + name_sector_18+name_sector_19 + name_sector_20 \n",
    "record_y = year_16 + year_17 + year_18 + year_19 + year_20 \n",
    "\n",
    "\n",
    "backtest= {\n",
    "    \"Sector\": allsector,\n",
    "    \"Result_precision\": totalresult,\n",
    "    'Year': record_y\n",
    "}  \n",
    "\n",
    "# Save document for stochastic strategy\n",
    "df_precision = pd.DataFrame(backtest)"
   ]
  },
  {
   "cell_type": "code",
   "execution_count": 8,
   "metadata": {},
   "outputs": [],
   "source": [
    "#df_all = result_scaler.sort_values(by=\"Buy_Date\")"
   ]
  },
  {
   "cell_type": "code",
   "execution_count": 10,
   "metadata": {},
   "outputs": [
    {
     "data": {
      "text/html": [
       "<div>\n",
       "<style scoped>\n",
       "    .dataframe tbody tr th:only-of-type {\n",
       "        vertical-align: middle;\n",
       "    }\n",
       "\n",
       "    .dataframe tbody tr th {\n",
       "        vertical-align: top;\n",
       "    }\n",
       "\n",
       "    .dataframe thead th {\n",
       "        text-align: right;\n",
       "    }\n",
       "</style>\n",
       "<table border=\"1\" class=\"dataframe\">\n",
       "  <thead>\n",
       "    <tr style=\"text-align: right;\">\n",
       "      <th></th>\n",
       "      <th>Sector</th>\n",
       "      <th>Result_precision</th>\n",
       "      <th>Year</th>\n",
       "    </tr>\n",
       "  </thead>\n",
       "  <tbody>\n",
       "    <tr>\n",
       "      <th>0</th>\n",
       "      <td>Healthcare</td>\n",
       "      <td>0.6625</td>\n",
       "      <td>2016</td>\n",
       "    </tr>\n",
       "    <tr>\n",
       "      <th>1</th>\n",
       "      <td>Telecommunications &amp; Media</td>\n",
       "      <td>0.5851</td>\n",
       "      <td>2016</td>\n",
       "    </tr>\n",
       "    <tr>\n",
       "      <th>2</th>\n",
       "      <td>Technology</td>\n",
       "      <td>0.6333</td>\n",
       "      <td>2016</td>\n",
       "    </tr>\n",
       "    <tr>\n",
       "      <th>3</th>\n",
       "      <td>Utilities</td>\n",
       "      <td>0.5056</td>\n",
       "      <td>2016</td>\n",
       "    </tr>\n",
       "    <tr>\n",
       "      <th>4</th>\n",
       "      <td>Energy</td>\n",
       "      <td>0.5133</td>\n",
       "      <td>2016</td>\n",
       "    </tr>\n",
       "    <tr>\n",
       "      <th>5</th>\n",
       "      <td>Construction</td>\n",
       "      <td>0.6402</td>\n",
       "      <td>2016</td>\n",
       "    </tr>\n",
       "    <tr>\n",
       "      <th>6</th>\n",
       "      <td>Consumer Products &amp; Services</td>\n",
       "      <td>0.5600</td>\n",
       "      <td>2016</td>\n",
       "    </tr>\n",
       "    <tr>\n",
       "      <th>7</th>\n",
       "      <td>Industrial Products &amp; Services</td>\n",
       "      <td>0.5572</td>\n",
       "      <td>2016</td>\n",
       "    </tr>\n",
       "    <tr>\n",
       "      <th>8</th>\n",
       "      <td>Property</td>\n",
       "      <td>0.5589</td>\n",
       "      <td>2016</td>\n",
       "    </tr>\n",
       "    <tr>\n",
       "      <th>9</th>\n",
       "      <td>Transportation &amp; Logistics</td>\n",
       "      <td>0.4742</td>\n",
       "      <td>2016</td>\n",
       "    </tr>\n",
       "    <tr>\n",
       "      <th>10</th>\n",
       "      <td>Finance Services</td>\n",
       "      <td>0.7791</td>\n",
       "      <td>2016</td>\n",
       "    </tr>\n",
       "    <tr>\n",
       "      <th>11</th>\n",
       "      <td>Plantation</td>\n",
       "      <td>0.6253</td>\n",
       "      <td>2016</td>\n",
       "    </tr>\n",
       "    <tr>\n",
       "      <th>12</th>\n",
       "      <td>Healthcare</td>\n",
       "      <td>0.6778</td>\n",
       "      <td>2017</td>\n",
       "    </tr>\n",
       "    <tr>\n",
       "      <th>13</th>\n",
       "      <td>Telecommunications &amp; Media</td>\n",
       "      <td>0.7156</td>\n",
       "      <td>2017</td>\n",
       "    </tr>\n",
       "    <tr>\n",
       "      <th>14</th>\n",
       "      <td>Technology</td>\n",
       "      <td>0.6234</td>\n",
       "      <td>2017</td>\n",
       "    </tr>\n",
       "    <tr>\n",
       "      <th>15</th>\n",
       "      <td>Utilities</td>\n",
       "      <td>0.5264</td>\n",
       "      <td>2017</td>\n",
       "    </tr>\n",
       "    <tr>\n",
       "      <th>16</th>\n",
       "      <td>Energy</td>\n",
       "      <td>0.6975</td>\n",
       "      <td>2017</td>\n",
       "    </tr>\n",
       "    <tr>\n",
       "      <th>17</th>\n",
       "      <td>Construction</td>\n",
       "      <td>0.6826</td>\n",
       "      <td>2017</td>\n",
       "    </tr>\n",
       "    <tr>\n",
       "      <th>18</th>\n",
       "      <td>Consumer Products &amp; Services</td>\n",
       "      <td>0.6423</td>\n",
       "      <td>2017</td>\n",
       "    </tr>\n",
       "    <tr>\n",
       "      <th>19</th>\n",
       "      <td>Industrial Products &amp; Services</td>\n",
       "      <td>0.5974</td>\n",
       "      <td>2017</td>\n",
       "    </tr>\n",
       "    <tr>\n",
       "      <th>20</th>\n",
       "      <td>Property</td>\n",
       "      <td>0.4612</td>\n",
       "      <td>2017</td>\n",
       "    </tr>\n",
       "    <tr>\n",
       "      <th>21</th>\n",
       "      <td>Transportation &amp; Logistics</td>\n",
       "      <td>0.5050</td>\n",
       "      <td>2017</td>\n",
       "    </tr>\n",
       "    <tr>\n",
       "      <th>22</th>\n",
       "      <td>Finance Services</td>\n",
       "      <td>0.6695</td>\n",
       "      <td>2017</td>\n",
       "    </tr>\n",
       "    <tr>\n",
       "      <th>23</th>\n",
       "      <td>Plantation</td>\n",
       "      <td>0.5842</td>\n",
       "      <td>2017</td>\n",
       "    </tr>\n",
       "    <tr>\n",
       "      <th>24</th>\n",
       "      <td>Healthcare</td>\n",
       "      <td>0.4291</td>\n",
       "      <td>2018</td>\n",
       "    </tr>\n",
       "    <tr>\n",
       "      <th>25</th>\n",
       "      <td>Telecommunications &amp; Media</td>\n",
       "      <td>0.3526</td>\n",
       "      <td>2018</td>\n",
       "    </tr>\n",
       "    <tr>\n",
       "      <th>26</th>\n",
       "      <td>Technology</td>\n",
       "      <td>0.3944</td>\n",
       "      <td>2018</td>\n",
       "    </tr>\n",
       "    <tr>\n",
       "      <th>27</th>\n",
       "      <td>Utilities</td>\n",
       "      <td>0.4278</td>\n",
       "      <td>2018</td>\n",
       "    </tr>\n",
       "    <tr>\n",
       "      <th>28</th>\n",
       "      <td>Energy</td>\n",
       "      <td>0.3719</td>\n",
       "      <td>2018</td>\n",
       "    </tr>\n",
       "    <tr>\n",
       "      <th>29</th>\n",
       "      <td>Construction</td>\n",
       "      <td>0.3836</td>\n",
       "      <td>2018</td>\n",
       "    </tr>\n",
       "    <tr>\n",
       "      <th>30</th>\n",
       "      <td>Consumer Products &amp; Services</td>\n",
       "      <td>0.3081</td>\n",
       "      <td>2018</td>\n",
       "    </tr>\n",
       "    <tr>\n",
       "      <th>31</th>\n",
       "      <td>Industrial Products &amp; Services</td>\n",
       "      <td>0.3764</td>\n",
       "      <td>2018</td>\n",
       "    </tr>\n",
       "    <tr>\n",
       "      <th>32</th>\n",
       "      <td>Property</td>\n",
       "      <td>0.4288</td>\n",
       "      <td>2018</td>\n",
       "    </tr>\n",
       "    <tr>\n",
       "      <th>33</th>\n",
       "      <td>Transportation &amp; Logistics</td>\n",
       "      <td>0.3794</td>\n",
       "      <td>2018</td>\n",
       "    </tr>\n",
       "    <tr>\n",
       "      <th>34</th>\n",
       "      <td>Finance Services</td>\n",
       "      <td>0.7950</td>\n",
       "      <td>2018</td>\n",
       "    </tr>\n",
       "    <tr>\n",
       "      <th>35</th>\n",
       "      <td>Plantation</td>\n",
       "      <td>0.2888</td>\n",
       "      <td>2018</td>\n",
       "    </tr>\n",
       "    <tr>\n",
       "      <th>36</th>\n",
       "      <td>Healthcare</td>\n",
       "      <td>0.5407</td>\n",
       "      <td>2019</td>\n",
       "    </tr>\n",
       "    <tr>\n",
       "      <th>37</th>\n",
       "      <td>Telecommunications &amp; Media</td>\n",
       "      <td>0.5730</td>\n",
       "      <td>2019</td>\n",
       "    </tr>\n",
       "    <tr>\n",
       "      <th>38</th>\n",
       "      <td>Technology</td>\n",
       "      <td>0.6308</td>\n",
       "      <td>2019</td>\n",
       "    </tr>\n",
       "    <tr>\n",
       "      <th>39</th>\n",
       "      <td>Utilities</td>\n",
       "      <td>0.5333</td>\n",
       "      <td>2019</td>\n",
       "    </tr>\n",
       "    <tr>\n",
       "      <th>40</th>\n",
       "      <td>Energy</td>\n",
       "      <td>0.8110</td>\n",
       "      <td>2019</td>\n",
       "    </tr>\n",
       "    <tr>\n",
       "      <th>41</th>\n",
       "      <td>Construction</td>\n",
       "      <td>0.6019</td>\n",
       "      <td>2019</td>\n",
       "    </tr>\n",
       "    <tr>\n",
       "      <th>42</th>\n",
       "      <td>Consumer Products &amp; Services</td>\n",
       "      <td>0.4735</td>\n",
       "      <td>2019</td>\n",
       "    </tr>\n",
       "    <tr>\n",
       "      <th>43</th>\n",
       "      <td>Industrial Products &amp; Services</td>\n",
       "      <td>0.5160</td>\n",
       "      <td>2019</td>\n",
       "    </tr>\n",
       "    <tr>\n",
       "      <th>44</th>\n",
       "      <td>Property</td>\n",
       "      <td>0.4424</td>\n",
       "      <td>2019</td>\n",
       "    </tr>\n",
       "    <tr>\n",
       "      <th>45</th>\n",
       "      <td>Transportation &amp; Logistics</td>\n",
       "      <td>0.3622</td>\n",
       "      <td>2019</td>\n",
       "    </tr>\n",
       "    <tr>\n",
       "      <th>46</th>\n",
       "      <td>Finance Services</td>\n",
       "      <td>0.4609</td>\n",
       "      <td>2019</td>\n",
       "    </tr>\n",
       "    <tr>\n",
       "      <th>47</th>\n",
       "      <td>Plantation</td>\n",
       "      <td>0.4146</td>\n",
       "      <td>2019</td>\n",
       "    </tr>\n",
       "    <tr>\n",
       "      <th>48</th>\n",
       "      <td>Healthcare</td>\n",
       "      <td>0.6775</td>\n",
       "      <td>2020</td>\n",
       "    </tr>\n",
       "    <tr>\n",
       "      <th>49</th>\n",
       "      <td>Telecommunications &amp; Media</td>\n",
       "      <td>0.5683</td>\n",
       "      <td>2020</td>\n",
       "    </tr>\n",
       "    <tr>\n",
       "      <th>50</th>\n",
       "      <td>Technology</td>\n",
       "      <td>0.6264</td>\n",
       "      <td>2020</td>\n",
       "    </tr>\n",
       "    <tr>\n",
       "      <th>51</th>\n",
       "      <td>Utilities</td>\n",
       "      <td>0.5223</td>\n",
       "      <td>2020</td>\n",
       "    </tr>\n",
       "    <tr>\n",
       "      <th>52</th>\n",
       "      <td>Energy</td>\n",
       "      <td>0.3406</td>\n",
       "      <td>2020</td>\n",
       "    </tr>\n",
       "    <tr>\n",
       "      <th>53</th>\n",
       "      <td>Construction</td>\n",
       "      <td>0.4603</td>\n",
       "      <td>2020</td>\n",
       "    </tr>\n",
       "    <tr>\n",
       "      <th>54</th>\n",
       "      <td>Consumer Products &amp; Services</td>\n",
       "      <td>0.6016</td>\n",
       "      <td>2020</td>\n",
       "    </tr>\n",
       "    <tr>\n",
       "      <th>55</th>\n",
       "      <td>Industrial Products &amp; Services</td>\n",
       "      <td>0.6419</td>\n",
       "      <td>2020</td>\n",
       "    </tr>\n",
       "    <tr>\n",
       "      <th>56</th>\n",
       "      <td>Property</td>\n",
       "      <td>0.6152</td>\n",
       "      <td>2020</td>\n",
       "    </tr>\n",
       "    <tr>\n",
       "      <th>57</th>\n",
       "      <td>Transportation &amp; Logistics</td>\n",
       "      <td>0.6621</td>\n",
       "      <td>2020</td>\n",
       "    </tr>\n",
       "    <tr>\n",
       "      <th>58</th>\n",
       "      <td>Finance Services</td>\n",
       "      <td>0.6388</td>\n",
       "      <td>2020</td>\n",
       "    </tr>\n",
       "    <tr>\n",
       "      <th>59</th>\n",
       "      <td>Plantation</td>\n",
       "      <td>0.6981</td>\n",
       "      <td>2020</td>\n",
       "    </tr>\n",
       "  </tbody>\n",
       "</table>\n",
       "</div>"
      ],
      "text/plain": [
       "                            Sector  Result_precision  Year\n",
       "0                       Healthcare            0.6625  2016\n",
       "1       Telecommunications & Media            0.5851  2016\n",
       "2                       Technology            0.6333  2016\n",
       "3                        Utilities            0.5056  2016\n",
       "4                           Energy            0.5133  2016\n",
       "5                     Construction            0.6402  2016\n",
       "6     Consumer Products & Services            0.5600  2016\n",
       "7   Industrial Products & Services            0.5572  2016\n",
       "8                         Property            0.5589  2016\n",
       "9       Transportation & Logistics            0.4742  2016\n",
       "10                Finance Services            0.7791  2016\n",
       "11                      Plantation            0.6253  2016\n",
       "12                      Healthcare            0.6778  2017\n",
       "13      Telecommunications & Media            0.7156  2017\n",
       "14                      Technology            0.6234  2017\n",
       "15                       Utilities            0.5264  2017\n",
       "16                          Energy            0.6975  2017\n",
       "17                    Construction            0.6826  2017\n",
       "18    Consumer Products & Services            0.6423  2017\n",
       "19  Industrial Products & Services            0.5974  2017\n",
       "20                        Property            0.4612  2017\n",
       "21      Transportation & Logistics            0.5050  2017\n",
       "22                Finance Services            0.6695  2017\n",
       "23                      Plantation            0.5842  2017\n",
       "24                      Healthcare            0.4291  2018\n",
       "25      Telecommunications & Media            0.3526  2018\n",
       "26                      Technology            0.3944  2018\n",
       "27                       Utilities            0.4278  2018\n",
       "28                          Energy            0.3719  2018\n",
       "29                    Construction            0.3836  2018\n",
       "30    Consumer Products & Services            0.3081  2018\n",
       "31  Industrial Products & Services            0.3764  2018\n",
       "32                        Property            0.4288  2018\n",
       "33      Transportation & Logistics            0.3794  2018\n",
       "34                Finance Services            0.7950  2018\n",
       "35                      Plantation            0.2888  2018\n",
       "36                      Healthcare            0.5407  2019\n",
       "37      Telecommunications & Media            0.5730  2019\n",
       "38                      Technology            0.6308  2019\n",
       "39                       Utilities            0.5333  2019\n",
       "40                          Energy            0.8110  2019\n",
       "41                    Construction            0.6019  2019\n",
       "42    Consumer Products & Services            0.4735  2019\n",
       "43  Industrial Products & Services            0.5160  2019\n",
       "44                        Property            0.4424  2019\n",
       "45      Transportation & Logistics            0.3622  2019\n",
       "46                Finance Services            0.4609  2019\n",
       "47                      Plantation            0.4146  2019\n",
       "48                      Healthcare            0.6775  2020\n",
       "49      Telecommunications & Media            0.5683  2020\n",
       "50                      Technology            0.6264  2020\n",
       "51                       Utilities            0.5223  2020\n",
       "52                          Energy            0.3406  2020\n",
       "53                    Construction            0.4603  2020\n",
       "54    Consumer Products & Services            0.6016  2020\n",
       "55  Industrial Products & Services            0.6419  2020\n",
       "56                        Property            0.6152  2020\n",
       "57      Transportation & Logistics            0.6621  2020\n",
       "58                Finance Services            0.6388  2020\n",
       "59                      Plantation            0.6981  2020"
      ]
     },
     "execution_count": 10,
     "metadata": {},
     "output_type": "execute_result"
    }
   ],
   "source": [
    "df_precision"
   ]
  },
  {
   "cell_type": "code",
   "execution_count": 11,
   "metadata": {},
   "outputs": [],
   "source": [
    "#df_precision.to_csv (r'C:\\Users\\Mo Syamil\\Documents\\stochastic function\\Precision function.csv', index = False, header=True)"
   ]
  },
  {
   "cell_type": "code",
   "execution_count": 12,
   "metadata": {},
   "outputs": [],
   "source": [
    "sort_sector=df_precision.sort_values(by=\"Sector\")"
   ]
  },
  {
   "cell_type": "code",
   "execution_count": null,
   "metadata": {},
   "outputs": [],
   "source": []
  },
  {
   "cell_type": "markdown",
   "metadata": {},
   "source": [
    "### All sector yearly"
   ]
  },
  {
   "cell_type": "code",
   "execution_count": 93,
   "metadata": {
    "scrolled": false
   },
   "outputs": [
    {
     "name": "stdout",
     "output_type": "stream",
     "text": [
      "Healthcare:\n"
     ]
    },
    {
     "name": "stderr",
     "output_type": "stream",
     "text": [
      "C:\\Users\\Public\\Documents\\anaconda\\lib\\site-packages\\xgboost\\sklearn.py:888: UserWarning: The use of label encoder in XGBClassifier is deprecated and will be removed in a future release. To remove this warning, do the following: 1) Pass option use_label_encoder=False when constructing XGBClassifier object; and 2) Encode your labels (y) as integers starting with 0, i.e. 0, 1, 2, ..., [num_class - 1].\n",
      "  warnings.warn(label_encoder_deprecation_msg, UserWarning)\n",
      "C:\\Users\\Public\\Documents\\anaconda\\lib\\site-packages\\numpy\\lib\\function_base.py:380: RuntimeWarning: Mean of empty slice.\n",
      "  avg = a.mean(axis)\n",
      "C:\\Users\\Public\\Documents\\anaconda\\lib\\site-packages\\numpy\\core\\_methods.py:170: RuntimeWarning: invalid value encountered in double_scalars\n",
      "  ret = ret.dtype.type(ret / rcount)\n",
      "C:\\Users\\Public\\Documents\\anaconda\\lib\\site-packages\\sklearn\\metrics\\_classification.py:1221: UndefinedMetricWarning: Precision is ill-defined and being set to 0.0 due to no predicted samples. Use `zero_division` parameter to control this behavior.\n",
      "  _warn_prf(average, modifier, msg_start, len(result))\n"
     ]
    },
    {
     "name": "stdout",
     "output_type": "stream",
     "text": [
      "Overall Train accuracy is: 0.9849984431464626\n",
      "Overall Test accuracy is: 0.5028\n",
      "Overall Test precision is: 0.4291\n",
      "############################## DONE #################################\n",
      "Telecommunications & Media:\n"
     ]
    },
    {
     "name": "stderr",
     "output_type": "stream",
     "text": [
      "C:\\Users\\Public\\Documents\\anaconda\\lib\\site-packages\\xgboost\\sklearn.py:888: UserWarning: The use of label encoder in XGBClassifier is deprecated and will be removed in a future release. To remove this warning, do the following: 1) Pass option use_label_encoder=False when constructing XGBClassifier object; and 2) Encode your labels (y) as integers starting with 0, i.e. 0, 1, 2, ..., [num_class - 1].\n",
      "  warnings.warn(label_encoder_deprecation_msg, UserWarning)\n",
      "C:\\Users\\Public\\Documents\\anaconda\\lib\\site-packages\\sklearn\\metrics\\_classification.py:1221: UndefinedMetricWarning: Precision is ill-defined and being set to 0.0 due to no predicted samples. Use `zero_division` parameter to control this behavior.\n",
      "  _warn_prf(average, modifier, msg_start, len(result))\n"
     ]
    },
    {
     "name": "stdout",
     "output_type": "stream",
     "text": [
      "Overall Train accuracy is: 0.9816639956298397\n",
      "Overall Test accuracy is: 0.5402\n",
      "Overall Test precision is: 0.3526\n",
      "############################## DONE #################################\n",
      "Technology:\n"
     ]
    },
    {
     "name": "stderr",
     "output_type": "stream",
     "text": [
      "C:\\Users\\Public\\Documents\\anaconda\\lib\\site-packages\\xgboost\\sklearn.py:888: UserWarning: The use of label encoder in XGBClassifier is deprecated and will be removed in a future release. To remove this warning, do the following: 1) Pass option use_label_encoder=False when constructing XGBClassifier object; and 2) Encode your labels (y) as integers starting with 0, i.e. 0, 1, 2, ..., [num_class - 1].\n",
      "  warnings.warn(label_encoder_deprecation_msg, UserWarning)\n"
     ]
    },
    {
     "name": "stdout",
     "output_type": "stream",
     "text": [
      "Overall Train accuracy is: 0.915127017648723\n",
      "Overall Test accuracy is: 0.5046\n",
      "Overall Test precision is: 0.3924\n",
      "############################## DONE #################################\n",
      "Utilities:\n"
     ]
    },
    {
     "name": "stderr",
     "output_type": "stream",
     "text": [
      "C:\\Users\\Public\\Documents\\anaconda\\lib\\site-packages\\xgboost\\sklearn.py:888: UserWarning: The use of label encoder in XGBClassifier is deprecated and will be removed in a future release. To remove this warning, do the following: 1) Pass option use_label_encoder=False when constructing XGBClassifier object; and 2) Encode your labels (y) as integers starting with 0, i.e. 0, 1, 2, ..., [num_class - 1].\n",
      "  warnings.warn(label_encoder_deprecation_msg, UserWarning)\n",
      "C:\\Users\\Public\\Documents\\anaconda\\lib\\site-packages\\numpy\\lib\\function_base.py:380: RuntimeWarning: Mean of empty slice.\n",
      "  avg = a.mean(axis)\n",
      "C:\\Users\\Public\\Documents\\anaconda\\lib\\site-packages\\numpy\\core\\_methods.py:170: RuntimeWarning: invalid value encountered in double_scalars\n",
      "  ret = ret.dtype.type(ret / rcount)\n",
      "C:\\Users\\Public\\Documents\\anaconda\\lib\\site-packages\\sklearn\\metrics\\_classification.py:1221: UndefinedMetricWarning: Precision is ill-defined and being set to 0.0 due to no predicted samples. Use `zero_division` parameter to control this behavior.\n",
      "  _warn_prf(average, modifier, msg_start, len(result))\n"
     ]
    },
    {
     "name": "stdout",
     "output_type": "stream",
     "text": [
      "Overall Train accuracy is: 0.9928430195760747\n",
      "Overall Test accuracy is: 0.5412\n",
      "Overall Test precision is: 0.4278\n",
      "############################## DONE #################################\n",
      "Energy:\n"
     ]
    },
    {
     "name": "stderr",
     "output_type": "stream",
     "text": [
      "C:\\Users\\Public\\Documents\\anaconda\\lib\\site-packages\\xgboost\\sklearn.py:888: UserWarning: The use of label encoder in XGBClassifier is deprecated and will be removed in a future release. To remove this warning, do the following: 1) Pass option use_label_encoder=False when constructing XGBClassifier object; and 2) Encode your labels (y) as integers starting with 0, i.e. 0, 1, 2, ..., [num_class - 1].\n",
      "  warnings.warn(label_encoder_deprecation_msg, UserWarning)\n",
      "C:\\Users\\Public\\Documents\\anaconda\\lib\\site-packages\\sklearn\\metrics\\_classification.py:1221: UndefinedMetricWarning: Precision is ill-defined and being set to 0.0 due to no predicted samples. Use `zero_division` parameter to control this behavior.\n",
      "  _warn_prf(average, modifier, msg_start, len(result))\n",
      "C:\\Users\\Public\\Documents\\anaconda\\lib\\site-packages\\numpy\\lib\\function_base.py:380: RuntimeWarning: Mean of empty slice.\n",
      "  avg = a.mean(axis)\n",
      "C:\\Users\\Public\\Documents\\anaconda\\lib\\site-packages\\numpy\\core\\_methods.py:170: RuntimeWarning: invalid value encountered in double_scalars\n",
      "  ret = ret.dtype.type(ret / rcount)\n"
     ]
    },
    {
     "name": "stdout",
     "output_type": "stream",
     "text": [
      "Overall Train accuracy is: 0.9737899362962876\n",
      "Overall Test accuracy is: 0.4386\n",
      "Overall Test precision is: 0.3655\n",
      "############################## DONE #################################\n",
      "Construction:\n"
     ]
    },
    {
     "name": "stderr",
     "output_type": "stream",
     "text": [
      "C:\\Users\\Public\\Documents\\anaconda\\lib\\site-packages\\xgboost\\sklearn.py:888: UserWarning: The use of label encoder in XGBClassifier is deprecated and will be removed in a future release. To remove this warning, do the following: 1) Pass option use_label_encoder=False when constructing XGBClassifier object; and 2) Encode your labels (y) as integers starting with 0, i.e. 0, 1, 2, ..., [num_class - 1].\n",
      "  warnings.warn(label_encoder_deprecation_msg, UserWarning)\n"
     ]
    },
    {
     "name": "stdout",
     "output_type": "stream",
     "text": [
      "Overall Train accuracy is: 0.9287781099184059\n",
      "Overall Test accuracy is: 0.4723\n",
      "Overall Test precision is: 0.3525\n",
      "############################## DONE #################################\n"
     ]
    },
    {
     "data": {
      "text/plain": [
       "<BarContainer object of 6 artists>"
      ]
     },
     "execution_count": 93,
     "metadata": {},
     "output_type": "execute_result"
    },
    {
     "data": {
      "image/png": "[encoded data removed]",
      "text/plain": [
       "<Figure size 1440x720 with 1 Axes>"
      ]
     },
     "metadata": {
      "needs_background": "light"
     },
     "output_type": "display_data"
    }
   ],
   "source": [
    "sectors=['Healthcare',\n",
    "         'Telecommunications & Media',\n",
    "         'Technology',\n",
    "         'Utilities',\n",
    "        'Energy',\n",
    "        'Construction',\n",
    "         'Consumer Products & Services',\n",
    "         'Industrial Products & Services',\n",
    "         'Property',\n",
    "         'Transportation & Logistics',\n",
    "         'Finance Services',\n",
    "         'Plantation'\n",
    "]\n",
    "\n",
    "save=[]\n",
    "name_sector=[]\n",
    "for sector in sectors:\n",
    "    wl = sector_filter(sector)\n",
    "    print(f\"{sector}:\")\n",
    "    X,y,df_all,avg_3,start_y= precision(wl,start_year=2018)\n",
    "    save.append(avg_3)\n",
    "    name_sector.append(sector)\n",
    "    print('############################## DONE #################################')\n",
    "\n",
    "\n",
    "\n",
    "plt.figure(figsize=(20,10))\n",
    "plt.title('Precision {}'.format(start_y))\n",
    "plt.xlabel('Sector')\n",
    "plt.ylabel('Value of Precision')\n",
    "\n",
    "plt.bar(name_sector,save,0.6,color='g')"
   ]
  },
  {
   "cell_type": "code",
   "execution_count": null,
   "metadata": {},
   "outputs": [],
   "source": []
  }
 ],
 "metadata": {
  "kernelspec": {
   "display_name": "Python 3",
   "language": "python",
   "name": "python3"
  },
  "language_info": {
   "codemirror_mode": {
    "name": "ipython",
    "version": 3
   },
   "file_extension": ".py",
   "mimetype": "text/x-python",
   "name": "python",
   "nbconvert_exporter": "python",
   "pygments_lexer": "ipython3",
   "version": "3.8.5"
  }
 },
 "nbformat": 4,
 "nbformat_minor": 4
}
